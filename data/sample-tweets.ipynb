{
 "cells": [
  {
   "cell_type": "code",
   "execution_count": 1,
   "metadata": {
    "collapsed": true
   },
   "outputs": [],
   "source": [
    "from collections import defaultdict\n",
    "import csv \n",
    "import pdb\n",
    "\n",
    "import gensim\n",
    "from gensim import matutils, corpora\n",
    "from gensim.models.ldamodel import LdaModel\n",
    "import pandas as pd\n",
    "import nltk\n",
    "import statsmodels \n",
    "import statsmodels.api as sm\n",
    "import matplotlib.pyplot as plt \n",
    "import seaborn as sns\n",
    "import numpy as np\n",
    "\n",
    "import snowball"
   ]
  },
  {
   "cell_type": "code",
   "execution_count": 2,
   "metadata": {
    "collapsed": true
   },
   "outputs": [],
   "source": [
    "# all data\n",
    "tweet_data = pd.read_csv(\"CancerReport-clean-all-data-en.txt\", delimiter=\"\\t\", low_memory=False)"
   ]
  },
  {
   "cell_type": "code",
   "execution_count": 3,
   "metadata": {
    "collapsed": true
   },
   "outputs": [],
   "source": [
    "###\n",
    "# now to analyze the retweet counts; first pull out just the retweets\n",
    "retweets = tweet_data[tweet_data[\"retweet\"] == True]\n",
    "unique_retweet_id_list = list(set(retweets[\"retweet_id_str\"].tolist())) \n",
    "# group the tweets by the tweet they are, erm, retweeting\n",
    "grouped_retweets = retweets.groupby(\"retweet_id_str\")\n",
    "# then count up retweets and extract original (retweeted) text\n",
    "# see code in snowball.py for doing this\n",
    "orig_tweet_texts, retweet_counts = snowball._count_up_retweets(grouped_retweets)"
   ]
  },
  {
   "cell_type": "code",
   "execution_count": 4,
   "metadata": {
    "collapsed": true
   },
   "outputs": [],
   "source": [
    "###\n",
    "# topic modeling\n",
    "# kept_indices are the set of indices corresponding to tweets not discarded as noise \n",
    "toked_tweets, kept_indices = snowball.build_gensim_corpus(orig_tweet_texts, split_up_by_tag=False)\n",
    "lda, gensim_corpus, dictionary = snowball.gen_lda_model(toked_tweets)\n",
    "inferred_topic_matrix = lda.inference(gensim_corpus)[0]\n",
    "# renorm, due to weirdness in gensim (???)\n",
    "row_sums = inferred_topic_matrix.sum(axis=1)\n",
    "inferred_topic_matrix = inferred_topic_matrix / row_sums[:, np.newaxis]\n",
    "# remove the tweets that were cleaned/not included in gensim corpus\n",
    "retweet_counts = [retweet_counts[idx] for idx in kept_indices]\n",
    "orig_tweet_texts = [orig_tweet_texts[idx] for idx in kept_indices]"
   ]
  },
  {
   "cell_type": "code",
   "execution_count": 6,
   "metadata": {
    "collapsed": true
   },
   "outputs": [],
   "source": [
    "# estimate the topical composition of the original tweets\n",
    "orig_tweets_bow = [dictionary.doc2bow(tweet) for tweet in toked_tweets]\n",
    "orig_tweets_inferred_topics = [lda.get_document_topics(doc) for doc in orig_tweets_bow]\n",
    "\n",
    "# note: this is ascending order, so most re-tweeted are last.\n",
    "sorted_tweets = sorted(zip(retweet_counts, orig_tweet_texts, orig_tweets_inferred_topics))"
   ]
  },
  {
   "cell_type": "code",
   "execution_count": 7,
   "metadata": {
    "collapsed": false
   },
   "outputs": [
    {
     "name": "stdout",
     "output_type": "stream",
     "text": [
      "                            OLS Regression Results                            \n",
      "==============================================================================\n",
      "Dep. Variable:                      y   R-squared:                       0.005\n",
      "Model:                            OLS   Adj. R-squared:                  0.004\n",
      "Method:                 Least Squares   F-statistic:                     6.179\n",
      "Date:                Tue, 12 Jan 2016   Prob (F-statistic):           9.80e-09\n",
      "Time:                        14:42:38   Log-Likelihood:                -58731.\n",
      "No. Observations:               11556   AIC:                         1.175e+05\n",
      "Df Residuals:                   11546   BIC:                         1.176e+05\n",
      "Df Model:                           9                                         \n",
      "Covariance Type:            nonrobust                                         \n",
      "==============================================================================\n",
      "                 coef    std err          t      P>|t|      [95.0% Conf. Int.]\n",
      "------------------------------------------------------------------------------\n",
      "x1            -0.5462      2.410     -0.227      0.821        -5.271     4.179\n",
      "x2             0.1047      2.001      0.052      0.958        -3.817     4.026\n",
      "x3             5.0857      1.795      2.833      0.005         1.566     8.605\n",
      "x4             4.6728      1.742      2.682      0.007         1.258     8.088\n",
      "x5             1.3557      1.441      0.941      0.347        -1.468     4.179\n",
      "x6            15.6801      2.195      7.143      0.000        11.377    19.983\n",
      "x7             1.0670      1.467      0.727      0.467        -1.809     3.943\n",
      "x8             1.3483      1.643      0.820      0.412        -1.873     4.570\n",
      "x9             7.8568      1.525      5.153      0.000         4.868    10.846\n",
      "x10            1.6864      1.494      1.128      0.259        -1.243     4.616\n",
      "==============================================================================\n",
      "Omnibus:                    30727.962   Durbin-Watson:                   1.882\n",
      "Prob(Omnibus):                  0.000   Jarque-Bera (JB):        663398221.556\n",
      "Skew:                          32.026   Prob(JB):                         0.00\n",
      "Kurtosis:                    1175.037   Cond. No.                         2.29\n",
      "==============================================================================\n",
      "\n",
      "Warnings:\n",
      "[1] Standard Errors assume that the covariance matrix of the errors is correctly specified.\n"
     ]
    }
   ],
   "source": [
    "# this is just ordinary least squares (OLS)\n",
    "regression_results = sm.OLS(retweet_counts, inferred_topic_matrix).fit()\n",
    "print(regression_results.summary())"
   ]
  },
  {
   "cell_type": "code",
   "execution_count": 5,
   "metadata": {
    "collapsed": false
   },
   "outputs": [
    {
     "name": "stdout",
     "output_type": "stream",
     "text": [
      "topic 1:\n",
      " 0.058*co + 0.056*http + 0.050*de + 0.029*la + 0.021*gt + 0.018*du + 0.011*pm + 0.011*epcrchampionscup + 0.009*movie + 0.009*standwithpp\n",
      "\n",
      "topic 2:\n",
      " 0.046*co + 0.045*http + 0.035*le + 0.031*mcrcomeback + 0.025*loscrcl + 0.025*les + 0.021*est + 0.020*pour + 0.019*et + 0.018*vafcrcl\n",
      "\n",
      "topic 3:\n",
      " 0.054*msg + 0.039*crclub + 0.029*mammogram + 0.027*gurmeetramrahim + 0.026*co + 0.024*http + 0.017*amp + 0.014*msgthefilm + 0.013*get + 0.011*plannedparenthood\n",
      "\n",
      "topic 4:\n",
      " 0.114*co + 0.097*http + 0.029*https + 0.024*fightcancer + 0.020*gardasil + 0.018*help + 0.014*rt + 0.013*please + 0.013*hpv + 0.013*amp\n",
      "\n",
      "topic 5:\n",
      " 0.129*co + 0.123*http + 0.050*cancer + 0.031*prevention + 0.017*screening + 0.011*breast + 0.011*mammograms + 0.010*amp + 0.009*study + 0.009*breastcancer\n",
      "\n",
      "topic 6:\n",
      " 0.064*co + 0.060*http + 0.058*planned + 0.057*mammograms + 0.057*parenthood + 0.018*defundpp + 0.015*mammogram + 0.010*doesn + 0.010*women + 0.010*ji\n",
      "\n",
      "topic 7:\n",
      " 0.105*co + 0.101*http + 0.093*hpv + 0.050*vaccine + 0.043*ecrchat + 0.028*phdchat + 0.014*girls + 0.013*research + 0.012*amp + 0.011*gardasil\n",
      "\n",
      "topic 8:\n",
      " 0.050*colonoscopy + 0.032*pap + 0.020*smear + 0.015*like + 0.012*get + 0.011*know + 0.010*people + 0.010*getting + 0.010*icrc + 0.009*https\n",
      "\n",
      "topic 9:\n",
      " 0.067*cancer + 0.053*co + 0.047*http + 0.029*screening + 0.026*screenings + 0.026*breast + 0.026*women + 0.025*mammograms + 0.022*free + 0.020*amp\n",
      "\n",
      "topic 10:\n",
      " 0.120*cancer + 0.086*cervical + 0.073*co + 0.071*http + 0.024*screening + 0.023*women + 0.016*test + 0.010*amp + 0.010*tests + 0.009*early\n",
      "\n"
     ]
    }
   ],
   "source": [
    "# crude look at what these topics look like (top words in each)\n",
    "for topic_idx, topic in enumerate(lda.print_topics()):\n",
    "    print(\"topic %s:\\n %s\\n\" % (topic_idx+1, topic))"
   ]
  },
  {
   "cell_type": "code",
   "execution_count": 8,
   "metadata": {
    "collapsed": true
   },
   "outputs": [],
   "source": [
    "def _to_file(path, tweets, headers=[\"retweet count\", \"tweet\", \"topics\"]):\n",
    "    with open(path, 'w') as outf: \n",
    "        csv_w = csv.writer(outf)\n",
    "        csv_w.writerow(headers)\n",
    "        csv_w.writerows(tweets)"
   ]
  },
  {
   "cell_type": "code",
   "execution_count": 9,
   "metadata": {
    "collapsed": true
   },
   "outputs": [],
   "source": [
    "_to_file(\"50-most-retweeted.csv\", sorted_tweets[-50:])\n",
    "_to_file(\"50-least-retweeted.csv\", sorted_tweets[:50])"
   ]
  },
  {
   "cell_type": "code",
   "execution_count": 29,
   "metadata": {
    "collapsed": false
   },
   "outputs": [],
   "source": [
    "# now we sample representative tweets from top topics (per our regression)\n",
    "# these are 2,3,8 (when zero-indexd --corresponding to 3,4,9 above)\n",
    "def get_tweet_probs_for_topic(t_idx, tweets, tweet_topic_tuples, k=20):\n",
    "    # t_idx should be zero-indexed!!!\n",
    "    probs = []\n",
    "    for tw in tweet_topic_tuples:\n",
    "        topic_d = dict(tw)\n",
    "        try:\n",
    "            prob = topic_d[t_idx]\n",
    "        except:\n",
    "            prob = 0\n",
    "        probs.append(prob)\n",
    "    \n",
    "    return probs \n",
    "\n",
    "def top_tweets_for_topics(t_idx, tweets, tweet_topic_tuples, k=20, write_out=True):\n",
    "    topic_probs = get_tweet_probs_for_topic(t_idx, tweets, tweet_topic_tuples, k=k)\n",
    "    sorted_by_t = sorted(zip(topic_probs, tweets), reverse=True)\n",
    "    if write_out: \n",
    "        with open(\"top-%s-tweets-topic-%s.csv\" % (k, t_idx+1), 'w') as outf:\n",
    "            csv_w = csv.writer(outf)\n",
    "            csv_w.writerows(sorted_by_t)\n",
    "    return sorted_by_t[:k]"
   ]
  },
  {
   "cell_type": "code",
   "execution_count": 32,
   "metadata": {
    "collapsed": false
   },
   "outputs": [],
   "source": [
    "topic3_tweets = top_tweets_for_topics(2, orig_tweet_texts, orig_tweets_inferred_topics, k=50)\n",
    "topic4_tweets = top_tweets_for_topics(3, orig_tweet_texts, orig_tweets_inferred_topics, k=50)\n",
    "topic6_tweets = top_tweets_for_topics(5, orig_tweet_texts, orig_tweets_inferred_topics, k=50)\n",
    "topic9_tweets = top_tweets_for_topics(8, orig_tweet_texts, orig_tweets_inferred_topics, k=50)\n",
    "\n",
    "# for reference/contrast; this topic is totally uncorrelated\n",
    "topic2_tweets = top_tweets_for_topics(1, orig_tweet_texts, orig_tweets_inferred_topics, k=50)"
   ]
  },
  {
   "cell_type": "code",
   "execution_count": 31,
   "metadata": {
    "collapsed": false
   },
   "outputs": [
    {
     "data": {
      "text/plain": [
       "[(0.99918256130790206,\n",
       "  \"Thousands call Planned Parenthood for mammograms after Obama's false claim... http://t.co/Nsx0W5gc\"),\n",
       " (0.99918256130790206,\n",
       "  \"President's claim that Planned Parenthood provides mammograms debunked (again) http://t.co/F9Uvp6ji via @TwitchyTeam\"),\n",
       " (0.99918256130790206,\n",
       "  'President Obama Lies to the Country Again About Non-Existent Planned Parenthood Mammograms - Katie Pavlich http://t.co/228hE84T'),\n",
       " (0.99910089910089928,\n",
       "  \"Planned Parenthood: We don't do mammograms, but Obama said they did! http://t.co/AqaKDRdHrv via @waynedupreeshow #tcot #DefundPP\"),\n",
       " (0.99900110987791357,\n",
       "  \"President's claim that Planned Parenthood provides mammograms debunked (again) http://t.co/CcUx5f3J\"),\n",
       " (0.99900110987791357,\n",
       "  \"Planned Parenthood: uh, no, the President was wrong, we don't provide mammograms - http://t.co/xWiHNbGn\"),\n",
       " (0.99900110987791357,\n",
       "  \"Planned Parenthood: Obama Wrong, 'We Don't Provide Mammograms' http://t.co/t0tDGMdz #tcot\"),\n",
       " (0.99900110987791357,\n",
       "  \"Planned Parenthood Staff: The President is Wrong--We Don't Provide Mammograms. http://t.co/CSDybzHd\"),\n",
       " (0.99900110987791357,\n",
       "  'Planned Parenthood Staff: The President is Wrong, We Don’t Provide Mammograms http://t.co/JdG5GIvI #toldyouso'),\n",
       " (0.99900110987791357,\n",
       "  'Planned Parenthood Staff: The President is Wrong, We Don’t Provide Mammograms - http://t.co/HeUB8G3h #ObamaLies #SaveAmerica #RomneyRyan'),\n",
       " (0.99900110987791357,\n",
       "  'Planned Parenthood Admits It Does Not Do Mammograms for Women | http://t.co/IlTVhsmUge http://t.co/6T2mVrfvoX'),\n",
       " (0.99900110987791357,\n",
       "  'Obama falsely claims that Planned Parenthood provides mammograms  |   Twitchy http://t.co/ZVznzMPM'),\n",
       " (0.99900110987791357,\n",
       "  'Obama falsely claims Planned Parenthood provides mammograms. http://t.co/FvWuTko8 #OBAMALIES'),\n",
       " (0.99900110987791357,\n",
       "  'Obama Administration: Planned Parenthood Does not Perform Mammograms http://t.co/YHh2swzo via @townhallcom'),\n",
       " (0.99900110987791357,\n",
       "  \"Obama Admin Concedes Planned Parenthood Doesn't Do Mammograms http://t.co/n2I8bW0X\"),\n",
       " (0.9988764044943822,\n",
       "  \"Townhall - Reminder: Planned Parenthood Doesn't Perform Mammograms http://t.co/SZBAVmyH\"),\n",
       " (0.9988764044943822,\n",
       "  'Tapes show Planned Parenthood mammogram claims to be false http://t.co/XsvgoYeHQm'),\n",
       " (0.9988764044943822,\n",
       "  'Planned Parenthood’s Mammogram Lie http://t.co/nUYLYDjR05 http://t.co/mafICnPcJg'),\n",
       " (0.9988764044943822,\n",
       "  \"Planned Parenthood: Obama Wrong, 'We Don't Provide Mammograms':  http://t.co/L1QxRB9I\"),\n",
       " (0.9988764044943822,\n",
       "  \"Planned Parenthood: Obama Wrong, 'We Don't Provide Mammograms' http://t.co/TwLkWUYN\"),\n",
       " (0.9988764044943822,\n",
       "  \"Planned Parenthood's operations are only 3% abortions, the other 97% are for contraception, std tests, mammograms, NOT abortions\"),\n",
       " (0.9988764044943822,\n",
       "  'Planned Parenthood admits it does not do mammograms for women http://t.co/b7GLWhWN Via @LifeNews'),\n",
       " (0.9988764044943822,\n",
       "  'Obama Again Falsely Claims Planned Parenthood Does Mammograms:                                                  ... http://t.co/qBsB2XkD'),\n",
       " (0.9988764044943822,\n",
       "  \"Obama Admin Concedes Planned Parenthood Doesn't Do Mammograms http://t.co/WOZIvjsk @heritageactpa @MishyZ @SarahPalin_Blog @Chris_1791\"),\n",
       " (0.9988764044943822,\n",
       "  'Even Planned Parenthood itself admits it does not do mammograms http://t.co/adGoD6YEqG #ExposeCPC #tcot'),\n",
       " (0.9988764044943822,\n",
       "  \".@CecileRichards testifies under oath that Planned Parenthood doesn't provide mammograms. Compare to this: http://t.co/itoYXPxh79 @RyanTAnd\"),\n",
       " (0.9988764044943822,\n",
       "  '#imusicRCTI #imusicRCTI #imusicRCTI #imusicRCTI #imusicRCTI #imusicRCTI #imusicRCTI #imusicRCTI'),\n",
       " (0.9988764044943822,\n",
       "  '#imusicRCTI #imusicRCTI #imusicRCTI #imusicRCTI #imusicRCTI #imusicRCTI #imusicRCTI #imusicRCTI'),\n",
       " (0.99871611982881581,\n",
       "  'Planned Parenthood does not offer any mammograms to women http://t.co/ouBCT8ZbqO'),\n",
       " (0.99871611982881581,\n",
       "  'Planned Parenthood does not offer any mammograms to women http://t.co/ouBCT8ZbqO'),\n",
       " (0.99871611982881581,\n",
       "  'Planned Parenthood does not offer any mammograms to women http://t.co/Q3LH3LctZD'),\n",
       " (0.99871611982881581,\n",
       "  'Planned Parenthood Admits It Does Not Do Mammograms for Women http://t.co/M6aDM86B'),\n",
       " (0.99871611982881581,\n",
       "  'Mammogram services offered by Planned Parenthood  #ThingsWeTrustMoreThanObama http://t.co/GUcLDM3KTT'),\n",
       " (0.99871611982881581,\n",
       "  \"Free mammograms behind @AlexisDejoria 's @NHRA rig at #TheStrip @LVMotorSpeedway with @NVHC1977 http://t.co/AE6E03qkEE\"),\n",
       " (0.99871611982881581,\n",
       "  '@EvaLangoria Planned Parenthood Admits It Does Not Do Mammograms for Women http://t.co/N2aLlOSI #ladysmarts'),\n",
       " (0.99850249584026607,\n",
       "  'Obama lies: Planned Parenthood DOES NOT provide mammograms!'),\n",
       " (0.99850249584026607,\n",
       "  'Now, repeat after me: Planned Parenthood does NOT do mammograms. http://t.co/PxUwGjFS from @Bound4LIFE'),\n",
       " (0.99850249584026607,\n",
       "  'FACT: Planned Parenthood DOES NOT DO MAMMOGRAMS.  They PERFORM ABORTIONS.  #p2  #teaparty #Bible'),\n",
       " (0.99775561097256826,\n",
       "  'why does #maddow lie??? planned parenthood does not do mammograms'),\n",
       " (0.99775561097256826,\n",
       "  'Yang ikutan #fotoGANAS jangan lupa MUGnya dikasih atribut \"IMUSIC\" yah.. yang heboh!.. #imusicRCTI'),\n",
       " (0.99775561097256826,\n",
       "  'Terima kasih semua yang sudah menyaksikan imusic, sampai jumpa Sabtu depan warga imusic!! #imusicRCTI'),\n",
       " (0.99775561097256826, 'Planned Parenthood offers mammograms.  #Bullshitter'),\n",
       " (0.99775561097256826,\n",
       "  'Planned Parenthood does not provide mammograms #TXWomensHealth'),\n",
       " (0.99775561097256826, 'Planned Parenthood does not perform mammograms.'),\n",
       " (0.99775561097256826,\n",
       "  'PLANNED PARENTHOOD DOES NOT DO MAMMOGRAMS. #youlie #debates'),\n",
       " (0.99775561097256826,\n",
       "  'LIAR! Planned Parenthood does NOT provide mammograms!'),\n",
       " (0.99775561097256826,\n",
       "  'I Request ALL Salmaniacs To Trend Thiz . . #ETT33CrCE29Cr'),\n",
       " (0.99775561097256826,\n",
       "  '@Jayasurya_vip #MaariHits50CrCollection http://t.co/ypxblQAEhi'),\n",
       " (0.99700996677740883,\n",
       "  '“@OfficialKBB: #KathrynBernardoAtCandyAwards2014 #KathrynBernardoAtCRCA2014 http://t.co/Va3xXMzmKl”'),\n",
       " (0.99700996677740883, 'Main non ? #SMCRCL')]"
      ]
     },
     "execution_count": 31,
     "metadata": {},
     "output_type": "execute_result"
    }
   ],
   "source": [
    "topic6_tweets"
   ]
  },
  {
   "cell_type": "code",
   "execution_count": null,
   "metadata": {
    "collapsed": true
   },
   "outputs": [],
   "source": []
  }
 ],
 "metadata": {
  "kernelspec": {
   "display_name": "Python 3",
   "language": "python",
   "name": "python3"
  },
  "language_info": {
   "codemirror_mode": {
    "name": "ipython",
    "version": 3
   },
   "file_extension": ".py",
   "mimetype": "text/x-python",
   "name": "python",
   "nbconvert_exporter": "python",
   "pygments_lexer": "ipython3",
   "version": "3.4.3"
  }
 },
 "nbformat": 4,
 "nbformat_minor": 0
}
