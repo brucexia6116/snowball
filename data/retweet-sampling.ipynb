{
 "cells": [
  {
   "cell_type": "markdown",
   "metadata": {},
   "source": [
    "### Stratified sampling of tweets as a function of retweet counts\n",
    "\n",
    "The general idea is to pull out tweets for qualitative inspection that represent frequently and less-frequently re-tweeted tweets. We aim to control for the number of followers."
   ]
  },
  {
   "cell_type": "code",
   "execution_count": 17,
   "metadata": {
    "collapsed": true
   },
   "outputs": [],
   "source": [
    "from collections import defaultdict\n",
    "import csv \n",
    "import pdb\n",
    "import math \n",
    "import random\n",
    "\n",
    "import gensim\n",
    "from gensim import matutils, corpora\n",
    "from gensim.models.ldamodel import LdaModel\n",
    "\n",
    "import statsmodels \n",
    "import statsmodels.api as sm\n",
    "import matplotlib.pyplot as plt\n",
    "%matplotlib inline \n",
    "import seaborn as sns\n",
    "\n",
    "import numpy as np\n",
    "import scipy as sp\n",
    "import pandas as pd\n",
    "import sklearn \n",
    "\n",
    "import snowball"
   ]
  },
  {
   "cell_type": "code",
   "execution_count": 18,
   "metadata": {
    "collapsed": false
   },
   "outputs": [],
   "source": [
    "####\n",
    "# only using tweets that contain at least one term from \n",
    "# a whitelist!\n",
    "tweet_data = pd.read_csv(\"CancerReport-clean-whitelisted-en.txt\", delimiter=\"\\t\", low_memory=False)\n",
    "# pull out just the retweets\n",
    "retweets = tweet_data[tweet_data[\"retweet\"] == True]\n",
    "unique_retweet_id_list = list(set(retweets[\"retweet_id_str\"].tolist()))\n",
    "# group the tweets by the tweet they are, erm, retweeting\n",
    "grouped_retweets = retweets.groupby(\"retweet_id_str\")\n",
    "# then count up retweets and extract original (retweeted) text\n",
    "# see code in snowball.py for doing this\n",
    "orig_tweet_ids, orig_tweeter_names, orig_follower_counts, orig_tweet_texts, retweet_counts = snowball._count_up_retweets(grouped_retweets)\n",
    "\n",
    "# primary tweets (non-retweets)\n",
    "primary_tweets = tweet_data[tweet_data[\"retweet\"] == False]\n",
    "# exclude tweets that are already in our retweet set (i.e.,\n",
    "# exclude 'primary' versions of retweeted tweets, because \n",
    "# these are already accounted for)\n",
    "primary_tweets = primary_tweets[primary_tweets[\"tweet_id\"].isin(orig_tweet_ids) == False]\n",
    "# exclude the 10 or so tweets that are missing followers counts.\n",
    "primary_tweets = primary_tweets[primary_tweets[\"followers_count\"].isnull() == False]\n",
    "\n",
    "# now merge tweet sets (retweeted and not)\n",
    "orig_tweet_texts.extend(primary_tweets[\"tweet_text\"].values)\n",
    "# the assumption is that these have *not* been retweeted at all!\n",
    "# @TODO verify?\n",
    "retweet_counts.extend([0]*primary_tweets.shape[0])\n",
    "orig_follower_counts.extend(primary_tweets[\"followers_count\"])\n",
    "orig_tweeter_names.extend(primary_tweets[\"screen_name\"])\n",
    "orig_tweet_ids.extend(primary_tweets[\"tweet_id\"])"
   ]
  },
  {
   "cell_type": "code",
   "execution_count": 19,
   "metadata": {
    "collapsed": false
   },
   "outputs": [],
   "source": [
    "ranges = list(range(0, 100, 10))\n",
    "percentile_follower_counts = [\n",
    "    int(np.percentile(orig_follower_counts, p)) for p in ranges]"
   ]
  },
  {
   "cell_type": "markdown",
   "metadata": {},
   "source": [
    "Below I show the follower count for each decile"
   ]
  },
  {
   "cell_type": "code",
   "execution_count": 20,
   "metadata": {
    "collapsed": false
   },
   "outputs": [
    {
     "data": {
      "image/png": "[encoded data removed]",
      "text/plain": [
       "<matplotlib.figure.Figure at 0x11128bdd8>"
      ]
     },
     "metadata": {},
     "output_type": "display_data"
    }
   ],
   "source": [
    "sns.barplot(x=ranges, y=percentile_follower_counts)\n",
    "plt.xlabel(\"percentile\")\n",
    "plt.ylabel(\"number of followers\");"
   ]
  },
  {
   "cell_type": "markdown",
   "metadata": {},
   "source": [
    "Now calculate each user's percentile (we round to place them in the nearest ten bin)."
   ]
  },
  {
   "cell_type": "code",
   "execution_count": 21,
   "metadata": {
    "collapsed": false
   },
   "outputs": [],
   "source": [
    "user_percentiles = []\n",
    "for user_follower_count in orig_follower_counts:\n",
    "    \n",
    "    user_percentiles.append(\n",
    "        int(math.floor(min(sp.stats.percentileofscore(\n",
    "            orig_follower_counts, user_follower_count) / 10.0, 9.9)) * 10))"
   ]
  },
  {
   "cell_type": "markdown",
   "metadata": {},
   "source": [
    "Sanity check"
   ]
  },
  {
   "cell_type": "code",
   "execution_count": 22,
   "metadata": {
    "collapsed": false
   },
   "outputs": [
    {
     "data": {
      "text/plain": [
       "[(50, 467.0),\n",
       " (80, 1899.0),\n",
       " (0, 14.0),\n",
       " (50, 414.0),\n",
       " (80, 2258.0),\n",
       " (80, 3008.0),\n",
       " (20, 120.0),\n",
       " (10, 28.0),\n",
       " (70, 1187.0),\n",
       " (50, 407.0)]"
      ]
     },
     "execution_count": 22,
     "metadata": {},
     "output_type": "execute_result"
    }
   ],
   "source": [
    "list(zip(user_percentiles[0:10], orig_follower_counts))"
   ]
  },
  {
   "cell_type": "markdown",
   "metadata": {},
   "source": [
    "Now we want to get a sense for what constitutes \"popular\" and \"unpopular\" tweets within the respective percentiles. "
   ]
  },
  {
   "cell_type": "code",
   "execution_count": 23,
   "metadata": {
    "collapsed": false
   },
   "outputs": [],
   "source": [
    "def get_retweet_counts_with_follower_percentile(retweet_counts, user_percentiles, percentile):\n",
    "    retweet_counts_for_percentile = []\n",
    "    for idx, retweet_count in enumerate(retweet_counts):\n",
    "        if user_percentiles[idx] == percentile:\n",
    "           retweet_counts_for_percentile.append(retweet_counts[idx]) \n",
    "    return retweet_counts_for_percentile"
   ]
  },
  {
   "cell_type": "code",
   "execution_count": 24,
   "metadata": {
    "collapsed": false
   },
   "outputs": [],
   "source": [
    "retweet_counts_for_percentiles = [\n",
    "    get_retweet_counts_with_follower_percentile(\n",
    "            retweet_counts, user_percentiles, p) for p in ranges]"
   ]
  },
  {
   "cell_type": "code",
   "execution_count": 25,
   "metadata": {
    "collapsed": false
   },
   "outputs": [
    {
     "data": {
      "text/plain": [
       "{0, 10, 20, 30, 40, 50, 60, 70, 80, 90}"
      ]
     },
     "execution_count": 25,
     "metadata": {},
     "output_type": "execute_result"
    }
   ],
   "source": [
    "set(user_percentiles)"
   ]
  },
  {
   "cell_type": "code",
   "execution_count": 26,
   "metadata": {
    "collapsed": false
   },
   "outputs": [],
   "source": [
    "conditional_percentiles = []\n",
    "for idx, retweet_count in enumerate(retweet_counts):\n",
    "    #if idx % 100 == 0:\n",
    "    #    print(\"on tweet %s out of %s\" % (idx, len(retweet_counts)))\n",
    "    cur_follower_percentile = int(user_percentiles[idx]/10)\n",
    "    \n",
    "    percentile_retweet_counts = retweet_counts_for_percentiles[cur_follower_percentile]\n",
    "    \n",
    "    \n",
    "    # use the follower percentile to index into conditional \n",
    "    # percentiles\n",
    "    conditional_percentile = int(math.floor(min(sp.stats.percentileofscore(\n",
    "        percentile_retweet_counts, retweet_counts[idx])/10.0, 9.9)) * 10)\n",
    "    conditional_percentiles.append(conditional_percentile)"
   ]
  },
  {
   "cell_type": "code",
   "execution_count": 27,
   "metadata": {
    "collapsed": false
   },
   "outputs": [],
   "source": [
    "d = dict({\"tweet\": orig_tweet_texts, \"conditional_percentile\": conditional_percentiles,\n",
    "           \"follower_count\": orig_follower_counts, \"tweet_id\":orig_tweet_ids, \n",
    "           \"absolute_retweet_count\":retweet_counts, \n",
    "           \"follower_percentile\":user_percentiles})\n",
    "df = pd.DataFrame(d)"
   ]
  },
  {
   "cell_type": "code",
   "execution_count": 28,
   "metadata": {
    "collapsed": false
   },
   "outputs": [
    {
     "data": {
      "text/html": [
       "<div>\n",
       "<table border=\"1\" class=\"dataframe\">\n",
       "  <thead>\n",
       "    <tr style=\"text-align: right;\">\n",
       "      <th></th>\n",
       "      <th>absolute_retweet_count</th>\n",
       "      <th>conditional_percentile</th>\n",
       "      <th>follower_count</th>\n",
       "      <th>follower_percentile</th>\n",
       "      <th>tweet</th>\n",
       "      <th>tweet_id</th>\n",
       "    </tr>\n",
       "  </thead>\n",
       "  <tbody>\n",
       "    <tr>\n",
       "      <th>0</th>\n",
       "      <td>1</td>\n",
       "      <td>80</td>\n",
       "      <td>467</td>\n",
       "      <td>50</td>\n",
       "      <td>#news: British girl dies after cervical cancer...</td>\n",
       "      <td>4.477687e+09</td>\n",
       "    </tr>\n",
       "    <tr>\n",
       "      <th>1</th>\n",
       "      <td>1</td>\n",
       "      <td>80</td>\n",
       "      <td>1899</td>\n",
       "      <td>80</td>\n",
       "      <td>RT @SamValley We Wish You a Lucky Mammogram, a...</td>\n",
       "      <td>6.064162e+09</td>\n",
       "    </tr>\n",
       "    <tr>\n",
       "      <th>2</th>\n",
       "      <td>1</td>\n",
       "      <td>90</td>\n",
       "      <td>14</td>\n",
       "      <td>0</td>\n",
       "      <td>This week’s podcast: a new antibiotic for C. d...</td>\n",
       "      <td>3.364325e+16</td>\n",
       "    </tr>\n",
       "    <tr>\n",
       "      <th>3</th>\n",
       "      <td>1</td>\n",
       "      <td>80</td>\n",
       "      <td>414</td>\n",
       "      <td>50</td>\n",
       "      <td>i eat more pussy that cervical cancer.</td>\n",
       "      <td>4.823603e+16</td>\n",
       "    </tr>\n",
       "    <tr>\n",
       "      <th>4</th>\n",
       "      <td>1</td>\n",
       "      <td>80</td>\n",
       "      <td>2258</td>\n",
       "      <td>80</td>\n",
       "      <td>“@STRETCHMARKILLA: If you a dude and wear ankl...</td>\n",
       "      <td>7.615192e+16</td>\n",
       "    </tr>\n",
       "  </tbody>\n",
       "</table>\n",
       "</div>"
      ],
      "text/plain": [
       "   absolute_retweet_count  conditional_percentile  follower_count  \\\n",
       "0                       1                      80             467   \n",
       "1                       1                      80            1899   \n",
       "2                       1                      90              14   \n",
       "3                       1                      80             414   \n",
       "4                       1                      80            2258   \n",
       "\n",
       "   follower_percentile                                              tweet  \\\n",
       "0                   50  #news: British girl dies after cervical cancer...   \n",
       "1                   80  RT @SamValley We Wish You a Lucky Mammogram, a...   \n",
       "2                    0  This week’s podcast: a new antibiotic for C. d...   \n",
       "3                   50             i eat more pussy that cervical cancer.   \n",
       "4                   80  “@STRETCHMARKILLA: If you a dude and wear ankl...   \n",
       "\n",
       "       tweet_id  \n",
       "0  4.477687e+09  \n",
       "1  6.064162e+09  \n",
       "2  3.364325e+16  \n",
       "3  4.823603e+16  \n",
       "4  7.615192e+16  "
      ]
     },
     "execution_count": 28,
     "metadata": {},
     "output_type": "execute_result"
    }
   ],
   "source": [
    "df.head()"
   ]
  },
  {
   "cell_type": "markdown",
   "metadata": {},
   "source": [
    "Now sample!"
   ]
  },
  {
   "cell_type": "code",
   "execution_count": 29,
   "metadata": {
    "collapsed": false
   },
   "outputs": [
    {
     "name": "stderr",
     "output_type": "stream",
     "text": [
      "/anaconda/lib/python3.4/site-packages/matplotlib/collections.py:590: FutureWarning: elementwise comparison failed; returning scalar instead, but in the future will perform elementwise comparison\n",
      "  if self._edgecolors == str('face'):\n"
     ]
    },
    {
     "data": {
      "image/png": "[encoded data removed]",
      "text/plain": [
       "<matplotlib.figure.Figure at 0x110e19e80>"
      ]
     },
     "metadata": {},
     "output_type": "display_data"
    }
   ],
   "source": [
    "ax = sns.violinplot(x=\"follower_percentile\", y=\"absolute_retweet_count\", data=df);\n"
   ]
  },
  {
   "cell_type": "code",
   "execution_count": 30,
   "metadata": {
    "collapsed": false
   },
   "outputs": [],
   "source": [
    "n_to_sample = 20 # this many popular/unpopular tweets\n",
    "decile_d = {}\n",
    "decile_samples = []\n",
    "for percentile in ranges:\n",
    "    # popular/unpopular tweets in this decile\n",
    "    #decile_d = {}\n",
    "    percentile_tweets = df[df[\"follower_percentile\"] == percentile]\n",
    "    \n",
    "    popular_tweets = percentile_tweets.sort_values([\"conditional_percentile\"], ascending=[0])[:n_to_sample]\n",
    "    unpopular_tweets = percentile_tweets.sort_values([\"conditional_percentile\"], ascending=[1])[:n_to_sample]\n",
    "    \n",
    "\n",
    "    decile_d[\"popular\"] = popular_tweets\n",
    "    decile_d[\"unpopular\"] = unpopular_tweets    \n",
    "    decile_samples.append(decile_d)\n"
   ]
  },
  {
   "cell_type": "code",
   "execution_count": 31,
   "metadata": {
    "collapsed": false
   },
   "outputs": [],
   "source": [
    "for i, decile in enumerate(decile_samples):\n",
    "    decile[\"popular\"].to_csv(\"retweet-sampling/%s-popular-tweets.csv\" % i)\n",
    "    decile[\"unpopular\"].to_csv(\"retweet-sampling/%s-unpopular-tweets.csv\" % i)\n",
    "    "
   ]
  }
 ],
 "metadata": {
  "kernelspec": {
   "display_name": "Python 3",
   "language": "python",
   "name": "python3"
  },
  "language_info": {
   "codemirror_mode": {
    "name": "ipython",
    "version": 3
   },
   "file_extension": ".py",
   "mimetype": "text/x-python",
   "name": "python",
   "nbconvert_exporter": "python",
   "pygments_lexer": "ipython3",
   "version": "3.4.4"
  }
 },
 "nbformat": 4,
 "nbformat_minor": 0
}
