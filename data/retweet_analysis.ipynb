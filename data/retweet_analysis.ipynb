{
 "cells": [
  {
   "cell_type": "code",
   "execution_count": 2,
   "metadata": {
    "collapsed": false
   },
   "outputs": [],
   "source": [
    "from collections import defaultdict\n",
    "import csv \n",
    "\n",
    "import pdb\n",
    "import gensim\n",
    "from gensim import matutils, corpora\n",
    "from gensim.models.ldamodel import LdaModel\n",
    "import pandas as pd\n",
    "import nltk\n",
    "import statsmodels \n",
    "import statsmodels.api as sm\n",
    "import matplotlib.pyplot as plt\n",
    "%matplotlib inline \n",
    "import seaborn as sns\n",
    "import numpy as np\n",
    "\n",
    "import snowball"
   ]
  },
  {
   "cell_type": "code",
   "execution_count": 3,
   "metadata": {
    "collapsed": false
   },
   "outputs": [],
   "source": [
    "####\n",
    "# 1/15; only using tweets that contain at least one term from \n",
    "# a whitelist!\n",
    "tweet_data = pd.read_csv(\"CancerReport-clean-whitelisted-en.txt\", delimiter=\"\\t\", low_memory=False)"
   ]
  },
  {
   "cell_type": "code",
   "execution_count": 4,
   "metadata": {
    "collapsed": true
   },
   "outputs": [],
   "source": [
    "# pull out just the retweets\n",
    "retweets = tweet_data[tweet_data[\"retweet\"] == True]\n",
    "unique_retweet_id_list = list(set(retweets[\"retweet_id_str\"].tolist())) "
   ]
  },
  {
   "cell_type": "code",
   "execution_count": 5,
   "metadata": {
    "collapsed": true
   },
   "outputs": [],
   "source": [
    "# group the tweets by the tweet they are, erm, retweeting\n",
    "grouped_retweets = retweets.groupby(\"retweet_id_str\")\n",
    "# then count up retweets and extract original (retweeted) text\n",
    "# see code in snowball.py for doing this\n",
    "orig_tweet_texts, retweet_counts = snowball._count_up_retweets(grouped_retweets)"
   ]
  },
  {
   "cell_type": "code",
   "execution_count": 6,
   "metadata": {
    "collapsed": true
   },
   "outputs": [],
   "source": [
    "# primary tweets (non-retweets)\n",
    "primary_tweets = tweet_data[tweet_data[\"retweet\"] == False]\n",
    "# now merge tweet sets (retweeted and not)\n",
    "orig_tweet_texts.extend(primary_tweets[\"tweet_text\"].values)\n",
    "retweet_counts.extend([0]*primary_tweets.shape[0])\n",
    "f = lambda x : x if x <= 25 else 26\n",
    "clipped_retweet_counts = [f(n) for n in retweet_counts]"
   ]
  },
  {
   "cell_type": "code",
   "execution_count": 7,
   "metadata": {
    "collapsed": false
   },
   "outputs": [
    {
     "data": {
      "text/plain": [
       "[(0, 26)]"
      ]
     },
     "execution_count": 7,
     "metadata": {},
     "output_type": "execute_result"
    },
    {
     "data": {
      "image/png": "[encoded data removed]",
      "text/plain": [
       "<matplotlib.figure.Figure at 0x1121ab4e0>"
      ]
     },
     "metadata": {},
     "output_type": "display_data"
    }
   ],
   "source": [
    "sns.distplot(clipped_retweet_counts).set(xlim=(0, 26))"
   ]
  },
  {
   "cell_type": "code",
   "execution_count": 8,
   "metadata": {
    "collapsed": false
   },
   "outputs": [
    {
     "data": {
      "text/plain": [
       "[(0, 26)]"
      ]
     },
     "execution_count": 8,
     "metadata": {},
     "output_type": "execute_result"
    },
    {
     "data": {
      "image/png": "[encoded data removed]",
      "text/plain": [
       "<matplotlib.figure.Figure at 0x11145a128>"
      ]
     },
     "metadata": {},
     "output_type": "display_data"
    }
   ],
   "source": [
    "plt.clf()\n",
    "sns.distplot([n for n in clipped_retweet_counts if n>0]).set(xlim=(0, 26))"
   ]
  },
  {
   "cell_type": "code",
   "execution_count": 9,
   "metadata": {
    "collapsed": false
   },
   "outputs": [],
   "source": [
    "### \n",
    "# now topic modeling\n",
    "###\n",
    "\n",
    "# kept_indices are the set of indices corresponding to tweets not discarded as noise \n",
    "toked_tweets, kept_indices = snowball.build_gensim_corpus(orig_tweet_texts, split_up_by_tag=False)\n",
    "lda, gensim_corpus, dict_ = snowball.gen_lda_model(toked_tweets)\n",
    "inferred_topic_matrix = lda.inference(gensim_corpus)[0]\n",
    "# renorm, due to weirdness in gensim (???)\n",
    "row_sums = inferred_topic_matrix.sum(axis=1)\n",
    "inferred_topic_matrix = inferred_topic_matrix / row_sums[:, np.newaxis]\n",
    "\n",
    "# remove the tweets that were cleaned/not included in gensim corpus\n",
    "retweet_counts = [retweet_counts[idx] for idx in kept_indices]\n",
    "orig_tweet_texts = [orig_tweet_texts[idx] for idx in kept_indices]\n"
   ]
  },
  {
   "cell_type": "code",
   "execution_count": 10,
   "metadata": {
    "collapsed": false
   },
   "outputs": [
    {
     "name": "stdout",
     "output_type": "stream",
     "text": [
      "                            OLS Regression Results                            \n",
      "==============================================================================\n",
      "Dep. Variable:                      y   R-squared:                       0.001\n",
      "Model:                            OLS   Adj. R-squared:                  0.001\n",
      "Method:                 Least Squares   F-statistic:                     2.026\n",
      "Date:                Fri, 15 Jan 2016   Prob (F-statistic):             0.0327\n",
      "Time:                        08:37:16   Log-Likelihood:                -52458.\n",
      "No. Observations:               12720   AIC:                         1.049e+05\n",
      "Df Residuals:                   12710   BIC:                         1.050e+05\n",
      "Df Model:                           9                                         \n",
      "Covariance Type:            nonrobust                                         \n",
      "==============================================================================\n",
      "                 coef    std err          t      P>|t|      [95.0% Conf. Int.]\n",
      "------------------------------------------------------------------------------\n",
      "x1             0.1482      0.606      0.245      0.807        -1.039     1.336\n",
      "x2             0.5214      0.390      1.336      0.182        -0.243     1.286\n",
      "x3             0.4693      0.515      0.911      0.362        -0.540     1.479\n",
      "x4             0.3302      0.462      0.715      0.475        -0.575     1.236\n",
      "x5             1.0949      0.568      1.927      0.054        -0.019     2.209\n",
      "x6             4.6004      1.116      4.124      0.000         2.414     6.787\n",
      "x7             1.8126      0.584      3.106      0.002         0.669     2.956\n",
      "x8             0.1643      1.219      0.135      0.893        -2.224     2.553\n",
      "x9             0.0160      0.685      0.023      0.981        -1.327     1.359\n",
      "x10            0.1520      0.859      0.177      0.860        -1.531     1.835\n",
      "==============================================================================\n",
      "Omnibus:                    44701.578   Durbin-Watson:                   1.917\n",
      "Prob(Omnibus):                  0.000   Jarque-Bera (JB):      13975152837.891\n",
      "Skew:                          68.673   Prob(JB):                         0.00\n",
      "Kurtosis:                    5136.162   Cond. No.                         3.47\n",
      "==============================================================================\n",
      "\n",
      "Warnings:\n",
      "[1] Standard Errors assume that the covariance matrix of the errors is correctly specified.\n"
     ]
    }
   ],
   "source": [
    "###\n",
    "# and now regress retweet counts on inferred topic distributions (per tweet)\n",
    "###\n",
    "\n",
    "# this is just ordinary least squares (OLS)\n",
    "regression_results = sm.OLS(retweet_counts, inferred_topic_matrix).fit()\n",
    "print(regression_results.summary())"
   ]
  },
  {
   "cell_type": "code",
   "execution_count": 11,
   "metadata": {
    "collapsed": false
   },
   "outputs": [
    {
     "name": "stdout",
     "output_type": "stream",
     "text": [
      "topic 1:\n",
      " 0.129*co + 0.117*http + 0.070*hpv + 0.062*vaccine + 0.059*gardasil + 0.017*via + 0.016*https + 0.016*vaccines + 0.013*effects + 0.012*side\n",
      "\n",
      "topic 2:\n",
      " 0.138*cancer + 0.125*cervical + 0.084*co + 0.080*http + 0.024*women + 0.015*screening + 0.011*test + 0.009*amp + 0.009*year + 0.009*rt\n",
      "\n",
      "topic 3:\n",
      " 0.131*hpv + 0.083*co + 0.082*http + 0.044*vaccine + 0.016*girls + 0.014*human + 0.013*boys + 0.012*warts + 0.012*vaccines + 0.012*study\n",
      "\n",
      "topic 4:\n",
      " 0.107*co + 0.105*http + 0.099*hpv + 0.044*vaccine + 0.021*cancer + 0.019*vaccination + 0.013*girls + 0.011*study + 0.011*risk + 0.010*new\n",
      "\n",
      "topic 5:\n",
      " 0.177*pap + 0.121*smear + 0.047*smears + 0.019*get + 0.015*test + 0.014*rt + 0.009*dr + 0.009*lol + 0.009*women + 0.009*need\n",
      "\n",
      "topic 6:\n",
      " 0.055*hpv + 0.030*girls + 0.023*sex + 0.019*less + 0.018*teenage + 0.017*states + 0.016*likely + 0.015*documentary + 0.014*women + 0.014*adverse\n",
      "\n",
      "topic 7:\n",
      " 0.081*cancer + 0.076*cervical + 0.075*co + 0.075*http + 0.021*awareness + 0.012*amp + 0.010*know + 0.009*rt + 0.008*screening + 0.008*health\n",
      "\n",
      "topic 8:\n",
      " 0.060*cancer + 0.035*cervical + 0.026*hpv + 0.025*ve + 0.021*never + 0.019*nanny + 0.017*okoye + 0.016*causes + 0.016*use + 0.015*types\n",
      "\n",
      "topic 9:\n",
      " 0.097*hpv + 0.041*shot + 0.037*get + 0.027*like + 0.021*got + 0.015*gardasil + 0.015*would + 0.014*today + 0.013*right + 0.013*want\n",
      "\n",
      "topic 10:\n",
      " 0.069*co + 0.067*http + 0.043*gardasil + 0.031*hpv + 0.013*de + 0.013*le + 0.011*control + 0.010*make + 0.009*du + 0.009*sure\n",
      "\n"
     ]
    }
   ],
   "source": [
    "# print out top words for each topic; special attention to topic 1 and 8\n",
    "for topic_idx, topic in enumerate(lda.print_topics()):\n",
    "    print(\"topic %s:\\n %s\\n\" % (topic_idx+1, topic))"
   ]
  },
  {
   "cell_type": "code",
   "execution_count": 12,
   "metadata": {
    "collapsed": false
   },
   "outputs": [
    {
     "name": "stdout",
     "output_type": "stream",
     "text": [
      "BOMBSHELL: Merck's former doctor, Dr Bernard Dalbergue (France), predicts that Gardasil will become the greatest... http://t.co/ReCaiZEH8H\n",
      "\n",
      "Japan withdraws support for HPV vaccines due to infertility side effects http://t.co/6njxAmo4yL\n",
      "\n",
      "HPV Vaccine Victim Sues Merck | Gardasil Dangers http://t.co/KyWJqnTxWz via @mercola\n",
      "\n",
      "Japan withdraws support for HPV vaccines due to infertility side effects http://t.co/0DbjfkJ667\n",
      "\n",
      "France not convinced that #Gardasil is safe or effective - questions why Borax is in the vaccine http://t.co/F2HBoJPe #vaxfax\n",
      "\n",
      "France not convinced that #Gardasil is safe or effective - questions why Borax is in the vaccine http://t.co/lXzf2bkxfY #vaxfax\n",
      "\n",
      "Japan withdraws support for HPV vaccines due to infertility side effects http://t.co/MJ4ofcPXyn\n",
      "\n",
      "The Gardasil Problem: How the U.S. Lost Faith in a Promising Vaccine  http://t.co/MDahwSvVMa by @matthewherper via @Forbes\n",
      "\n",
      "#Japan withdraws support for HPV vaccines due to infertility side effects: http://t.co/DsFUmk8t90\n",
      "\n",
      "#Japan withdraws support for HPV #vaccines due to infertility side effects: http://t.co/udiMySB89M\n",
      "\n",
      "Japan withdraws support for HPV #vaccines due to infertility side effects: http://t.co/uuv0H4nptr\n",
      "\n",
      "Japan withdraws support for HPV vaccines due to infertility side effects http://t.co/XN3nuBN9mq\n",
      "\n",
      "Medical Study Confirms #Gardasil #Dangers Exposed #health #HPV #VPH #vaccine http://t.co/opPyZYoMVd @Patetski\n",
      "\n",
      "Most #Gardasil 'safety' data discovered to be fraudulent #HPV #vaccine #cervarix #health http://t.co/lr60zd0PE3\n",
      "\n",
      "Medical Study Confirms #Gardasil #Dangers Exposed #health #HPV #VPH #vaccine http://t.co/opPyZYoMVd @OMGJessicaP\n",
      "\n",
      "Japan withdraws support for HPV vaccines due to infertility side effects http://t.co/8t3qsMXUF6 via @HealthRanger\n",
      "\n",
      "Japan withdraws support for HPV vaccines due to infertility side effects http://t.co/zEA35x9m1Z via @HealthRanger\n",
      "\n",
      "Japan withdraws support for HPV vaccines due to infertility side effects http://t.co/7MyG0cwlgS via @HealthRanger\n",
      "\n",
      "HPV Vaccine: Israel Health Ministry Considers Canceling Vaccination Due to Side Effects: A new article publish... http://t.co/3Bf40WpGru\n",
      "\n",
      "INFERTILITY SIDE EFFECTS: Japan withdraws support for HPV vaccines due to infertility side effects http://t.co/4LP6t9kwpQ #tcot\n"
     ]
    }
   ],
   "source": [
    "top_topic_tweet_indices = inferred_topic_matrix[:,0].argsort()[-20:]\n",
    "print(\"\\n\\n\".join([orig_tweet_texts[idx] for idx in top_topic_tweet_indices]))"
   ]
  },
  {
   "cell_type": "code",
   "execution_count": null,
   "metadata": {
    "collapsed": false
   },
   "outputs": [],
   "source": []
  },
  {
   "cell_type": "code",
   "execution_count": null,
   "metadata": {
    "collapsed": true
   },
   "outputs": [],
   "source": []
  }
 ],
 "metadata": {
  "kernelspec": {
   "display_name": "Python 3",
   "language": "python",
   "name": "python3"
  },
  "language_info": {
   "codemirror_mode": {
    "name": "ipython",
    "version": 3
   },
   "file_extension": ".py",
   "mimetype": "text/x-python",
   "name": "python",
   "nbconvert_exporter": "python",
   "pygments_lexer": "ipython3",
   "version": "3.4.3"
  }
 },
 "nbformat": 4,
 "nbformat_minor": 0
}
