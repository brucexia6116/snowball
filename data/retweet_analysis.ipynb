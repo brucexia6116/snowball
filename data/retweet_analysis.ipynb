{
 "cells": [
  {
   "cell_type": "code",
   "execution_count": 1,
   "metadata": {
    "collapsed": false
   },
   "outputs": [],
   "source": [
    "from collections import defaultdict\n",
    "import csv \n",
    "\n",
    "import pdb\n",
    "import gensim\n",
    "from gensim import matutils, corpora\n",
    "from gensim.models.ldamodel import LdaModel\n",
    "import pandas as pd\n",
    "import nltk\n",
    "import statsmodels \n",
    "import statsmodels.api as sm\n",
    "import matplotlib.pyplot as plt\n",
    "%matplotlib inline \n",
    "import seaborn as sns\n",
    "import numpy as np\n",
    "\n",
    "import snowball"
   ]
  },
  {
   "cell_type": "code",
   "execution_count": 2,
   "metadata": {
    "collapsed": false
   },
   "outputs": [],
   "source": [
    "# all data\n",
    "tweet_data = pd.read_csv(\"CancerReport-clean-all-data-en.txt\", delimiter=\"\\t\", low_memory=False)"
   ]
  },
  {
   "cell_type": "code",
   "execution_count": 3,
   "metadata": {
    "collapsed": true
   },
   "outputs": [],
   "source": [
    "# pull out just the retweets\n",
    "retweets = tweet_data[tweet_data[\"retweet\"] == True]\n",
    "unique_retweet_id_list = list(set(retweets[\"retweet_id_str\"].tolist()))"
   ]
  },
  {
   "cell_type": "code",
   "execution_count": 4,
   "metadata": {
    "collapsed": true
   },
   "outputs": [],
   "source": [
    "# group the tweets by the tweet they are, erm, retweeting\n",
    "grouped_retweets = retweets.groupby(\"retweet_id_str\")\n",
    "# then count up retweets and extract original (retweeted) text\n",
    "# see code in snowball.py for doing this\n",
    "orig_tweet_texts, retweet_counts = snowball._count_up_retweets(grouped_retweets)"
   ]
  },
  {
   "cell_type": "code",
   "execution_count": 5,
   "metadata": {
    "collapsed": true
   },
   "outputs": [],
   "source": [
    "# primary tweets (non-retweets)\n",
    "primary_tweets = tweet_data[tweet_data[\"retweet\"] == False]\n",
    "# now merge tweet sets (retweeted and not)\n",
    "orig_tweet_texts.extend(primary_tweets[\"tweet_text\"].values)\n",
    "retweet_counts.extend([0]*primary_tweets.shape[0])\n",
    "f = lambda x : x if x <= 25 else 26\n",
    "clipped_retweet_counts = [f(n) for n in retweet_counts]"
   ]
  },
  {
   "cell_type": "code",
   "execution_count": 6,
   "metadata": {
    "collapsed": false
   },
   "outputs": [
    {
     "data": {
      "text/plain": [
       "[(0, 26)]"
      ]
     },
     "execution_count": 6,
     "metadata": {},
     "output_type": "execute_result"
    },
    {
     "data": {
      "image/png": "[encoded data removed]",
      "text/plain": [
       "<matplotlib.figure.Figure at 0x1183a4ba8>"
      ]
     },
     "metadata": {},
     "output_type": "display_data"
    }
   ],
   "source": [
    "sns.distplot(clipped_retweet_counts).set(xlim=(0, 26))"
   ]
  },
  {
   "cell_type": "code",
   "execution_count": 9,
   "metadata": {
    "collapsed": false
   },
   "outputs": [
    {
     "data": {
      "text/plain": [
       "[(0, 26)]"
      ]
     },
     "execution_count": 9,
     "metadata": {},
     "output_type": "execute_result"
    },
    {
     "data": {
      "image/png": "[encoded data removed]",
      "text/plain": [
       "<matplotlib.figure.Figure at 0x1102e3908>"
      ]
     },
     "metadata": {},
     "output_type": "display_data"
    }
   ],
   "source": [
    "plt.clf()\n",
    "sns.distplot([n for n in clipped_retweet_counts if n>0]).set(xlim=(0, 26))"
   ]
  },
  {
   "cell_type": "code",
   "execution_count": 10,
   "metadata": {
    "collapsed": false
   },
   "outputs": [],
   "source": [
    "### \n",
    "# now topic modeling\n",
    "###\n",
    "\n",
    "# kept_indices are the set of indices corresponding to tweets not discarded as noise \n",
    "toked_tweets, kept_indices = snowball.build_gensim_corpus(orig_tweet_texts, split_up_by_tag=False)\n",
    "lda, gensim_corpus, dict_ = snowball.gen_lda_model(toked_tweets)\n",
    "inferred_topic_matrix = lda.inference(gensim_corpus)[0]\n",
    "# renorm, due to weirdness in gensim (???)\n",
    "row_sums = inferred_topic_matrix.sum(axis=1)\n",
    "inferred_topic_matrix = inferred_topic_matrix / row_sums[:, np.newaxis]\n",
    "\n",
    "# remove the tweets that were cleaned/not included in gensim corpus\n",
    "retweet_counts = [retweet_counts[idx] for idx in kept_indices]\n",
    "orig_tweet_texts = [orig_tweet_texts[idx] for idx in kept_indices]\n"
   ]
  },
  {
   "cell_type": "code",
   "execution_count": 11,
   "metadata": {
    "collapsed": false
   },
   "outputs": [
    {
     "name": "stdout",
     "output_type": "stream",
     "text": [
      "                            OLS Regression Results                            \n",
      "==============================================================================\n",
      "Dep. Variable:                      y   R-squared:                       0.001\n",
      "Model:                            OLS   Adj. R-squared:                  0.001\n",
      "Method:                 Least Squares   F-statistic:                     6.119\n",
      "Date:                Wed, 16 Dec 2015   Prob (F-statistic):           1.20e-08\n",
      "Time:                        14:45:17   Log-Likelihood:            -1.9505e+05\n",
      "No. Observations:               43954   AIC:                         3.901e+05\n",
      "Df Residuals:                   43944   BIC:                         3.902e+05\n",
      "Df Model:                           9                                         \n",
      "Covariance Type:            nonrobust                                         \n",
      "==============================================================================\n",
      "                 coef    std err          t      P>|t|      [95.0% Conf. Int.]\n",
      "------------------------------------------------------------------------------\n",
      "x1             1.7405      0.680      2.558      0.011         0.407     3.074\n",
      "x2             1.9157      0.635      3.019      0.003         0.672     3.160\n",
      "x3             3.4347      0.363      9.465      0.000         2.723     4.146\n",
      "x4             1.0515      0.423      2.488      0.013         0.223     1.880\n",
      "x5             0.5808      0.457      1.272      0.203        -0.314     1.476\n",
      "x6             0.0006      0.976      0.001      1.000        -1.913     1.914\n",
      "x7             0.8836      0.455      1.942      0.052        -0.008     1.775\n",
      "x8             0.3344      0.308      1.086      0.277        -0.269     0.938\n",
      "x9             1.1181      0.757      1.476      0.140        -0.367     2.603\n",
      "x10           -0.0424      0.428     -0.099      0.921        -0.882     0.797\n",
      "==============================================================================\n",
      "Omnibus:                   146644.435   Durbin-Watson:                   1.855\n",
      "Prob(Omnibus):                  0.000   Jarque-Bera (JB):      31127425701.100\n",
      "Skew:                          59.350   Prob(JB):                         0.00\n",
      "Kurtosis:                    4123.956   Cond. No.                         3.75\n",
      "==============================================================================\n",
      "\n",
      "Warnings:\n",
      "[1] Standard Errors assume that the covariance matrix of the errors is correctly specified.\n"
     ]
    }
   ],
   "source": [
    "###\n",
    "# and now regress retweet counts on inferred topic distributions (per tweet)\n",
    "###\n",
    "\n",
    "# this is just ordinary least squares (OLS)\n",
    "regression_results = sm.OLS(retweet_counts, inferred_topic_matrix).fit()\n",
    "print(regression_results.summary())"
   ]
  },
  {
   "cell_type": "code",
   "execution_count": 12,
   "metadata": {
    "collapsed": false
   },
   "outputs": [
    {
     "name": "stdout",
     "output_type": "stream",
     "text": [
      "topic 1:\n",
      " 0.073*co + 0.068*http + 0.034*ecrchat + 0.022*gt + 0.014*phdchat + 0.012*shop + 0.011*ji + 0.011*amp + 0.008*research + 0.008*im\n",
      "\n",
      "topic 2:\n",
      " 0.115*mcrcomeback + 0.077*msg + 0.052*gurmeetramrahim + 0.011*nedcrc + 0.010*un + 0.009*wow + 0.008*ur + 0.007*action + 0.007*amazing + 0.007*pita\n",
      "\n",
      "topic 3:\n",
      " 0.075*co + 0.066*http + 0.055*cancer + 0.038*mammograms + 0.025*women + 0.021*breast + 0.020*free + 0.020*mammogram + 0.016*cervical + 0.013*https\n",
      "\n",
      "topic 4:\n",
      " 0.073*colonoscopy + 0.065*co + 0.060*http + 0.025*fightcancer + 0.014*mammogram + 0.014*get + 0.008*time + 0.008*today + 0.007*getting + 0.007*think\n",
      "\n",
      "topic 5:\n",
      " 0.060*pap + 0.039*smear + 0.024*crclub + 0.019*imusicrcti + 0.018*imusic_rcti + 0.017*hpv + 0.017*test + 0.016*kotakmisteriimusic + 0.016*get + 0.013*mammogram\n",
      "\n",
      "topic 6:\n",
      " 0.015*est + 0.014*loscrcl + 0.012*oh + 0.011*control + 0.011*likely + 0.011*penalty + 0.011*icrc + 0.010*birth + 0.009*less + 0.009*pap\n",
      "\n",
      "topic 7:\n",
      " 0.056*nedvscrc + 0.028*worldcup + 0.023*costa + 0.021*rica + 0.016*itavscrc + 0.014*usavcrc + 0.013*game + 0.013*uruvscrc + 0.012*crclub + 0.008*time\n",
      "\n",
      "topic 8:\n",
      " 0.104*co + 0.100*http + 0.064*hpv + 0.058*cancer + 0.039*cervical + 0.027*vaccine + 0.011*gardasil + 0.009*prevention + 0.009*women + 0.008*study\n",
      "\n",
      "topic 9:\n",
      " 0.027*de + 0.024*le + 0.015*la + 0.012*les + 0.011*acrcsi + 0.011*et + 0.011*du + 0.010*lt + 0.009*https + 0.009*accsi\n",
      "\n",
      "topic 10:\n",
      " 0.133*co + 0.129*http + 0.083*cancer + 0.054*screening + 0.029*prevention + 0.022*breast + 0.014*health + 0.012*prostate + 0.010*mammograms + 0.010*colonoscopy\n",
      "\n"
     ]
    }
   ],
   "source": [
    "for topic_idx, topic in enumerate(lda.print_topics()):\n",
    "    print(\"topic %s:\\n %s\\n\" % (topic_idx+1, topic))"
   ]
  },
  {
   "cell_type": "code",
   "execution_count": 14,
   "metadata": {
    "collapsed": false
   },
   "outputs": [
    {
     "name": "stdout",
     "output_type": "stream",
     "text": [
      "Great to see such support for Relay for Life, you go @morrison954 #fightcancer\n",
      "\n",
      "Methods of bowel preparation for colonoscopy - Helium http://t.co/VwJxDbMY\n",
      "\n",
      "And I got called back for more pictures. Nothing to worry about, right? #mammogramfun\n",
      "\n",
      "Let's show our support to this warrior #EdwardObiero ...#FightCancer  http://t.co/mOVz1aIxkc http://t.co/SeeCgZLD39\n",
      "\n",
      "i think i would rather look at your colonoscopy pics than your facebook page.\n",
      "\n",
      "@DelphiRunning relay for life tonight! Let's see the runners here tonight! :) #raisingmoney #fightcancer #delphirunning\n",
      "\n",
      "“@Madithecanadian: Aw I made cookies for my homeroom tomorrow. #mathcrctspirit http://t.co/SRTa21pSSN” I LOVE YOU MADISON.\n",
      "\n",
      "Korey's Gardasil Story: If I could turn back time http://t.co/QtMp4LQIF8\n",
      "\n",
      "I'd rather have a back to back mammogram and colonoscopy than go into work today.\n",
      "\n",
      "Happy to get to sing for a good cause again #FightCancer #vinterlyd http://t.co/L8hDptRUmL\n",
      "\n",
      "This Sunday is FITNESS for HOPE for @cityofhope!  We're on @PhillyToDo: http://t.co/aamkTTtGTp #FightCancer #Spin #Boxing #WonderTrack\n",
      "\n",
      "Lol this isn't that bad where did u get it? RT @iGiveMammograms #ThrowBackThursday #RoastEdition LMMFAOOOOO!! I ... http://t.co/KCovHU23\n",
      "\n",
      "Ew ew ew ew ohmigod they're showing a colonoscopy on Beverly hills nannies...\n",
      "\n",
      "I won't let you, Let you give up on a miracle When it might save you. #loveyounana #staystrong #fightcancer\n",
      "\n",
      "@iamLumide: RT IF YOU THINK SHES BEAUTIFUL! THIS DESERVES ENDLESS RETWEETS #FightCancer http://t.co/EF0CGAOFEe\n",
      "\n",
      "He is RT @iGiveMammograms !!!! RT @HOLLYWOOD_COL3 As much as it pains me to say this Eminem might be the most lyrically talented rapper EVER\n",
      "\n",
      "Take the kids to see The Snowman http://t.co/9lpuSbHe9m accompanied live by @the_halle @BridgewaterHall #MCRchristmas http://t.co/KrTS6JzJVG\n",
      "\n",
      "“The thought of having a colonoscopy is dreadful to many people, but it is really not so bad.” What you need to know: http://t.co/XGDFXC2m5t\n",
      "\n",
      "@CandiceND I've done a little digging into the gardasil/ovary story. You might want to take a look http://t.co/sfD8eXUt\n",
      "\n",
      "I'm 50 years old and today I had a #colonoscopy and let me tell you, there's nothing to it. If you love the people in your life, GET IT DONE\n"
     ]
    }
   ],
   "source": [
    "top_topic_tweet_indices = inferred_topic_matrix[:,3].argsort()[-20:]\n",
    "print(\"\\n\\n\".join([orig_tweet_texts[idx] for idx in top_topic_tweet_indices]))"
   ]
  },
  {
   "cell_type": "code",
   "execution_count": null,
   "metadata": {
    "collapsed": false
   },
   "outputs": [],
   "source": []
  },
  {
   "cell_type": "code",
   "execution_count": null,
   "metadata": {
    "collapsed": true
   },
   "outputs": [],
   "source": []
  }
 ],
 "metadata": {
  "kernelspec": {
   "display_name": "Python 3",
   "language": "python",
   "name": "python3"
  },
  "language_info": {
   "codemirror_mode": {
    "name": "ipython",
    "version": 3
   },
   "file_extension": ".py",
   "mimetype": "text/x-python",
   "name": "python",
   "nbconvert_exporter": "python",
   "pygments_lexer": "ipython3",
   "version": "3.4.3"
  }
 },
 "nbformat": 4,
 "nbformat_minor": 0
}
