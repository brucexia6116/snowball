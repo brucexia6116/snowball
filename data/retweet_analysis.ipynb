{
 "cells": [
  {
   "cell_type": "code",
   "execution_count": 1,
   "metadata": {
    "collapsed": false
   },
   "outputs": [],
   "source": [
    "from collections import defaultdict\n",
    "import csv \n",
    "\n",
    "import pdb\n",
    "import gensim\n",
    "from gensim import matutils, corpora\n",
    "from gensim.models.ldamodel import LdaModel\n",
    "import pandas as pd\n",
    "import nltk\n",
    "import statsmodels \n",
    "import statsmodels.api as sm\n",
    "import matplotlib.pyplot as plt\n",
    "%matplotlib inline \n",
    "import seaborn as sns\n",
    "import numpy as np\n",
    "\n",
    "import snowball"
   ]
  },
  {
   "cell_type": "code",
   "execution_count": 2,
   "metadata": {
    "collapsed": false
   },
   "outputs": [],
   "source": [
    "# all data\n",
    "tweet_data = pd.read_csv(\"CancerReport-clean-all-data-en.txt\", delimiter=\"\\t\", low_memory=False)"
   ]
  },
  {
   "cell_type": "code",
   "execution_count": 3,
   "metadata": {
    "collapsed": true
   },
   "outputs": [],
   "source": [
    "# pull out just the retweets\n",
    "retweets = tweet_data[tweet_data[\"retweet\"] == True]\n",
    "unique_retweet_id_list = list(set(retweets[\"retweet_id_str\"].tolist())) "
   ]
  },
  {
   "cell_type": "code",
   "execution_count": 4,
   "metadata": {
    "collapsed": true
   },
   "outputs": [],
   "source": [
    "# group the tweets by the tweet they are, erm, retweeting\n",
    "grouped_retweets = retweets.groupby(\"retweet_id_str\")\n",
    "# then count up retweets and extract original (retweeted) text\n",
    "# see code in snowball.py for doing this\n",
    "orig_tweet_texts, retweet_counts = snowball._count_up_retweets(grouped_retweets)"
   ]
  },
  {
   "cell_type": "code",
   "execution_count": 5,
   "metadata": {
    "collapsed": true
   },
   "outputs": [],
   "source": [
    "# primary tweets (non-retweets)\n",
    "primary_tweets = tweet_data[tweet_data[\"retweet\"] == False]\n",
    "# now merge tweet sets (retweeted and not)\n",
    "orig_tweet_texts.extend(primary_tweets[\"tweet_text\"].values)\n",
    "retweet_counts.extend([0]*primary_tweets.shape[0])\n",
    "f = lambda x : x if x <= 25 else 26\n",
    "clipped_retweet_counts = [f(n) for n in retweet_counts]"
   ]
  },
  {
   "cell_type": "code",
   "execution_count": 6,
   "metadata": {
    "collapsed": false
   },
   "outputs": [
    {
     "data": {
      "text/plain": [
       "[(0, 26)]"
      ]
     },
     "execution_count": 6,
     "metadata": {},
     "output_type": "execute_result"
    },
    {
     "data": {
      "image/png": "[encoded data removed]",
      "text/plain": [
       "<matplotlib.figure.Figure at 0x1177ede80>"
      ]
     },
     "metadata": {},
     "output_type": "display_data"
    }
   ],
   "source": [
    "sns.distplot(clipped_retweet_counts).set(xlim=(0, 26))"
   ]
  },
  {
   "cell_type": "code",
   "execution_count": 7,
   "metadata": {
    "collapsed": false
   },
   "outputs": [
    {
     "data": {
      "text/plain": [
       "[(0, 26)]"
      ]
     },
     "execution_count": 7,
     "metadata": {},
     "output_type": "execute_result"
    },
    {
     "data": {
      "image/png": "[encoded data removed]",
      "text/plain": [
       "<matplotlib.figure.Figure at 0x115c4bc50>"
      ]
     },
     "metadata": {},
     "output_type": "display_data"
    }
   ],
   "source": [
    "plt.clf()\n",
    "sns.distplot([n for n in clipped_retweet_counts if n>0]).set(xlim=(0, 26))"
   ]
  },
  {
   "cell_type": "code",
   "execution_count": 8,
   "metadata": {
    "collapsed": false
   },
   "outputs": [],
   "source": [
    "### \n",
    "# now topic modeling\n",
    "###\n",
    "\n",
    "# kept_indices are the set of indices corresponding to tweets not discarded as noise \n",
    "toked_tweets, kept_indices = snowball.build_gensim_corpus(orig_tweet_texts, split_up_by_tag=False)\n",
    "lda, gensim_corpus, dict_ = snowball.gen_lda_model(toked_tweets)\n",
    "inferred_topic_matrix = lda.inference(gensim_corpus)[0]\n",
    "# renorm, due to weirdness in gensim (???)\n",
    "row_sums = inferred_topic_matrix.sum(axis=1)\n",
    "inferred_topic_matrix = inferred_topic_matrix / row_sums[:, np.newaxis]\n",
    "\n",
    "# remove the tweets that were cleaned/not included in gensim corpus\n",
    "retweet_counts = [retweet_counts[idx] for idx in kept_indices]\n",
    "orig_tweet_texts = [orig_tweet_texts[idx] for idx in kept_indices]\n"
   ]
  },
  {
   "cell_type": "code",
   "execution_count": 9,
   "metadata": {
    "collapsed": false
   },
   "outputs": [
    {
     "name": "stdout",
     "output_type": "stream",
     "text": [
      "                            OLS Regression Results                            \n",
      "==============================================================================\n",
      "Dep. Variable:                      y   R-squared:                       0.002\n",
      "Model:                            OLS   Adj. R-squared:                  0.001\n",
      "Method:                 Least Squares   F-statistic:                     6.615\n",
      "Date:                Tue, 12 Jan 2016   Prob (F-statistic):           1.68e-09\n",
      "Time:                        08:01:47   Log-Likelihood:            -1.7037e+05\n",
      "No. Observations:               37922   AIC:                         3.408e+05\n",
      "Df Residuals:                   37912   BIC:                         3.408e+05\n",
      "Df Model:                           9                                         \n",
      "Covariance Type:            nonrobust                                         \n",
      "==============================================================================\n",
      "                 coef    std err          t      P>|t|      [95.0% Conf. Int.]\n",
      "------------------------------------------------------------------------------\n",
      "x1             4.6240      0.590      7.844      0.000         3.469     5.779\n",
      "x2             0.9562      0.614      1.558      0.119        -0.246     2.159\n",
      "x3            -0.5678      0.697     -0.814      0.415        -1.934     0.799\n",
      "x4             1.5265      0.705      2.166      0.030         0.145     2.908\n",
      "x5            -0.0003      0.646     -0.001      1.000        -1.266     1.266\n",
      "x6             0.0814      0.500      0.163      0.871        -0.899     1.062\n",
      "x7             0.4542      0.366      1.241      0.215        -0.263     1.172\n",
      "x8             2.8349      0.594      4.776      0.000         1.671     3.998\n",
      "x9             0.7827      0.504      1.552      0.121        -0.206     1.771\n",
      "x10           -0.0801      0.604     -0.133      0.895        -1.265     1.105\n",
      "==============================================================================\n",
      "Omnibus:                   125333.414   Durbin-Watson:                   1.864\n",
      "Prob(Omnibus):                  0.000   Jarque-Bera (JB):      23083082079.514\n",
      "Skew:                          57.781   Prob(JB):                         0.00\n",
      "Kurtosis:                    3823.395   Cond. No.                         2.33\n",
      "==============================================================================\n",
      "\n",
      "Warnings:\n",
      "[1] Standard Errors assume that the covariance matrix of the errors is correctly specified.\n"
     ]
    }
   ],
   "source": [
    "###\n",
    "# and now regress retweet counts on inferred topic distributions (per tweet)\n",
    "###\n",
    "\n",
    "# this is just ordinary least squares (OLS)\n",
    "regression_results = sm.OLS(retweet_counts, inferred_topic_matrix).fit()\n",
    "print(regression_results.summary())"
   ]
  },
  {
   "cell_type": "code",
   "execution_count": 10,
   "metadata": {
    "collapsed": false
   },
   "outputs": [
    {
     "name": "stdout",
     "output_type": "stream",
     "text": [
      "topic 1:\n",
      " 0.028*colonoscopy + 0.023*mammogram + 0.020*mammograms + 0.016*parenthood + 0.016*planned + 0.014*colon + 0.011*co + 0.011*like + 0.010*want + 0.009*get\n",
      "\n",
      "topic 2:\n",
      " 0.130*co + 0.125*http + 0.055*fightcancer + 0.012*la + 0.009*ocrchat + 0.009*les + 0.008*warts + 0.007*pour + 0.007*rt + 0.006*en\n",
      "\n",
      "topic 3:\n",
      " 0.080*co + 0.068*http + 0.036*ecrchat + 0.023*colonoscopy + 0.016*https + 0.014*phdchat + 0.009*great + 0.008*morning + 0.008*children + 0.008*daily\n",
      "\n",
      "topic 4:\n",
      " 0.034*hpv + 0.025*mammogram + 0.023*amp + 0.012*get + 0.012*human + 0.010*time + 0.010*ve + 0.010*today + 0.010*us + 0.009*papillomavirus\n",
      "\n",
      "topic 5:\n",
      " 0.093*mcrcomeback + 0.033*imusicrcti + 0.030*imusic_rcti + 0.028*kotakmisteriimusic + 0.023*de + 0.020*le + 0.014*icrc + 0.012*loscrcl + 0.011*acrcsi + 0.010*est\n",
      "\n",
      "topic 6:\n",
      " 0.119*hpv + 0.112*co + 0.106*http + 0.053*vaccine + 0.028*gardasil + 0.016*girls + 0.013*vaccination + 0.012*via + 0.011*vaccines + 0.008*shot\n",
      "\n",
      "topic 7:\n",
      " 0.132*cancer + 0.106*co + 0.102*http + 0.062*cervical + 0.032*screening + 0.029*breast + 0.021*prevention + 0.016*women + 0.011*mammograms + 0.008*health\n",
      "\n",
      "topic 8:\n",
      " 0.082*co + 0.079*http + 0.041*mammograms + 0.030*cancer + 0.029*women + 0.029*free + 0.017*health + 0.014*need + 0.013*screenings + 0.012*amp\n",
      "\n",
      "topic 9:\n",
      " 0.067*pap + 0.041*smear + 0.039*colonoscopy + 0.029*get + 0.019*test + 0.014*smears + 0.013*mammogram + 0.011*like + 0.011*year + 0.011*got\n",
      "\n",
      "topic 10:\n",
      " 0.104*co + 0.101*http + 0.071*cancer + 0.041*screening + 0.024*prevention + 0.019*new + 0.018*prostate + 0.015*gt + 0.011*diet + 0.010*lung\n",
      "\n"
     ]
    }
   ],
   "source": [
    "# print out top words for each topic; special attention to topic 1 and 8\n",
    "for topic_idx, topic in enumerate(lda.print_topics()):\n",
    "    print(\"topic %s:\\n %s\\n\" % (topic_idx+1, topic))"
   ]
  },
  {
   "cell_type": "code",
   "execution_count": 12,
   "metadata": {
    "collapsed": false
   },
   "outputs": [
    {
     "name": "stdout",
     "output_type": "stream",
     "text": [
      "Don't forget to call @PPact today to schedule your imaginary mammogram that they supposedly provide!\n",
      "\n",
      "RT @MCRchat: Q5: Posssiibly, they'll try the stripped down thing again and do it in a way that satisfies them this time? #MCRchat\n",
      "\n",
      ".@PPBlackComm Please tell the author PP doesn't do mammograms! https://t.co/RfmfdxIbiq\n",
      "\n",
      "@CDC_Cancer Fearing a #colonoscopy? Don't fret! There are many alternatives. Just #getscreened! #coloncancer http://t.co/t1kfmHI7nx\n",
      "\n",
      ".@PPact does not offer mammograms, but there are 8,000+ facilities in the US that do. @MissAmericaOrg @HannahRobison3 http://t.co/1mVi4Y2JPg\n",
      "\n",
      "Paul Heyman is such a good hype man he could get someone excited for a colonoscopy.\n",
      "\n",
      "Q7: It's just kinda sad that people don't have the decency and common sense to know that stuff already! #MCRchat\n",
      "\n",
      "OBAMA LIES:  Planned Parenthood does NOT provide mammograms, as he said in the first debate.  #EmptyChair #EmptyHead\n",
      "\n",
      "Another Obama Debate Falsehood: Planned Parenthood Doesn't Do Mammograms http://t.co/RXQqHk6C\n",
      "\n",
      "When you have an endoscopy and colonoscopy, always ask how many cameras they have. If just one, do endoscopy first. No after taste\n",
      "\n",
      "Never ever ever EVER let any doctor tell you that you need a colonoscopy 😷😖\n",
      "\n",
      "Understand what you can expect from a colonoscopy, why it's done and how to prepare. http://t.co/zz820JE5iY\n",
      "\n",
      "RT @trscoop: *** Obama lies, says Planned Parenthood provides mammograms http://t.co/jGwft11j\n",
      "\n",
      "Call 1-800-230-PLAN to ask @PPact for a mammogram. When they tell you they don't offer mammograms, be sure to ask why not.\n",
      "\n",
      "RT @OrwellForce: @anitaknepp @GreggForGov Hoosiers also don't like people that lie and say Planned Parenthood provides mammograms.\n",
      "\n",
      "Planned Parenthood Mammograms Planned Parenthood doesn't perform mammograms. http://t.co/ETsIloeRac\n",
      "\n",
      "No, O’Malley, 97% of @ppact’s work is not mammograms. In fact, @ppact doesn’t do a SINGLE mammogram.  http://t.co/hykFRRdYDT\n",
      "\n",
      "#NYSCATE14 @jmorris49 @deisel68 #mycrcs Other devices are used Capp says he doesn't ask them 2get it out, but he do ever says to put it away\n",
      "\n",
      "Ummmm... Do women actually use Planned Parenthood for mammograms? I thought they didn't even perform them? #PresidentialDebate\n",
      "\n",
      "Why does Pres. @BarackObama keep telling this mammogram lie? Please help us keep the truth out there! http://t.co/iz0RSExh\n"
     ]
    }
   ],
   "source": [
    "top_topic_tweet_indices = inferred_topic_matrix[:,0].argsort()[-20:]\n",
    "print(\"\\n\\n\".join([orig_tweet_texts[idx] for idx in top_topic_tweet_indices]))"
   ]
  },
  {
   "cell_type": "code",
   "execution_count": null,
   "metadata": {
    "collapsed": false
   },
   "outputs": [],
   "source": []
  },
  {
   "cell_type": "code",
   "execution_count": null,
   "metadata": {
    "collapsed": true
   },
   "outputs": [],
   "source": []
  }
 ],
 "metadata": {
  "kernelspec": {
   "display_name": "Python 3",
   "language": "python",
   "name": "python3"
  },
  "language_info": {
   "codemirror_mode": {
    "name": "ipython",
    "version": 3
   },
   "file_extension": ".py",
   "mimetype": "text/x-python",
   "name": "python",
   "nbconvert_exporter": "python",
   "pygments_lexer": "ipython3",
   "version": "3.4.3"
  }
 },
 "nbformat": 4,
 "nbformat_minor": 0
}
