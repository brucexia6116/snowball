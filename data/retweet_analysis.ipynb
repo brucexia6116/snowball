{
 "cells": [
  {
   "cell_type": "code",
   "execution_count": 2,
   "metadata": {
    "collapsed": false
   },
   "outputs": [],
   "source": [
    "from collections import defaultdict\n",
    "import csv \n",
    "\n",
    "import pdb\n",
    "import gensim\n",
    "from gensim import matutils, corpora\n",
    "from gensim.models.ldamodel import LdaModel\n",
    "import pandas as pd\n",
    "import nltk\n",
    "import statsmodels \n",
    "import statsmodels.api as sm\n",
    "import matplotlib.pyplot as plt\n",
    "%matplotlib inline \n",
    "import seaborn as sns\n",
    "import numpy as np\n",
    "\n",
    "import snowball"
   ]
  },
  {
   "cell_type": "code",
   "execution_count": 3,
   "metadata": {
    "collapsed": false
   },
   "outputs": [],
   "source": [
    "# all data\n",
    "tweet_data = pd.read_csv(\"CancerReport-clean-all-data-en.txt\", delimiter=\"\\t\", low_memory=False)"
   ]
  },
  {
   "cell_type": "code",
   "execution_count": 4,
   "metadata": {
    "collapsed": true
   },
   "outputs": [],
   "source": [
    "# pull out just the retweets\n",
    "retweets = tweet_data[tweet_data[\"retweet\"] == True]\n",
    "unique_retweet_id_list = list(set(retweets[\"retweet_id_str\"].tolist())) "
   ]
  },
  {
   "cell_type": "code",
   "execution_count": 5,
   "metadata": {
    "collapsed": true
   },
   "outputs": [],
   "source": [
    "# group the tweets by the tweet they are, erm, retweeting\n",
    "grouped_retweets = retweets.groupby(\"retweet_id_str\")\n",
    "# then count up retweets and extract original (retweeted) text\n",
    "# see code in snowball.py for doing this\n",
    "orig_tweet_texts, retweet_counts = snowball._count_up_retweets(grouped_retweets)"
   ]
  },
  {
   "cell_type": "code",
   "execution_count": 6,
   "metadata": {
    "collapsed": true
   },
   "outputs": [],
   "source": [
    "# primary tweets (non-retweets)\n",
    "primary_tweets = tweet_data[tweet_data[\"retweet\"] == False]\n",
    "# now merge tweet sets (retweeted and not)\n",
    "orig_tweet_texts.extend(primary_tweets[\"tweet_text\"].values)\n",
    "retweet_counts.extend([0]*primary_tweets.shape[0])\n",
    "f = lambda x : x if x <= 25 else 26\n",
    "clipped_retweet_counts = [f(n) for n in retweet_counts]"
   ]
  },
  {
   "cell_type": "code",
   "execution_count": 7,
   "metadata": {
    "collapsed": false
   },
   "outputs": [
    {
     "data": {
      "text/plain": [
       "[(0, 26)]"
      ]
     },
     "execution_count": 7,
     "metadata": {},
     "output_type": "execute_result"
    },
    {
     "data": {
      "image/png": "[encoded data removed]",
      "text/plain": [
       "<matplotlib.figure.Figure at 0x117ef8f98>"
      ]
     },
     "metadata": {},
     "output_type": "display_data"
    }
   ],
   "source": [
    "sns.distplot(clipped_retweet_counts).set(xlim=(0, 26))"
   ]
  },
  {
   "cell_type": "code",
   "execution_count": 8,
   "metadata": {
    "collapsed": false
   },
   "outputs": [
    {
     "data": {
      "text/plain": [
       "[(0, 26)]"
      ]
     },
     "execution_count": 8,
     "metadata": {},
     "output_type": "execute_result"
    },
    {
     "data": {
      "image/png": "[encoded data removed]",
      "text/plain": [
       "<matplotlib.figure.Figure at 0x117697b38>"
      ]
     },
     "metadata": {},
     "output_type": "display_data"
    }
   ],
   "source": [
    "plt.clf()\n",
    "sns.distplot([n for n in clipped_retweet_counts if n>0]).set(xlim=(0, 26))"
   ]
  },
  {
   "cell_type": "code",
   "execution_count": 9,
   "metadata": {
    "collapsed": false
   },
   "outputs": [],
   "source": [
    "### \n",
    "# now topic modeling\n",
    "###\n",
    "\n",
    "# kept_indices are the set of indices corresponding to tweets not discarded as noise \n",
    "toked_tweets, kept_indices = snowball.build_gensim_corpus(orig_tweet_texts, split_up_by_tag=False)\n",
    "lda, gensim_corpus, dict_ = snowball.gen_lda_model(toked_tweets)\n",
    "inferred_topic_matrix = lda.inference(gensim_corpus)[0]\n",
    "# renorm, due to weirdness in gensim (???)\n",
    "row_sums = inferred_topic_matrix.sum(axis=1)\n",
    "inferred_topic_matrix = inferred_topic_matrix / row_sums[:, np.newaxis]\n",
    "\n",
    "# remove the tweets that were cleaned/not included in gensim corpus\n",
    "retweet_counts = [retweet_counts[idx] for idx in kept_indices]\n",
    "orig_tweet_texts = [orig_tweet_texts[idx] for idx in kept_indices]\n"
   ]
  },
  {
   "cell_type": "code",
   "execution_count": 10,
   "metadata": {
    "collapsed": false
   },
   "outputs": [
    {
     "name": "stdout",
     "output_type": "stream",
     "text": [
      "                            OLS Regression Results                            \n",
      "==============================================================================\n",
      "Dep. Variable:                      y   R-squared:                       0.003\n",
      "Model:                            OLS   Adj. R-squared:                  0.002\n",
      "Method:                 Least Squares   F-statistic:                     10.87\n",
      "Date:                Mon, 11 Jan 2016   Prob (F-statistic):           4.50e-17\n",
      "Time:                        08:33:51   Log-Likelihood:            -1.7035e+05\n",
      "No. Observations:               37922   AIC:                         3.407e+05\n",
      "Df Residuals:                   37912   BIC:                         3.408e+05\n",
      "Df Model:                           9                                         \n",
      "Covariance Type:            nonrobust                                         \n",
      "==============================================================================\n",
      "                 coef    std err          t      P>|t|      [95.0% Conf. Int.]\n",
      "------------------------------------------------------------------------------\n",
      "x1             1.5827      0.855      1.851      0.064        -0.094     3.259\n",
      "x2             0.2182      0.528      0.413      0.679        -0.816     1.253\n",
      "x3             1.7942      0.622      2.883      0.004         0.574     3.014\n",
      "x4            -0.1719      0.662     -0.260      0.795        -1.469     1.125\n",
      "x5             0.2237      0.518      0.432      0.666        -0.791     1.239\n",
      "x6             0.6713      0.416      1.614      0.107        -0.144     1.487\n",
      "x7             0.0864      0.784      0.110      0.912        -1.451     1.624\n",
      "x8             7.3614      0.673     10.939      0.000         6.042     8.680\n",
      "x9             0.6005      0.352      1.706      0.088        -0.089     1.290\n",
      "x10            0.2734      0.526      0.520      0.603        -0.758     1.305\n",
      "==============================================================================\n",
      "Omnibus:                   125371.987   Durbin-Watson:                   1.865\n",
      "Prob(Omnibus):                  0.000   Jarque-Bera (JB):      23165939565.662\n",
      "Skew:                          57.832   Prob(JB):                         0.00\n",
      "Kurtosis:                    3830.249   Cond. No.                         2.83\n",
      "==============================================================================\n",
      "\n",
      "Warnings:\n",
      "[1] Standard Errors assume that the covariance matrix of the errors is correctly specified.\n"
     ]
    }
   ],
   "source": [
    "###\n",
    "# and now regress retweet counts on inferred topic distributions (per tweet)\n",
    "###\n",
    "\n",
    "# this is just ordinary least squares (OLS)\n",
    "regression_results = sm.OLS(retweet_counts, inferred_topic_matrix).fit()\n",
    "print(regression_results.summary())"
   ]
  },
  {
   "cell_type": "code",
   "execution_count": 11,
   "metadata": {
    "collapsed": false
   },
   "outputs": [
    {
     "name": "stdout",
     "output_type": "stream",
     "text": [
      "topic 1:\n",
      " 0.022*every + 0.021*year + 0.019*amp + 0.019*pap + 0.014*smear + 0.013*icrc + 0.013*old + 0.013*give + 0.012*get + 0.011*young\n",
      "\n",
      "topic 2:\n",
      " 0.134*hpv + 0.101*co + 0.098*http + 0.064*vaccine + 0.028*gardasil + 0.020*girls + 0.015*vaccination + 0.013*vaccines + 0.011*via + 0.010*shot\n",
      "\n",
      "topic 3:\n",
      " 0.077*co + 0.072*http + 0.029*ecrchat + 0.016*de + 0.014*le + 0.012*phdchat + 0.009*shop + 0.009*la + 0.008*research + 0.008*gardasil\n",
      "\n",
      "topic 4:\n",
      " 0.095*mcrcomeback + 0.067*pap + 0.034*imusicrcti + 0.033*smear + 0.031*imusic_rcti + 0.028*kotakmisteriimusic + 0.025*gt + 0.025*test + 0.016*smears + 0.013*lt\n",
      "\n",
      "topic 5:\n",
      " 0.100*co + 0.095*http + 0.039*fightcancer + 0.033*colonoscopy + 0.010*amp + 0.010*today + 0.009*time + 0.009*great + 0.007*us + 0.007*ocrchat\n",
      "\n",
      "topic 6:\n",
      " 0.088*co + 0.083*http + 0.076*cancer + 0.027*prevention + 0.025*breast + 0.019*mammograms + 0.019*cervical + 0.018*free + 0.013*mammogram + 0.011*women\n",
      "\n",
      "topic 7:\n",
      " 0.052*hpv + 0.030*cancer + 0.024*cervical + 0.014*co + 0.013*sex + 0.012*http + 0.010*oral + 0.010*virus + 0.010*get + 0.010*human\n",
      "\n",
      "topic 8:\n",
      " 0.043*mammograms + 0.037*co + 0.027*http + 0.024*mammogram + 0.022*parenthood + 0.022*planned + 0.016*https + 0.009*amp + 0.009*care + 0.009*women\n",
      "\n",
      "topic 9:\n",
      " 0.119*co + 0.116*http + 0.106*cancer + 0.041*screening + 0.037*cervical + 0.020*women + 0.016*prevention + 0.015*breast + 0.014*health + 0.011*new\n",
      "\n",
      "topic 10:\n",
      " 0.068*colonoscopy + 0.026*get + 0.021*like + 0.020*mammogram + 0.020*pap + 0.016*got + 0.016*smear + 0.012*getting + 0.012*good + 0.010*go\n",
      "\n"
     ]
    }
   ],
   "source": [
    "for topic_idx, topic in enumerate(lda.print_topics()):\n",
    "    print(\"topic %s:\\n %s\\n\" % (topic_idx+1, topic))"
   ]
  },
  {
   "cell_type": "code",
   "execution_count": 12,
   "metadata": {
    "collapsed": false
   },
   "outputs": [
    {
     "name": "stdout",
     "output_type": "stream",
     "text": [
      "Onondaga Co. Health Department offers free cancer screenings to low-income p #BreastCancerScreening #Cancer #Women http://t.co/jtgIgPjD3y\n",
      "\n",
      "Great news, ANZ have chosen Adelaide as the pilot location for rolling out our corporate #bowelcancer screening program http://t.co/tbihCAhP\n",
      "\n",
      "New research: Cervical #cancer screening among young adult women in US http://t.co/8FH0slma\n",
      "\n",
      "Thyroid Cancer Rates Are Up, But Increased Cancer Screening May Do More Harm Than Good http://t.co/250zJqFhWu #health #medical\n",
      "\n",
      "Niagara County Department of Health: free breast and cervical cancer screening, colon cancer risk ... http://t.co/RUkxYdhBwf\n",
      "\n",
      "Cervical cancer: the importance of regular screening – Medical News Today: The Guardian Cervical cancer: the i... http://t.co/mJzPVIRCxM\n",
      "\n",
      "Breast cancer screening recommendations for men at higher risk are different from recommendations for women. Info at http://t.co/ebZWd0cJO3\n",
      "\n",
      "RT @ONEinAfrica Cervical cancer is the leading cause of cancer deaths for women in Africa: http://t.co/SnTxGMgt0w http://t.co/dHNc0LuOOL\n",
      "\n",
      "Cervical cancer: the importance of regular screening – Medical News Today: The Guardian Cervical cancer: the i... http://t.co/cCsSyijKmD\n",
      "\n",
      "#Colonoscopy may cut advanced cancer #colon #cancer risk by 70%, new study says. http://t.co/EpsrBoQfHS\n",
      "\n",
      "#Cancer Screening helps prevent cervical cancer in older women: Women who do not have cervical screening over ... http://t.co/mVgYnzwnhL\n",
      "\n",
      "@CervicalScreen1 Young women not taking cervical cancer test that 'could save your life' http://t.co/A2oJ9DQMGW Via - @itvmeridian\n",
      "\n",
      "My Cervical Cancer Symptoms Story - My Warning Signs http://t.co/jwNaex1M via @sharethis such important info about cervical cancer\n",
      "\n",
      "Cervical Cancer – Symptoms and Causes of Cervical Cancer: Cervical cancer: malignant cancer of the cervix uteri ... http://t.co/CY3jaujq\n",
      "\n",
      "#DYK Older women who follow cancer prevention steps had a 17% lower risk of developing cancer. Prevention is key http://t.co/5DEZjB2UyA.\n",
      "\n",
      "@_EstebanMinaya Lung Cancer Screening Could Cost Medicare Billions: Study: Lung cancer screening could cost Me... http://t.co/x4KPc1PdjE\n",
      "\n",
      "Dartmouth Study Finds Lung Cancer Screening With Low-Dose CT Could Be Cost-Effective http://t.co/Do3n17FF7k #LCSM\n",
      "\n",
      "Breast #cancer screening benefits &amp; harms -- from US Preventive Services Task Force, in JAMA. http://t.co/dwjUDjWb7x http://t.co/aUeMtDPg5f\n",
      "\n",
      "U.S. Preventive Services Task Force recommends annual #lung #cancer screening with low-dose CT for high-risk patients http://t.co/cUNc2owIie\n",
      "\n",
      "Lung Cancer Screening Could Cost Medicare Billions: Study: Lung cancer screening could cost Medicare billions,... http://t.co/8efEB8BfU9\n"
     ]
    }
   ],
   "source": [
    "# the below is an artifact, I think, of the issue I highlighted in the email sent 12/16/2015\n",
    "top_topic_tweet_indices = inferred_topic_matrix[:,8].argsort()[-20:]\n",
    "print(\"\\n\\n\".join([orig_tweet_texts[idx] for idx in top_topic_tweet_indices]))"
   ]
  },
  {
   "cell_type": "code",
   "execution_count": null,
   "metadata": {
    "collapsed": false
   },
   "outputs": [],
   "source": []
  },
  {
   "cell_type": "code",
   "execution_count": null,
   "metadata": {
    "collapsed": true
   },
   "outputs": [],
   "source": []
  }
 ],
 "metadata": {
  "kernelspec": {
   "display_name": "Python 3",
   "language": "python",
   "name": "python3"
  },
  "language_info": {
   "codemirror_mode": {
    "name": "ipython",
    "version": 3
   },
   "file_extension": ".py",
   "mimetype": "text/x-python",
   "name": "python",
   "nbconvert_exporter": "python",
   "pygments_lexer": "ipython3",
   "version": "3.4.3"
  }
 },
 "nbformat": 4,
 "nbformat_minor": 0
}
