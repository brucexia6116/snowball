{
 "cells": [
  {
   "cell_type": "markdown",
   "metadata": {},
   "source": [
    "## *New* re-run of re-tweet (predictive) analyses using new data from David\n",
    "*updated: 3/21 (with data sent 3/14)*"
   ]
  },
  {
   "cell_type": "code",
   "execution_count": 1,
   "metadata": {
    "collapsed": true
   },
   "outputs": [],
   "source": [
    "# hide warnings to keep things tidy.\n",
    "import warnings\n",
    "warnings.filterwarnings('ignore')\n",
    "\n",
    "import json\n",
    "from pprint import pprint\n",
    "\n",
    "import pandas as pd\n",
    "import numpy as np \n",
    "import scipy as sp\n",
    "import nltk\n",
    "import sklearn\n",
    "import statsmodels \n",
    "from statsmodels.graphics.api import abline_plot\n",
    "import statsmodels.api as sm\n",
    "import matplotlib.pyplot as plt\n",
    "%matplotlib inline \n",
    "\n",
    "import snowball\n"
   ]
  },
  {
   "cell_type": "code",
   "execution_count": 2,
   "metadata": {
    "collapsed": false
   },
   "outputs": [],
   "source": [
    "with open(\"original_tweets_unique.json\") as updated_tweets_f:\n",
    "    # the transpose is to re-shape so that rows are\n",
    "    # tweets (cols are attributes)\n",
    "    tweet_df = pd.read_json(updated_tweets_f)"
   ]
  },
  {
   "cell_type": "code",
   "execution_count": 3,
   "metadata": {
    "collapsed": false
   },
   "outputs": [
    {
     "data": {
      "text/plain": [
       "(12975, 29)"
      ]
     },
     "execution_count": 3,
     "metadata": {},
     "output_type": "execute_result"
    }
   ],
   "source": [
    "tweet_df.shape"
   ]
  },
  {
   "cell_type": "code",
   "execution_count": 4,
   "metadata": {
    "collapsed": false
   },
   "outputs": [
    {
     "data": {
      "text/html": [
       "<div>\n",
       "<table border=\"1\" class=\"dataframe\">\n",
       "  <thead>\n",
       "    <tr style=\"text-align: right;\">\n",
       "      <th></th>\n",
       "      <th>contributors</th>\n",
       "      <th>coordinates</th>\n",
       "      <th>created_at</th>\n",
       "      <th>entities</th>\n",
       "      <th>extended_entities</th>\n",
       "      <th>favorite_count</th>\n",
       "      <th>favorited</th>\n",
       "      <th>geo</th>\n",
       "      <th>id</th>\n",
       "      <th>id_str</th>\n",
       "      <th>...</th>\n",
       "      <th>quoted_status</th>\n",
       "      <th>quoted_status_id</th>\n",
       "      <th>quoted_status_id_str</th>\n",
       "      <th>retweet_count</th>\n",
       "      <th>retweeted</th>\n",
       "      <th>scopes</th>\n",
       "      <th>source</th>\n",
       "      <th>text</th>\n",
       "      <th>truncated</th>\n",
       "      <th>user</th>\n",
       "    </tr>\n",
       "  </thead>\n",
       "  <tbody>\n",
       "    <tr>\n",
       "      <th>0</th>\n",
       "      <td>NaN</td>\n",
       "      <td>None</td>\n",
       "      <td>2009-09-29 19:26:02</td>\n",
       "      <td>{'hashtags': [{'indices': [0, 5], 'text': 'new...</td>\n",
       "      <td>NaN</td>\n",
       "      <td>2</td>\n",
       "      <td>False</td>\n",
       "      <td>None</td>\n",
       "      <td>4477687173</td>\n",
       "      <td>4477687173</td>\n",
       "      <td>...</td>\n",
       "      <td>NaN</td>\n",
       "      <td>NaN</td>\n",
       "      <td>NaN</td>\n",
       "      <td>8</td>\n",
       "      <td>False</td>\n",
       "      <td>NaN</td>\n",
       "      <td>&lt;a href=\"http://twitter.com\" rel=\"nofollow\"&gt;Tw...</td>\n",
       "      <td>#news: British girl dies after cervical cancer...</td>\n",
       "      <td>False</td>\n",
       "      <td>{'utc_offset': -25200, 'description': 'Conserv...</td>\n",
       "    </tr>\n",
       "    <tr>\n",
       "      <th>1</th>\n",
       "      <td>NaN</td>\n",
       "      <td>None</td>\n",
       "      <td>2009-11-25 23:07:01</td>\n",
       "      <td>{'hashtags': [{'indices': [73, 85], 'text': 'o...</td>\n",
       "      <td>NaN</td>\n",
       "      <td>0</td>\n",
       "      <td>False</td>\n",
       "      <td>None</td>\n",
       "      <td>6064161577</td>\n",
       "      <td>6064161577</td>\n",
       "      <td>...</td>\n",
       "      <td>NaN</td>\n",
       "      <td>NaN</td>\n",
       "      <td>NaN</td>\n",
       "      <td>4</td>\n",
       "      <td>False</td>\n",
       "      <td>NaN</td>\n",
       "      <td>&lt;a href=\"http://twitter.com\" rel=\"nofollow\"&gt;Tw...</td>\n",
       "      <td>RT @SamValley We Wish You a Lucky Mammogram, a...</td>\n",
       "      <td>False</td>\n",
       "      <td>{'utc_offset': -21600, 'description': 'Politic...</td>\n",
       "    </tr>\n",
       "    <tr>\n",
       "      <th>2</th>\n",
       "      <td>NaN</td>\n",
       "      <td>None</td>\n",
       "      <td>2011-02-04 21:49:10</td>\n",
       "      <td>{'hashtags': [], 'user_mentions': [], 'symbols...</td>\n",
       "      <td>NaN</td>\n",
       "      <td>1</td>\n",
       "      <td>False</td>\n",
       "      <td>None</td>\n",
       "      <td>33643250145296385</td>\n",
       "      <td>33643250145296384</td>\n",
       "      <td>...</td>\n",
       "      <td>NaN</td>\n",
       "      <td>NaN</td>\n",
       "      <td>NaN</td>\n",
       "      <td>4</td>\n",
       "      <td>False</td>\n",
       "      <td>NaN</td>\n",
       "      <td>&lt;a href=\"http://www.exacttarget.com/social\" re...</td>\n",
       "      <td>This week’s podcast: a new antibiotic for C. d...</td>\n",
       "      <td>False</td>\n",
       "      <td>{'utc_offset': -18000, 'description': 'Johns H...</td>\n",
       "    </tr>\n",
       "    <tr>\n",
       "      <th>3</th>\n",
       "      <td>NaN</td>\n",
       "      <td>None</td>\n",
       "      <td>2011-03-17 04:15:40</td>\n",
       "      <td>{'hashtags': [], 'user_mentions': [], 'symbols...</td>\n",
       "      <td>NaN</td>\n",
       "      <td>0</td>\n",
       "      <td>False</td>\n",
       "      <td>None</td>\n",
       "      <td>48236030637244417</td>\n",
       "      <td>48236030637244416</td>\n",
       "      <td>...</td>\n",
       "      <td>NaN</td>\n",
       "      <td>NaN</td>\n",
       "      <td>NaN</td>\n",
       "      <td>2</td>\n",
       "      <td>False</td>\n",
       "      <td>NaN</td>\n",
       "      <td>&lt;a href=\"http://twitter.com\" rel=\"nofollow\"&gt;Tw...</td>\n",
       "      <td>i eat more pussy that cervical cancer.</td>\n",
       "      <td>False</td>\n",
       "      <td>{'utc_offset': -18000, 'description': '', 'url...</td>\n",
       "    </tr>\n",
       "    <tr>\n",
       "      <th>4</th>\n",
       "      <td>NaN</td>\n",
       "      <td>None</td>\n",
       "      <td>2011-08-07 02:01:02</td>\n",
       "      <td>{'hashtags': [{'indices': [133, 140], 'text': ...</td>\n",
       "      <td>NaN</td>\n",
       "      <td>0</td>\n",
       "      <td>False</td>\n",
       "      <td>None</td>\n",
       "      <td>100023613498982401</td>\n",
       "      <td>100023613498982400</td>\n",
       "      <td>...</td>\n",
       "      <td>NaN</td>\n",
       "      <td>NaN</td>\n",
       "      <td>NaN</td>\n",
       "      <td>4</td>\n",
       "      <td>False</td>\n",
       "      <td>NaN</td>\n",
       "      <td>&lt;a href=\"http://twitter.com\" rel=\"nofollow\"&gt;Tw...</td>\n",
       "      <td>NVIC to FDA: not reassured by safety data; Mer...</td>\n",
       "      <td>False</td>\n",
       "      <td>{'utc_offset': -18000, 'description': 'Provide...</td>\n",
       "    </tr>\n",
       "  </tbody>\n",
       "</table>\n",
       "<p>5 rows × 29 columns</p>\n",
       "</div>"
      ],
      "text/plain": [
       "   contributors coordinates          created_at  \\\n",
       "0           NaN        None 2009-09-29 19:26:02   \n",
       "1           NaN        None 2009-11-25 23:07:01   \n",
       "2           NaN        None 2011-02-04 21:49:10   \n",
       "3           NaN        None 2011-03-17 04:15:40   \n",
       "4           NaN        None 2011-08-07 02:01:02   \n",
       "\n",
       "                                            entities extended_entities  \\\n",
       "0  {'hashtags': [{'indices': [0, 5], 'text': 'new...               NaN   \n",
       "1  {'hashtags': [{'indices': [73, 85], 'text': 'o...               NaN   \n",
       "2  {'hashtags': [], 'user_mentions': [], 'symbols...               NaN   \n",
       "3  {'hashtags': [], 'user_mentions': [], 'symbols...               NaN   \n",
       "4  {'hashtags': [{'indices': [133, 140], 'text': ...               NaN   \n",
       "\n",
       "   favorite_count favorited   geo                  id              id_str  \\\n",
       "0               2     False  None          4477687173          4477687173   \n",
       "1               0     False  None          6064161577          6064161577   \n",
       "2               1     False  None   33643250145296385   33643250145296384   \n",
       "3               0     False  None   48236030637244417   48236030637244416   \n",
       "4               0     False  None  100023613498982401  100023613498982400   \n",
       "\n",
       "                         ...                         quoted_status  \\\n",
       "0                        ...                                   NaN   \n",
       "1                        ...                                   NaN   \n",
       "2                        ...                                   NaN   \n",
       "3                        ...                                   NaN   \n",
       "4                        ...                                   NaN   \n",
       "\n",
       "   quoted_status_id  quoted_status_id_str  retweet_count  retweeted scopes  \\\n",
       "0               NaN                   NaN              8      False    NaN   \n",
       "1               NaN                   NaN              4      False    NaN   \n",
       "2               NaN                   NaN              4      False    NaN   \n",
       "3               NaN                   NaN              2      False    NaN   \n",
       "4               NaN                   NaN              4      False    NaN   \n",
       "\n",
       "                                              source  \\\n",
       "0  <a href=\"http://twitter.com\" rel=\"nofollow\">Tw...   \n",
       "1  <a href=\"http://twitter.com\" rel=\"nofollow\">Tw...   \n",
       "2  <a href=\"http://www.exacttarget.com/social\" re...   \n",
       "3  <a href=\"http://twitter.com\" rel=\"nofollow\">Tw...   \n",
       "4  <a href=\"http://twitter.com\" rel=\"nofollow\">Tw...   \n",
       "\n",
       "                                                text  truncated  \\\n",
       "0  #news: British girl dies after cervical cancer...      False   \n",
       "1  RT @SamValley We Wish You a Lucky Mammogram, a...      False   \n",
       "2  This week’s podcast: a new antibiotic for C. d...      False   \n",
       "3             i eat more pussy that cervical cancer.      False   \n",
       "4  NVIC to FDA: not reassured by safety data; Mer...      False   \n",
       "\n",
       "                                                user  \n",
       "0  {'utc_offset': -25200, 'description': 'Conserv...  \n",
       "1  {'utc_offset': -21600, 'description': 'Politic...  \n",
       "2  {'utc_offset': -18000, 'description': 'Johns H...  \n",
       "3  {'utc_offset': -18000, 'description': '', 'url...  \n",
       "4  {'utc_offset': -18000, 'description': 'Provide...  \n",
       "\n",
       "[5 rows x 29 columns]"
      ]
     },
     "execution_count": 4,
     "metadata": {},
     "output_type": "execute_result"
    }
   ],
   "source": [
    "tweet_df.head()"
   ]
  },
  {
   "cell_type": "code",
   "execution_count": 5,
   "metadata": {
    "collapsed": false
   },
   "outputs": [
    {
     "data": {
      "text/plain": [
       "Index(['contributors', 'coordinates', 'created_at', 'entities',\n",
       "       'extended_entities', 'favorite_count', 'favorited', 'geo', 'id',\n",
       "       'id_str', 'in_reply_to_screen_name', 'in_reply_to_status_id',\n",
       "       'in_reply_to_status_id_str', 'in_reply_to_user_id',\n",
       "       'in_reply_to_user_id_str', 'is_quote_status', 'lang', 'place',\n",
       "       'possibly_sensitive', 'quoted_status', 'quoted_status_id',\n",
       "       'quoted_status_id_str', 'retweet_count', 'retweeted', 'scopes',\n",
       "       'source', 'text', 'truncated', 'user'],\n",
       "      dtype='object')"
      ]
     },
     "execution_count": 5,
     "metadata": {},
     "output_type": "execute_result"
    }
   ],
   "source": [
    "tweet_df.columns"
   ]
  },
  {
   "cell_type": "markdown",
   "metadata": {},
   "source": [
    "### Note that the \"retweeted\" flag is *uniformly* False in this dataset."
   ]
  },
  {
   "cell_type": "code",
   "execution_count": 6,
   "metadata": {
    "collapsed": false
   },
   "outputs": [
    {
     "name": "stdout",
     "output_type": "stream",
     "text": [
      "# primary tweets: 12975; # retweets: 0\n"
     ]
    }
   ],
   "source": [
    "primary_tweets = tweet_df[tweet_df[\"retweeted\"] == False]\n",
    "retweets = tweet_df[tweet_df[\"retweeted\"] == True]\n",
    "print(\"# primary tweets: %s; # retweets: %s\" % (\n",
    "        len(primary_tweets), len(retweets)))"
   ]
  },
  {
   "cell_type": "markdown",
   "metadata": {},
   "source": [
    "### Here I try and predict the number of retweets as a function of the number of followers one has. \n",
    "\n",
    "Assumptions and caveats: \n",
    "* The number of followers of the user who issued the *original* tweet is in the field\n",
    "'user':''followers_count'. \n",
    "* Note that this seems cleaner than it was with the last version of the dataset, wherein this field was often missing. Thanks to David for clearning this up!"
   ]
  },
  {
   "cell_type": "code",
   "execution_count": 7,
   "metadata": {
    "collapsed": false
   },
   "outputs": [
    {
     "data": {
      "text/plain": [
       "9112"
      ]
     },
     "execution_count": 7,
     "metadata": {},
     "output_type": "execute_result"
    }
   ],
   "source": [
    "primary_tweets[\"user\"].values[0][\"followers_count\"]"
   ]
  },
  {
   "cell_type": "code",
   "execution_count": 8,
   "metadata": {
    "collapsed": false
   },
   "outputs": [
    {
     "data": {
      "text/plain": [
       "12975"
      ]
     },
     "execution_count": 8,
     "metadata": {},
     "output_type": "execute_result"
    }
   ],
   "source": [
    "len(primary_tweets[\"user\"])"
   ]
  },
  {
   "cell_type": "markdown",
   "metadata": {},
   "source": [
    "Looks like we've got ~00 of these."
   ]
  },
  {
   "cell_type": "code",
   "execution_count": 9,
   "metadata": {
    "collapsed": false
   },
   "outputs": [],
   "source": [
    "X,y = [], []\n",
    "for index, tweet in primary_tweets.iterrows():\n",
    "    X.append(tweet[\"user\"][\"followers_count\"])\n",
    "    y.append(tweet[\"retweet_count\"])"
   ]
  },
  {
   "cell_type": "markdown",
   "metadata": {},
   "source": [
    "I print out stats below; note that (apparently) the mean number of followers here is 114157. Still seems (suspiciously) large to me, but then what I do know. The range is (0, 2.4 mil)."
   ]
  },
  {
   "cell_type": "code",
   "execution_count": 10,
   "metadata": {
    "collapsed": false
   },
   "outputs": [
    {
     "name": "stdout",
     "output_type": "stream",
     "text": [
      "DescribeResult(nobs=12975, minmax=(0, 24351276), mean=114157.99606936416, variance=713687072412.37488, skewness=14.895372524798328, kurtosis=311.49847003345)\n"
     ]
    }
   ],
   "source": [
    "print(sp.stats.describe(X))"
   ]
  },
  {
   "cell_type": "markdown",
   "metadata": {},
   "source": [
    "Now column normalize "
   ]
  },
  {
   "cell_type": "code",
   "execution_count": 11,
   "metadata": {
    "collapsed": false
   },
   "outputs": [
    {
     "name": "stdout",
     "output_type": "stream",
     "text": [
      "DescribeResult(nobs=12975, minmax=(array([ 0.]), array([ 1.])), mean=array([ 0.00468797]), variance=array([ 0.00120355]), skewness=array([ 14.89537252]), kurtosis=array([ 311.49847003]))\n"
     ]
    }
   ],
   "source": [
    "# build\n",
    "X = np.matrix(X).T\n",
    "X_user_normed = X/X.max()\n",
    "#X_user_normed = sm.add_constant(X_user_normed, prepend=True)\n",
    "print(sp.stats.describe(X_user_normed))"
   ]
  },
  {
   "cell_type": "markdown",
   "metadata": {},
   "source": [
    "Re-tweet counts, meanwhile, seem sane."
   ]
  },
  {
   "cell_type": "code",
   "execution_count": 12,
   "metadata": {
    "collapsed": false
   },
   "outputs": [
    {
     "name": "stdout",
     "output_type": "stream",
     "text": [
      "DescribeResult(nobs=12975, minmax=(0, 1588), mean=7.6710597302504819, variance=2229.7609128201561, skewness=18.590066101591294, kurtosis=467.02416240790234)\n"
     ]
    }
   ],
   "source": [
    "print(sp.stats.describe(y))"
   ]
  },
  {
   "cell_type": "code",
   "execution_count": 13,
   "metadata": {
    "collapsed": false
   },
   "outputs": [
    {
     "name": "stdout",
     "output_type": "stream",
     "text": [
      "X shape: (12975, 1); y shape: (12975,)\n"
     ]
    }
   ],
   "source": [
    "# prepare data for statsmodels\n",
    "X = X_user_normed\n",
    "y = np.array(y)\n",
    "print(\"X shape: %s; y shape: %s\" % (X.shape, y.shape))"
   ]
  },
  {
   "cell_type": "markdown",
   "metadata": {},
   "source": [
    "Now fit the model; again this is just using the raw number of followers as the independent var and the retweet count as the dependent."
   ]
  },
  {
   "cell_type": "code",
   "execution_count": 14,
   "metadata": {
    "collapsed": false
   },
   "outputs": [
    {
     "name": "stdout",
     "output_type": "stream",
     "text": [
      "                            OLS Regression Results                            \n",
      "==============================================================================\n",
      "Dep. Variable:                      y   R-squared:                       0.080\n",
      "Model:                            OLS   Adj. R-squared:                  0.079\n",
      "Method:                 Least Squares   F-statistic:                     1121.\n",
      "Date:                Tue, 22 Mar 2016   Prob (F-statistic):          7.73e-236\n",
      "Time:                        19:29:33   Log-Likelihood:                -67889.\n",
      "No. Observations:               12975   AIC:                         1.358e+05\n",
      "Df Residuals:                   12973   BIC:                         1.358e+05\n",
      "Df Model:                           1                                         \n",
      "Covariance Type:            nonrobust                                         \n",
      "==============================================================================\n",
      "                 coef    std err          t      P>|t|      [95.0% Conf. Int.]\n",
      "------------------------------------------------------------------------------\n",
      "const          5.8714      0.401     14.629      0.000         5.085     6.658\n",
      "x1           383.8941     11.465     33.484      0.000       361.421   406.367\n",
      "==============================================================================\n",
      "Omnibus:                    27120.557   Durbin-Watson:                   1.988\n",
      "Prob(Omnibus):                  0.000   Jarque-Bera (JB):        109934099.412\n",
      "Skew:                          18.023   Prob(JB):                         0.00\n",
      "Kurtosis:                     452.496   Cond. No.                         28.8\n",
      "==============================================================================\n",
      "\n",
      "Warnings:\n",
      "[1] Standard Errors assume that the covariance matrix of the errors is correctly specified.\n"
     ]
    }
   ],
   "source": [
    "user_model = sm.OLS(y, sm.add_constant(X, prepend=True))\n",
    "user_only_results = user_model.fit()\n",
    "print(user_only_results.summary())"
   ]
  },
  {
   "cell_type": "markdown",
   "metadata": {},
   "source": [
    "This looks even more sane than the previous analysis; the number of followers has a reasonably strong positive correlation with the number of retweets, as we would expect! Although not exactly a *great* fit, as can be seen below (this is hardly a huge surprise though)"
   ]
  },
  {
   "cell_type": "code",
   "execution_count": 15,
   "metadata": {
    "collapsed": false
   },
   "outputs": [
    {
     "data": {
      "image/png": "[encoded data removed]",
      "text/plain": [
       "<matplotlib.figure.Figure at 0x1242a0be0>"
      ]
     },
     "metadata": {},
     "output_type": "display_data"
    }
   ],
   "source": [
    "yhat = user_only_results.fittedvalues\n",
    "fig, ax = plt.subplots()\n",
    "ax.scatter(yhat, y)\n",
    "ax.set_xlabel(\"predicted\")\n",
    "ax.set_ylabel(\"true\")\n",
    "ax.set_ylim((0,2000))\n",
    "ax.set_xlim((0,600)) # excluding some outliers here\n",
    "line_fit = sm.OLS(y,sm.add_constant(yhat, prepend=True)).fit()\n",
    "fitted_plot = abline_plot(model_results=line_fit, ax=ax)"
   ]
  },
  {
   "cell_type": "markdown",
   "metadata": {},
   "source": [
    "Now introduce text features (simple unigrams for now) as well. Here I severely limit predictor set (to 200 most frequent words); can of course try to extend this!"
   ]
  },
  {
   "cell_type": "code",
   "execution_count": 16,
   "metadata": {
    "collapsed": false
   },
   "outputs": [
    {
     "data": {
      "text/plain": [
       "(12975, 200)"
      ]
     },
     "execution_count": 16,
     "metadata": {},
     "output_type": "execute_result"
    }
   ],
   "source": [
    "## \n",
    "# build text features. \n",
    "stop_words = list(sklearn.feature_extraction.stop_words.ENGLISH_STOP_WORDS)\n",
    "stop_words.extend([str(x) for x in range(2001)]) # remove numbers, too\n",
    "vectorizer = sklearn.feature_extraction.text.CountVectorizer(binary=True, \n",
    "                                        stop_words=stop_words, ngram_range=(1, 2),\n",
    "                                        max_features=200, min_df=20)\n",
    "X_text = vectorizer.fit_transform(primary_tweets[\"text\"])\n",
    "X_text.shape"
   ]
  },
  {
   "cell_type": "code",
   "execution_count": 17,
   "metadata": {
    "collapsed": false
   },
   "outputs": [],
   "source": [
    "X_user_normed = sm.add_constant(X_user_normed, prepend=True)\n",
    "X_all  = X_text.copy().todense()\n",
    "X_all  = np.hstack((X_user_normed, X_all))"
   ]
  },
  {
   "cell_type": "code",
   "execution_count": 18,
   "metadata": {
    "collapsed": false
   },
   "outputs": [],
   "source": [
    "indices_to_tokens = dict(zip(list(vectorizer.vocabulary_.values()), list(vectorizer.vocabulary_)))"
   ]
  },
  {
   "cell_type": "code",
   "execution_count": 19,
   "metadata": {
    "collapsed": false
   },
   "outputs": [],
   "source": [
    "X_all_df = pd.DataFrame(X_all)\n",
    "words = [indices_to_tokens[idx] for idx in range(X_text.shape[1])]\n",
    "col_names = [\"intercept\", \"followers\"]\n",
    "col_names.extend(words)\n",
    "X_all_df.columns = col_names"
   ]
  },
  {
   "cell_type": "code",
   "execution_count": 20,
   "metadata": {
    "collapsed": false
   },
   "outputs": [
    {
     "name": "stdout",
     "output_type": "stream",
     "text": [
      "                            OLS Regression Results                            \n",
      "==============================================================================\n",
      "Dep. Variable:                      y   R-squared:                       0.102\n",
      "Model:                            OLS   Adj. R-squared:                  0.087\n",
      "Method:                 Least Squares   F-statistic:                     7.183\n",
      "Date:                Tue, 22 Mar 2016   Prob (F-statistic):          1.56e-174\n",
      "Time:                        19:29:39   Log-Likelihood:                -67732.\n",
      "No. Observations:               12975   AIC:                         1.359e+05\n",
      "Df Residuals:                   12773   BIC:                         1.374e+05\n",
      "Df Model:                         201                                         \n",
      "Covariance Type:            nonrobust                                         \n",
      "========================================================================================\n",
      "                           coef    std err          t      P>|t|      [95.0% Conf. Int.]\n",
      "----------------------------------------------------------------------------------------\n",
      "intercept                3.5086      1.848      1.899      0.058        -0.113     7.130\n",
      "followers              387.5370     11.577     33.476      0.000       364.845   410.229\n",
      "000                     -0.0656      5.030     -0.013      0.990        -9.925     9.794\n",
      "04149770042             -2.3946     20.677     -0.116      0.908       -42.925    38.135\n",
      "age                     -3.0654      4.263     -0.719      0.472       -11.422     5.291\n",
      "amp                      1.2733      1.801      0.707      0.480        -2.257     4.804\n",
      "anos                     3.7389      4.564      0.819      0.413        -5.208    12.686\n",
      "awareness               -0.4376      4.558     -0.096      0.924        -9.372     8.497\n",
      "boys                     0.3804      2.836      0.134      0.893        -5.179     5.939\n",
      "breast                  18.7624      3.412      5.499      0.000        12.075    25.450\n",
      "campanha                 0.3251      4.342      0.075      0.940        -8.185     8.835\n",
      "cancer                  -0.1860      2.107     -0.088      0.930        -4.317     3.945\n",
      "cancer awareness        -1.2635      5.951     -0.212      0.832       -12.929    10.402\n",
      "cancer http              1.0631      2.025      0.525      0.600        -2.907     5.033\n",
      "cancer prevention        5.1025      6.947      0.734      0.463        -8.515    18.720\n",
      "cancer screening        -1.4213      4.487     -0.317      0.751       -10.216     7.374\n",
      "cancer vaccine           3.8191      5.111      0.747      0.455        -6.199    13.837\n",
      "cancers                 -0.4811      3.184     -0.151      0.880        -6.722     5.760\n",
      "cases                    5.6804      4.883      1.163      0.245        -3.891    15.252\n",
      "cause                   -1.7038      3.598     -0.474      0.636        -8.756     5.349\n",
      "caused                   4.1126      4.480      0.918      0.359        -4.669    12.894\n",
      "causes                  -5.0147      4.279     -1.172      0.241       -13.403     3.374\n",
      "cdc                     -3.2638      4.645     -0.703      0.482       -12.370     5.842\n",
      "cervical                 0.1390      4.112      0.034      0.973        -7.922     8.200\n",
      "cervical cancer          2.2239      4.604      0.483      0.629        -6.801    11.249\n",
      "cervicalcancer           1.6189      3.889      0.416      0.677        -6.005     9.242\n",
      "check                    5.5959      4.931      1.135      0.256        -4.069    15.261\n",
      "com                      0.1572      4.776      0.033      0.974        -9.204     9.518\n",
      "começa                   1.0162      5.110      0.199      0.842        -9.000    11.033\n",
      "common                  -1.4428      4.711     -0.306      0.759       -10.677     7.791\n",
      "contra                   0.9533      6.852      0.139      0.889       -12.477    14.384\n",
      "contra el                2.7778     14.103      0.197      0.844       -24.866    30.422\n",
      "contra hpv              -4.0270      6.574     -0.613      0.540       -16.912     8.858\n",
      "da                      -1.2970      3.585     -0.362      0.718        -8.325     5.731\n",
      "da vacina                0.6676      6.753      0.099      0.921       -12.569    13.904\n",
      "dan                      6.7214      4.550      1.477      0.140        -2.197    15.640\n",
      "deaths                   4.3479      4.708      0.924      0.356        -4.880    13.576\n",
      "di                       5.6233      4.574      1.229      0.219        -3.342    14.589\n",
      "did                      8.5505      4.247      2.013      0.044         0.225    16.876\n",
      "died                     0.1750      5.401      0.032      0.974       -10.412    10.762\n",
      "disease                  0.4602      4.645      0.099      0.921        -8.645     9.565\n",
      "doctor                  -1.8773      4.298     -0.437      0.662       -10.302     6.547\n",
      "doctors                 -1.1728      4.348     -0.270      0.787        -9.695     7.349\n",
      "does                    -2.1234      4.072     -0.521      0.602       -10.106     5.859\n",
      "doesn                    0.3317      4.820      0.069      0.945        -9.116     9.780\n",
      "don                      2.4107      3.106      0.776      0.438        -3.677     8.498\n",
      "dose                    -2.3858      4.560     -0.523      0.601       -11.325     6.553\n",
      "dose da                  1.8353      8.450      0.217      0.828       -14.728    18.398\n",
      "dr                      -4.2218      3.487     -1.211      0.226       -11.057     2.614\n",
      "early                   -2.2495      4.261     -0.528      0.598       -10.602     6.103\n",
      "effects                  2.3123      4.630      0.499      0.618        -6.763    11.388\n",
      "el                       0.9702      5.810      0.167      0.867       -10.418    12.359\n",
      "el pais                -11.1291     36.610     -0.304      0.761       -82.891    60.633\n",
      "el vph                  -7.8223     18.402     -0.425      0.671       -43.892    28.248\n",
      "em                      -4.5431      3.207     -1.417      0.157       -10.829     1.743\n",
      "en                      -1.1272      5.145     -0.219      0.827       -11.213     8.959\n",
      "envios                  -1.5974     10.964     -0.146      0.884       -23.088    19.893\n",
      "eu                      -0.7023      4.732     -0.148      0.882        -9.979     8.574\n",
      "fda                     -4.3005      4.872     -0.883      0.377       -13.851     5.250\n",
      "free                    -0.9087      3.326     -0.273      0.785        -7.427     5.610\n",
      "gardasil                 1.8233      2.011      0.907      0.365        -2.119     5.766\n",
      "gardasil merck           5.4706     13.249      0.413      0.680       -20.499    31.441\n",
      "gardasil vaccine         1.2611      4.987      0.253      0.800        -8.515    11.037\n",
      "gardasilv                1.4412     18.871      0.076      0.939       -35.548    38.431\n",
      "gardasilv gardasil      -0.3642     10.851     -0.034      0.973       -21.635    20.906\n",
      "genital                  1.0801      6.110      0.177      0.860       -10.897    13.057\n",
      "getting                  1.1863      3.467      0.342      0.732        -5.610     7.983\n",
      "girl                     2.0383      4.373      0.466      0.641        -6.533    10.609\n",
      "girls                    0.8243      2.120      0.389      0.697        -3.331     4.980\n",
      "good                     0.2721      4.544      0.060      0.952        -8.635     9.179\n",
      "got                     -1.9658      3.293     -0.597      0.551        -8.421     4.490\n",
      "gt                       1.7878      4.617      0.387      0.699        -7.261    10.837\n",
      "health                  -0.5106      2.163     -0.236      0.813        -4.750     3.729\n",
      "help                     2.9989      3.274      0.916      0.360        -3.419     9.416\n",
      "high                     6.2053      4.832      1.284      0.199        -3.267    15.677\n",
      "hiv                     10.2328      3.494      2.929      0.003         3.384    17.081\n",
      "hpv                      2.1110      1.751      1.206      0.228        -1.321     5.543\n",
      "hpv http                -3.2577      2.481     -1.313      0.189        -8.120     1.605\n",
      "hpv infection           -7.7376      6.941     -1.115      0.265       -21.344     5.868\n",
      "hpv shot                -1.5820      5.716     -0.277      0.782       -12.785     9.622\n",
      "hpv vaccination          3.2109      4.901      0.655      0.512        -6.397    12.819\n",
      "hpv vaccine             -1.2622      3.222     -0.392      0.695        -7.578     5.054\n",
      "hpv vaccines            -5.0019      5.097     -0.981      0.326       -14.992     4.988\n",
      "hpv vax                 -8.5594     13.081     -0.654      0.513       -34.201    17.082\n",
      "http                    -2.9322      1.001     -2.929      0.003        -4.894    -0.970\n",
      "https                    7.2678      3.133      2.319      0.020         1.126    13.410\n",
      "human                    8.7486      5.334      1.640      0.101        -1.706    19.204\n",
      "human papillomavirus    -6.6030     19.687     -0.335      0.737       -45.191    31.986\n",
      "humano                  -0.4921     12.737     -0.039      0.969       -25.459    24.474\n",
      "humano venta             4.4230     24.342      0.182      0.856       -43.291    52.137\n",
      "infection                5.0765      5.016      1.012      0.312        -4.757    14.909\n",
      "injection               -5.7670      4.772     -1.208      0.227       -15.122     3.588\n",
      "just                     5.4683      2.765      1.978      0.048         0.049    10.888\n",
      "kanker                  -7.0532      5.983     -1.179      0.238       -18.780     4.674\n",
      "kanker serviks          -0.9633     11.905     -0.081      0.936       -24.299    22.372\n",
      "know                     0.3645      2.718      0.134      0.893        -4.963     5.692\n",
      "la                      -1.7154      4.310     -0.398      0.691       -10.163     6.732\n",
      "ladies                  -2.2955      4.608     -0.498      0.618       -11.328     6.737\n",
      "lead                    -1.2436      4.829     -0.258      0.797       -10.709     8.222\n",
      "learn                   13.0531      4.946      2.639      0.008         3.359    22.748\n",
      "life                     2.0029      4.388      0.456      0.648        -6.598    10.604\n",
      "like                     2.7472      3.226      0.852      0.394        -3.576     9.070\n",
      "likely                  -5.2288      4.817     -1.085      0.278       -14.671     4.213\n",
      "linked                   0.7582      4.278      0.177      0.859        -7.627     9.143\n",
      "low                     -3.2793      4.646     -0.706      0.480       -12.386     5.827\n",
      "mais                     5.8903      4.858      1.212      0.225        -3.633    15.413\n",
      "make                    10.5423      4.330      2.435      0.015         2.055    19.030\n",
      "medical                 -1.7247      4.529     -0.381      0.703       -10.603     7.153\n",
      "men                     -1.1498      3.246     -0.354      0.723        -7.513     5.214\n",
      "meninas                  4.2228      3.633      1.162      0.245        -2.899    11.345\n",
      "merck                    0.2013      4.740      0.042      0.966        -9.090     9.492\n",
      "merck vacuna            -6.2814     19.132     -0.328      0.743       -43.782    31.220\n",
      "month                    1.5933      4.682      0.340      0.734        -7.585    10.771\n",
      "mother                   0.6977      4.921      0.142      0.887        -8.949    10.344\n",
      "na                      -2.9779      3.978     -0.749      0.454       -10.775     4.820\n",
      "need                     0.7352      3.152      0.233      0.816        -5.442     6.913\n",
      "new                      1.5004      2.406      0.624      0.533        -3.216     6.217\n",
      "news                    -0.3584      2.791     -0.128      0.898        -5.829     5.112\n",
      "old                     -2.9438      5.016     -0.587      0.557       -12.777     6.889\n",
      "oral                    -1.9115      3.833     -0.499      0.618        -9.425     5.602\n",
      "pais                    15.5415     20.532      0.757      0.449       -24.705    55.788\n",
      "pap                     -1.1926      4.309     -0.277      0.782        -9.638     7.253\n",
      "pap smear               -9.6450      7.425     -1.299      0.194       -24.200     4.910\n",
      "pap smears             -10.1393     12.941     -0.784      0.433       -35.505    15.226\n",
      "papillomavirus          -3.6804     18.578     -0.198      0.843       -40.097    32.736\n",
      "papiloma                -0.5685     11.799     -0.048      0.962       -23.696    22.559\n",
      "papiloma humano         -1.8478     20.716     -0.089      0.929       -42.454    38.758\n",
      "para                    -2.3675      3.708     -0.638      0.523        -9.637     4.902\n",
      "parents                 -0.4088      4.163     -0.098      0.922        -8.570     7.752\n",
      "people                   0.0707      4.074      0.017      0.986        -7.915     8.056\n",
      "pls                      3.1497      5.031      0.626      0.531        -6.713    13.012\n",
      "post                     4.6108      4.783      0.964      0.335        -4.764    13.985\n",
      "prevent                  5.1948      4.108      1.265      0.206        -2.858    13.248\n",
      "prevent cervical        -0.8016      5.930     -0.135      0.892       -12.425    10.822\n",
      "prevention              -4.2658      5.871     -0.727      0.467       -15.773     7.242\n",
      "protect                  2.0868      4.836      0.432      0.666        -7.392    11.566\n",
      "que                     -1.6090      3.228     -0.498      0.618        -7.936     4.718\n",
      "raise                    5.8864      5.627      1.046      0.296        -5.144    16.917\n",
      "rates                    2.4390      3.877      0.629      0.529        -5.160    10.038\n",
      "read                     1.3697      4.556      0.301      0.764        -7.560    10.299\n",
      "research                -4.2577      4.697     -0.907      0.365       -13.464     4.948\n",
      "risk                    -2.9229      2.676     -1.092      0.275        -8.168     2.322\n",
      "rt                       0.2098      2.072      0.101      0.919        -3.851     4.270\n",
      "says                     5.1542      3.870      1.332      0.183        -2.431    12.739\n",
      "saúde                   -0.6237      4.704     -0.133      0.895        -9.845     8.598\n",
      "screening                0.0380      3.452      0.011      0.991        -6.729     6.805\n",
      "se                       1.3819      4.575      0.302      0.763        -7.585    10.349\n",
      "segunda                  0.3191      4.579      0.070      0.944        -8.656     9.295\n",
      "serviks                  5.4602     10.593      0.515      0.606       -15.304    26.225\n",
      "sex                     10.7600      3.109      3.461      0.001         4.665    16.855\n",
      "sexual                  -2.8177      4.368     -0.645      0.519       -11.379     5.743\n",
      "sexually                -1.4812      4.927     -0.301      0.764       -11.139     8.176\n",
      "shot                    -4.8033      4.240     -1.133      0.257       -13.115     3.509\n",
      "shots                   -7.0453      4.696     -1.500      0.134       -16.249     2.159\n",
      "shows                    0.4944      4.706      0.105      0.916        -8.729     9.718\n",
      "sign                     1.7890      5.600      0.319      0.749        -9.189    12.767\n",
      "smear                   12.2102      5.680      2.150      0.032         1.076    23.344\n",
      "smear test              -8.3299      6.962     -1.196      0.232       -21.977     5.317\n",
      "smears                  22.1008     11.940      1.851      0.064        -1.302    45.504\n",
      "story                    3.0629      4.777      0.641      0.521        -6.300    12.426\n",
      "study                   -4.0965      2.487     -1.647      0.100        -8.971     0.779\n",
      "support                 -1.3092      4.497     -0.291      0.771       -10.124     7.506\n",
      "test                    -2.0975      3.123     -0.672      0.502        -8.219     4.024\n",
      "testing                 -4.8291      4.148     -1.164      0.244       -12.960     3.302\n",
      "tests                    7.5662      4.224      1.791      0.073        -0.714    15.846\n",
      "think                    3.8039      4.772      0.797      0.425        -5.551    13.159\n",
      "throat                  -4.9924      4.484     -1.113      0.266       -13.782     3.797\n",
      "time                     1.4182      4.210      0.337      0.736        -6.834     9.671\n",
      "today                    0.9939      3.156      0.315      0.753        -5.193     7.181\n",
      "todo                     1.2244      9.156      0.134      0.894       -16.723    19.172\n",
      "todo el                 -4.8197     28.984     -0.166      0.868       -61.633    51.994\n",
      "tomar                   -2.2452      5.236     -0.429      0.668       -12.509     8.019\n",
      "treatment               21.6821      4.453      4.869      0.000        12.953    30.411\n",
      "types                    1.3521      4.738      0.285      0.775        -7.935    10.639\n",
      "vaccinated               4.0553      4.719      0.859      0.390        -5.194    13.305\n",
      "vaccination             -2.9421      4.213     -0.698      0.485       -11.200     5.316\n",
      "vaccine                  0.0830      3.024      0.027      0.978        -5.845     6.011\n",
      "vaccine http            -0.2456      2.941     -0.084      0.933        -6.010     5.519\n",
      "vaccines                 4.8521      3.977      1.220      0.222        -2.943    12.647\n",
      "vacina                   0.7130      5.064      0.141      0.888        -9.214    10.640\n",
      "vacina contra            1.2618      5.732      0.220      0.826        -9.974    12.497\n",
      "vacina hpv              -3.7654      6.323     -0.596      0.552       -16.159     8.628\n",
      "vacinação               -2.7848      6.532     -0.426      0.670       -15.589    10.019\n",
      "vacinação contra         4.5986      7.128      0.645      0.519        -9.374    18.571\n",
      "vacuna                   0.6478      7.572      0.086      0.932       -14.194    15.490\n",
      "vacuna contra            1.6230     13.737      0.118      0.906       -25.303    28.549\n",
      "vaksin                  -4.8866      4.776     -1.023      0.306       -14.248     4.475\n",
      "vax                      8.6898     12.223      0.711      0.477       -15.269    32.649\n",
      "venta                   -4.8230     19.160     -0.252      0.801       -42.379    32.733\n",
      "virus                    0.3874      2.968      0.131      0.896        -5.431     6.206\n",
      "virus papiloma          -4.2426     22.101     -0.192      0.848       -47.563    39.078\n",
      "vph                      2.1170      9.374      0.226      0.821       -16.257    20.491\n",
      "vph virus                2.6930     33.354      0.081      0.936       -62.686    68.072\n",
      "warts                    3.9219      6.355      0.617      0.537        -8.534    16.378\n",
      "week                     7.2804      4.700      1.549      0.121        -1.932    16.492\n",
      "woman                    8.2253      3.851      2.136      0.033         0.677    15.773\n",
      "women                    5.3386      1.740      3.069      0.002         1.928     8.749\n",
      "world                    0.2864      4.683      0.061      0.951        -8.894     9.466\n",
      "yang                    10.7173      4.891      2.191      0.028         1.130    20.305\n",
      "year                    -2.3083      3.722     -0.620      0.535        -9.605     4.988\n",
      "years                    2.2588      4.043      0.559      0.576        -5.666    10.183\n",
      "young                    0.7142      3.214      0.222      0.824        -5.586     7.014\n",
      "==============================================================================\n",
      "Omnibus:                    27037.511   Durbin-Watson:                   2.002\n",
      "Prob(Omnibus):                  0.000   Jarque-Bera (JB):        109411297.446\n",
      "Skew:                          17.889   Prob(JB):                         0.00\n",
      "Kurtosis:                     451.441   Cond. No.                         170.\n",
      "==============================================================================\n",
      "\n",
      "Warnings:\n",
      "[1] Standard Errors assume that the covariance matrix of the errors is correctly specified.\n"
     ]
    }
   ],
   "source": [
    "model_all = sm.OLS(y, X_all_df)\n",
    "results_all = model_all.fit()\n",
    "print(results_all.summary())"
   ]
  },
  {
   "cell_type": "code",
   "execution_count": 21,
   "metadata": {
    "collapsed": false
   },
   "outputs": [
    {
     "data": {
      "image/png": "[encoded data removed]",
      "text/plain": [
       "<matplotlib.figure.Figure at 0x125c4bba8>"
      ]
     },
     "metadata": {},
     "output_type": "display_data"
    }
   ],
   "source": [
    "yhat = results_all.fittedvalues\n",
    "fig, ax = plt.subplots()\n",
    "ax.scatter(yhat, y)\n",
    "ax.set_xlabel(\"predicted\")\n",
    "ax.set_ylabel(\"true\")\n",
    "ax.set_ylim((0,2000))\n",
    "ax.set_xlim((0,600)) # excluding some outliers here\n",
    "line_fit = sm.OLS(y,sm.add_constant(yhat, prepend=True)).fit()\n",
    "fitted_plot = abline_plot(model_results=line_fit, ax=ax)"
   ]
  },
  {
   "cell_type": "markdown",
   "metadata": {},
   "source": [
    "A note of caution, of course: this is certainly overfit! We have hundreds of predictors and only 13k data points, so results to be taken with a large grain of salt."
   ]
  },
  {
   "cell_type": "code",
   "execution_count": null,
   "metadata": {
    "collapsed": true
   },
   "outputs": [],
   "source": []
  }
 ],
 "metadata": {
  "kernelspec": {
   "display_name": "Python 3",
   "language": "python",
   "name": "python3"
  },
  "language_info": {
   "codemirror_mode": {
    "name": "ipython",
    "version": 3
   },
   "file_extension": ".py",
   "mimetype": "text/x-python",
   "name": "python",
   "nbconvert_exporter": "python",
   "pygments_lexer": "ipython3",
   "version": "3.4.4"
  }
 },
 "nbformat": 4,
 "nbformat_minor": 0
}
