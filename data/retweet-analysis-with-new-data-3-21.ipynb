{
 "cells": [
  {
   "cell_type": "markdown",
   "metadata": {},
   "source": [
    "## *New* re-run of re-tweet (predictive) analyses using new data from David\n",
    "*updated: 3/21 (with data sent 3/14)*"
   ]
  },
  {
   "cell_type": "code",
   "execution_count": 1,
   "metadata": {
    "collapsed": true
   },
   "outputs": [],
   "source": [
    "# hide warnings to keep things tidy.\n",
    "import warnings\n",
    "warnings.filterwarnings('ignore')\n",
    "\n",
    "import json\n",
    "from pprint import pprint\n",
    "\n",
    "import pandas as pd\n",
    "import numpy as np \n",
    "import scipy as sp\n",
    "import nltk\n",
    "import sklearn\n",
    "import statsmodels \n",
    "from statsmodels.graphics.api import abline_plot\n",
    "import statsmodels.api as sm\n",
    "import matplotlib.pyplot as plt\n",
    "%matplotlib inline \n",
    "\n",
    "import snowball\n"
   ]
  },
  {
   "cell_type": "code",
   "execution_count": 2,
   "metadata": {
    "collapsed": false
   },
   "outputs": [],
   "source": [
    "with open(\"original_tweets_unique.json\") as updated_tweets_f:\n",
    "    # the transpose is to re-shape so that rows are\n",
    "    # tweets (cols are attributes)\n",
    "    tweet_df = pd.read_json(updated_tweets_f)"
   ]
  },
  {
   "cell_type": "code",
   "execution_count": 3,
   "metadata": {
    "collapsed": false
   },
   "outputs": [
    {
     "data": {
      "text/plain": [
       "(12975, 29)"
      ]
     },
     "execution_count": 3,
     "metadata": {},
     "output_type": "execute_result"
    }
   ],
   "source": [
    "tweet_df.shape"
   ]
  },
  {
   "cell_type": "code",
   "execution_count": 4,
   "metadata": {
    "collapsed": false
   },
   "outputs": [
    {
     "data": {
      "text/html": [
       "<div>\n",
       "<table border=\"1\" class=\"dataframe\">\n",
       "  <thead>\n",
       "    <tr style=\"text-align: right;\">\n",
       "      <th></th>\n",
       "      <th>contributors</th>\n",
       "      <th>coordinates</th>\n",
       "      <th>created_at</th>\n",
       "      <th>entities</th>\n",
       "      <th>extended_entities</th>\n",
       "      <th>favorite_count</th>\n",
       "      <th>favorited</th>\n",
       "      <th>geo</th>\n",
       "      <th>id</th>\n",
       "      <th>id_str</th>\n",
       "      <th>...</th>\n",
       "      <th>quoted_status</th>\n",
       "      <th>quoted_status_id</th>\n",
       "      <th>quoted_status_id_str</th>\n",
       "      <th>retweet_count</th>\n",
       "      <th>retweeted</th>\n",
       "      <th>scopes</th>\n",
       "      <th>source</th>\n",
       "      <th>text</th>\n",
       "      <th>truncated</th>\n",
       "      <th>user</th>\n",
       "    </tr>\n",
       "  </thead>\n",
       "  <tbody>\n",
       "    <tr>\n",
       "      <th>0</th>\n",
       "      <td>NaN</td>\n",
       "      <td>None</td>\n",
       "      <td>2009-09-29 19:26:02</td>\n",
       "      <td>{'symbols': [], 'urls': [], 'hashtags': [{'ind...</td>\n",
       "      <td>NaN</td>\n",
       "      <td>2</td>\n",
       "      <td>False</td>\n",
       "      <td>None</td>\n",
       "      <td>4477687173</td>\n",
       "      <td>4477687173</td>\n",
       "      <td>...</td>\n",
       "      <td>NaN</td>\n",
       "      <td>NaN</td>\n",
       "      <td>NaN</td>\n",
       "      <td>8</td>\n",
       "      <td>False</td>\n",
       "      <td>NaN</td>\n",
       "      <td>&lt;a href=\"http://twitter.com\" rel=\"nofollow\"&gt;Tw...</td>\n",
       "      <td>#news: British girl dies after cervical cancer...</td>\n",
       "      <td>False</td>\n",
       "      <td>{'id_str': '16465690', 'verified': False, 'des...</td>\n",
       "    </tr>\n",
       "    <tr>\n",
       "      <th>1</th>\n",
       "      <td>NaN</td>\n",
       "      <td>None</td>\n",
       "      <td>2009-11-25 23:07:01</td>\n",
       "      <td>{'symbols': [], 'urls': [], 'hashtags': [{'ind...</td>\n",
       "      <td>NaN</td>\n",
       "      <td>0</td>\n",
       "      <td>False</td>\n",
       "      <td>None</td>\n",
       "      <td>6064161577</td>\n",
       "      <td>6064161577</td>\n",
       "      <td>...</td>\n",
       "      <td>NaN</td>\n",
       "      <td>NaN</td>\n",
       "      <td>NaN</td>\n",
       "      <td>4</td>\n",
       "      <td>False</td>\n",
       "      <td>NaN</td>\n",
       "      <td>&lt;a href=\"http://twitter.com\" rel=\"nofollow\"&gt;Tw...</td>\n",
       "      <td>RT @SamValley We Wish You a Lucky Mammogram, a...</td>\n",
       "      <td>False</td>\n",
       "      <td>{'id_str': '36683386', 'verified': False, 'des...</td>\n",
       "    </tr>\n",
       "    <tr>\n",
       "      <th>2</th>\n",
       "      <td>NaN</td>\n",
       "      <td>None</td>\n",
       "      <td>2011-02-04 21:49:10</td>\n",
       "      <td>{'symbols': [], 'urls': [], 'hashtags': [], 'u...</td>\n",
       "      <td>NaN</td>\n",
       "      <td>1</td>\n",
       "      <td>False</td>\n",
       "      <td>None</td>\n",
       "      <td>33643250145296385</td>\n",
       "      <td>33643250145296384</td>\n",
       "      <td>...</td>\n",
       "      <td>NaN</td>\n",
       "      <td>NaN</td>\n",
       "      <td>NaN</td>\n",
       "      <td>4</td>\n",
       "      <td>False</td>\n",
       "      <td>NaN</td>\n",
       "      <td>&lt;a href=\"http://www.exacttarget.com/social\" re...</td>\n",
       "      <td>This week’s podcast: a new antibiotic for C. d...</td>\n",
       "      <td>False</td>\n",
       "      <td>{'id_str': '20272531', 'verified': True, 'desc...</td>\n",
       "    </tr>\n",
       "    <tr>\n",
       "      <th>3</th>\n",
       "      <td>NaN</td>\n",
       "      <td>None</td>\n",
       "      <td>2011-03-17 04:15:40</td>\n",
       "      <td>{'symbols': [], 'urls': [], 'hashtags': [], 'u...</td>\n",
       "      <td>NaN</td>\n",
       "      <td>0</td>\n",
       "      <td>False</td>\n",
       "      <td>None</td>\n",
       "      <td>48236030637244417</td>\n",
       "      <td>48236030637244416</td>\n",
       "      <td>...</td>\n",
       "      <td>NaN</td>\n",
       "      <td>NaN</td>\n",
       "      <td>NaN</td>\n",
       "      <td>2</td>\n",
       "      <td>False</td>\n",
       "      <td>NaN</td>\n",
       "      <td>&lt;a href=\"http://twitter.com\" rel=\"nofollow\"&gt;Tw...</td>\n",
       "      <td>i eat more pussy that cervical cancer.</td>\n",
       "      <td>False</td>\n",
       "      <td>{'id_str': '263495632', 'verified': False, 'de...</td>\n",
       "    </tr>\n",
       "    <tr>\n",
       "      <th>4</th>\n",
       "      <td>NaN</td>\n",
       "      <td>None</td>\n",
       "      <td>2011-08-07 02:01:02</td>\n",
       "      <td>{'symbols': [], 'urls': [], 'hashtags': [{'ind...</td>\n",
       "      <td>NaN</td>\n",
       "      <td>0</td>\n",
       "      <td>False</td>\n",
       "      <td>None</td>\n",
       "      <td>100023613498982401</td>\n",
       "      <td>100023613498982400</td>\n",
       "      <td>...</td>\n",
       "      <td>NaN</td>\n",
       "      <td>NaN</td>\n",
       "      <td>NaN</td>\n",
       "      <td>4</td>\n",
       "      <td>False</td>\n",
       "      <td>NaN</td>\n",
       "      <td>&lt;a href=\"http://twitter.com\" rel=\"nofollow\"&gt;Tw...</td>\n",
       "      <td>NVIC to FDA: not reassured by safety data; Mer...</td>\n",
       "      <td>False</td>\n",
       "      <td>{'id_str': '112724522', 'verified': False, 'de...</td>\n",
       "    </tr>\n",
       "  </tbody>\n",
       "</table>\n",
       "<p>5 rows × 29 columns</p>\n",
       "</div>"
      ],
      "text/plain": [
       "   contributors coordinates          created_at  \\\n",
       "0           NaN        None 2009-09-29 19:26:02   \n",
       "1           NaN        None 2009-11-25 23:07:01   \n",
       "2           NaN        None 2011-02-04 21:49:10   \n",
       "3           NaN        None 2011-03-17 04:15:40   \n",
       "4           NaN        None 2011-08-07 02:01:02   \n",
       "\n",
       "                                            entities extended_entities  \\\n",
       "0  {'symbols': [], 'urls': [], 'hashtags': [{'ind...               NaN   \n",
       "1  {'symbols': [], 'urls': [], 'hashtags': [{'ind...               NaN   \n",
       "2  {'symbols': [], 'urls': [], 'hashtags': [], 'u...               NaN   \n",
       "3  {'symbols': [], 'urls': [], 'hashtags': [], 'u...               NaN   \n",
       "4  {'symbols': [], 'urls': [], 'hashtags': [{'ind...               NaN   \n",
       "\n",
       "   favorite_count favorited   geo                  id              id_str  \\\n",
       "0               2     False  None          4477687173          4477687173   \n",
       "1               0     False  None          6064161577          6064161577   \n",
       "2               1     False  None   33643250145296385   33643250145296384   \n",
       "3               0     False  None   48236030637244417   48236030637244416   \n",
       "4               0     False  None  100023613498982401  100023613498982400   \n",
       "\n",
       "                         ...                         quoted_status  \\\n",
       "0                        ...                                   NaN   \n",
       "1                        ...                                   NaN   \n",
       "2                        ...                                   NaN   \n",
       "3                        ...                                   NaN   \n",
       "4                        ...                                   NaN   \n",
       "\n",
       "   quoted_status_id  quoted_status_id_str  retweet_count  retweeted scopes  \\\n",
       "0               NaN                   NaN              8      False    NaN   \n",
       "1               NaN                   NaN              4      False    NaN   \n",
       "2               NaN                   NaN              4      False    NaN   \n",
       "3               NaN                   NaN              2      False    NaN   \n",
       "4               NaN                   NaN              4      False    NaN   \n",
       "\n",
       "                                              source  \\\n",
       "0  <a href=\"http://twitter.com\" rel=\"nofollow\">Tw...   \n",
       "1  <a href=\"http://twitter.com\" rel=\"nofollow\">Tw...   \n",
       "2  <a href=\"http://www.exacttarget.com/social\" re...   \n",
       "3  <a href=\"http://twitter.com\" rel=\"nofollow\">Tw...   \n",
       "4  <a href=\"http://twitter.com\" rel=\"nofollow\">Tw...   \n",
       "\n",
       "                                                text  truncated  \\\n",
       "0  #news: British girl dies after cervical cancer...      False   \n",
       "1  RT @SamValley We Wish You a Lucky Mammogram, a...      False   \n",
       "2  This week’s podcast: a new antibiotic for C. d...      False   \n",
       "3             i eat more pussy that cervical cancer.      False   \n",
       "4  NVIC to FDA: not reassured by safety data; Mer...      False   \n",
       "\n",
       "                                                user  \n",
       "0  {'id_str': '16465690', 'verified': False, 'des...  \n",
       "1  {'id_str': '36683386', 'verified': False, 'des...  \n",
       "2  {'id_str': '20272531', 'verified': True, 'desc...  \n",
       "3  {'id_str': '263495632', 'verified': False, 'de...  \n",
       "4  {'id_str': '112724522', 'verified': False, 'de...  \n",
       "\n",
       "[5 rows x 29 columns]"
      ]
     },
     "execution_count": 4,
     "metadata": {},
     "output_type": "execute_result"
    }
   ],
   "source": [
    "tweet_df.head()"
   ]
  },
  {
   "cell_type": "code",
   "execution_count": 5,
   "metadata": {
    "collapsed": false
   },
   "outputs": [
    {
     "data": {
      "text/plain": [
       "Index(['contributors', 'coordinates', 'created_at', 'entities',\n",
       "       'extended_entities', 'favorite_count', 'favorited', 'geo', 'id',\n",
       "       'id_str', 'in_reply_to_screen_name', 'in_reply_to_status_id',\n",
       "       'in_reply_to_status_id_str', 'in_reply_to_user_id',\n",
       "       'in_reply_to_user_id_str', 'is_quote_status', 'lang', 'place',\n",
       "       'possibly_sensitive', 'quoted_status', 'quoted_status_id',\n",
       "       'quoted_status_id_str', 'retweet_count', 'retweeted', 'scopes',\n",
       "       'source', 'text', 'truncated', 'user'],\n",
       "      dtype='object')"
      ]
     },
     "execution_count": 5,
     "metadata": {},
     "output_type": "execute_result"
    }
   ],
   "source": [
    "tweet_df.columns"
   ]
  },
  {
   "cell_type": "markdown",
   "metadata": {},
   "source": [
    "### Note that the \"retweeted\" flag is *uniformly* False in this dataset."
   ]
  },
  {
   "cell_type": "code",
   "execution_count": 6,
   "metadata": {
    "collapsed": false
   },
   "outputs": [
    {
     "name": "stdout",
     "output_type": "stream",
     "text": [
      "# primary tweets: 12975; # retweets: 0\n"
     ]
    }
   ],
   "source": [
    "primary_tweets = tweet_df[tweet_df[\"retweeted\"] == False]\n",
    "retweets = tweet_df[tweet_df[\"retweeted\"] == True]\n",
    "print(\"# primary tweets: %s; # retweets: %s\" % (\n",
    "        len(primary_tweets), len(retweets)))"
   ]
  },
  {
   "cell_type": "markdown",
   "metadata": {},
   "source": [
    "### Here I try and predict the number of retweets as a function of the number of followers one has. \n",
    "\n",
    "Assumptions and caveats: \n",
    "* The number of followers of the user who issued the *original* tweet is in the field\n",
    "'user':''followers_count'. \n",
    "* Note that this seems cleaner than it was with the last version of the dataset, wherein this field was often missing. Thanks to David for clearning this up!"
   ]
  },
  {
   "cell_type": "code",
   "execution_count": 7,
   "metadata": {
    "collapsed": false
   },
   "outputs": [
    {
     "data": {
      "text/plain": [
       "9112"
      ]
     },
     "execution_count": 7,
     "metadata": {},
     "output_type": "execute_result"
    }
   ],
   "source": [
    "primary_tweets[\"user\"].values[0][\"followers_count\"]"
   ]
  },
  {
   "cell_type": "code",
   "execution_count": 8,
   "metadata": {
    "collapsed": false
   },
   "outputs": [
    {
     "data": {
      "text/plain": [
       "12975"
      ]
     },
     "execution_count": 8,
     "metadata": {},
     "output_type": "execute_result"
    }
   ],
   "source": [
    "len(primary_tweets[\"user\"])"
   ]
  },
  {
   "cell_type": "markdown",
   "metadata": {},
   "source": [
    "Looks like we've got ~00 of these."
   ]
  },
  {
   "cell_type": "code",
   "execution_count": 9,
   "metadata": {
    "collapsed": false
   },
   "outputs": [],
   "source": [
    "X,y = [], []\n",
    "for index, tweet in primary_tweets.iterrows():\n",
    "    X.append(tweet[\"user\"][\"followers_count\"])\n",
    "    y.append(tweet[\"retweet_count\"])"
   ]
  },
  {
   "cell_type": "markdown",
   "metadata": {},
   "source": [
    "I print out stats below; note that (apparently) the mean number of followers here is 114157. Still seems (suspiciously) large to me, but then what I do know. The range is (0, 2.4 mil)."
   ]
  },
  {
   "cell_type": "code",
   "execution_count": 10,
   "metadata": {
    "collapsed": false
   },
   "outputs": [
    {
     "name": "stdout",
     "output_type": "stream",
     "text": [
      "DescribeResult(nobs=12975, minmax=(0, 24351276), mean=114157.99606936416, variance=713687072412.37488, skewness=14.895372524798328, kurtosis=311.49847003345)\n"
     ]
    }
   ],
   "source": [
    "print(sp.stats.describe(X))"
   ]
  },
  {
   "cell_type": "markdown",
   "metadata": {},
   "source": [
    "Now column normalize "
   ]
  },
  {
   "cell_type": "code",
   "execution_count": 11,
   "metadata": {
    "collapsed": false
   },
   "outputs": [
    {
     "ename": "AttributeError",
     "evalue": "'list' object has no attribute 'max'",
     "output_type": "error",
     "traceback": [
      "\u001b[0;31m---------------------------------------------------------------------------\u001b[0m",
      "\u001b[0;31mAttributeError\u001b[0m                            Traceback (most recent call last)",
      "\u001b[0;32m<ipython-input-11-8794a2375c00>\u001b[0m in \u001b[0;36m<module>\u001b[0;34m()\u001b[0m\n\u001b[1;32m      1\u001b[0m \u001b[0;31m# build\u001b[0m\u001b[0;34m\u001b[0m\u001b[0;34m\u001b[0m\u001b[0m\n\u001b[0;32m----> 2\u001b[0;31m \u001b[0mX_user_normed\u001b[0m \u001b[0;34m=\u001b[0m \u001b[0mX\u001b[0m\u001b[0;34m/\u001b[0m\u001b[0mX\u001b[0m\u001b[0;34m.\u001b[0m\u001b[0mmax\u001b[0m\u001b[0;34m(\u001b[0m\u001b[0;34m)\u001b[0m\u001b[0;34m\u001b[0m\u001b[0m\n\u001b[0m\u001b[1;32m      3\u001b[0m \u001b[0;31m#X_user_normed = sm.add_constant(X_user_normed, prepend=True)\u001b[0m\u001b[0;34m\u001b[0m\u001b[0;34m\u001b[0m\u001b[0m\n\u001b[1;32m      4\u001b[0m \u001b[0mprint\u001b[0m\u001b[0;34m(\u001b[0m\u001b[0msp\u001b[0m\u001b[0;34m.\u001b[0m\u001b[0mstats\u001b[0m\u001b[0;34m.\u001b[0m\u001b[0mdescribe\u001b[0m\u001b[0;34m(\u001b[0m\u001b[0mX_user_normed\u001b[0m\u001b[0;34m)\u001b[0m\u001b[0;34m)\u001b[0m\u001b[0;34m\u001b[0m\u001b[0m\n",
      "\u001b[0;31mAttributeError\u001b[0m: 'list' object has no attribute 'max'"
     ]
    }
   ],
   "source": [
    "# build\n",
    "X = np.matrix(X)\n",
    "X_user_normed = X/X.max()\n",
    "#X_user_normed = sm.add_constant(X_user_normed, prepend=True)\n",
    "print(sp.stats.describe(X_user_normed))"
   ]
  },
  {
   "cell_type": "markdown",
   "metadata": {},
   "source": [
    "Re-tweet counts, meanwhile, seem sane."
   ]
  },
  {
   "cell_type": "code",
   "execution_count": null,
   "metadata": {
    "collapsed": false
   },
   "outputs": [],
   "source": [
    "print(sp.stats.describe(y))"
   ]
  },
  {
   "cell_type": "code",
   "execution_count": null,
   "metadata": {
    "collapsed": false
   },
   "outputs": [],
   "source": [
    "# prepare data for statsmodels\n",
    "X = X_user_normed\n",
    "y = np.array(y)\n",
    "print(\"X shape: %s; y shape: %s\" % (X.shape, y.shape))"
   ]
  },
  {
   "cell_type": "markdown",
   "metadata": {},
   "source": [
    "Now fit the model; again this is just using the raw number of followers as the independent var and the retweet count as the dependent."
   ]
  },
  {
   "cell_type": "code",
   "execution_count": null,
   "metadata": {
    "collapsed": false
   },
   "outputs": [],
   "source": [
    "user_model = sm.OLS(y, sm.add_constant(X, prepend=True))\n",
    "user_only_results = user_model.fit()\n",
    "print(user_only_results.summary())"
   ]
  },
  {
   "cell_type": "markdown",
   "metadata": {},
   "source": [
    "This looks even more sane than the previous analysis; the number of followers has a reasonably strong positive correlation with the number of retweets, as we would expect! Although not exactly a *great* fit, as can be seen below (this is hardly a huge surprise though)"
   ]
  },
  {
   "cell_type": "code",
   "execution_count": null,
   "metadata": {
    "collapsed": false
   },
   "outputs": [],
   "source": [
    "yhat = user_only_results.fittedvalues\n",
    "fig, ax = plt.subplots()\n",
    "ax.scatter(yhat, y)\n",
    "ax.set_xlabel(\"predicted\")\n",
    "ax.set_ylabel(\"true\")\n",
    "ax.set_ylim((0,2000))\n",
    "ax.set_xlim((0,600)) # excluding some outliers here\n",
    "line_fit = sm.OLS(y,sm.add_constant(yhat, prepend=True)).fit()\n",
    "fitted_plot = abline_plot(model_results=line_fit, ax=ax)"
   ]
  },
  {
   "cell_type": "markdown",
   "metadata": {},
   "source": [
    "Now introduce text features (simple unigrams for now) as well. Here I severely limit predictor set (to 200 most frequent words); can of course try to extend this!"
   ]
  },
  {
   "cell_type": "code",
   "execution_count": null,
   "metadata": {
    "collapsed": false
   },
   "outputs": [],
   "source": [
    "## \n",
    "# build text features. \n",
    "stop_words = list(sklearn.feature_extraction.stop_words.ENGLISH_STOP_WORDS)\n",
    "stop_words.extend([str(x) for x in range(2001)]) # remove numbers, too\n",
    "vectorizer = sklearn.feature_extraction.text.CountVectorizer(binary=True, \n",
    "                                        stop_words=stop_words, ngram_range=(1, 2),\n",
    "                                        max_features=200, min_df=20)\n",
    "X_text = vectorizer.fit_transform(primary_tweets[\"text\"])\n",
    "X_text.shape"
   ]
  },
  {
   "cell_type": "code",
   "execution_count": null,
   "metadata": {
    "collapsed": false
   },
   "outputs": [],
   "source": [
    "X_user_normed = sm.add_constant(X_user_normed, prepend=True)\n",
    "X_all  = X_text.copy().todense()\n",
    "X_all  = np.hstack((X_user_normed, X_all))"
   ]
  },
  {
   "cell_type": "code",
   "execution_count": null,
   "metadata": {
    "collapsed": false
   },
   "outputs": [],
   "source": [
    "indices_to_tokens = dict(zip(list(vectorizer.vocabulary_.values()), list(vectorizer.vocabulary_)))"
   ]
  },
  {
   "cell_type": "code",
   "execution_count": null,
   "metadata": {
    "collapsed": false
   },
   "outputs": [],
   "source": [
    "X_all_df = pd.DataFrame(X_all)\n",
    "words = [indices_to_tokens[idx] for idx in range(X_text.shape[1])]\n",
    "col_names = [\"intercept\", \"followers\"]\n",
    "col_names.extend(words)\n",
    "X_all_df.columns = col_names"
   ]
  },
  {
   "cell_type": "code",
   "execution_count": null,
   "metadata": {
    "collapsed": false
   },
   "outputs": [],
   "source": [
    "model_all = sm.OLS(y, X_all_df)\n",
    "results_all = model_all.fit()\n",
    "print(results_all.summary())"
   ]
  },
  {
   "cell_type": "code",
   "execution_count": null,
   "metadata": {
    "collapsed": false
   },
   "outputs": [],
   "source": [
    "yhat = results_all.fittedvalues\n",
    "fig, ax = plt.subplots()\n",
    "ax.scatter(yhat, y)\n",
    "ax.set_xlabel(\"predicted\")\n",
    "ax.set_ylabel(\"true\")\n",
    "ax.set_ylim((0,2000))\n",
    "ax.set_xlim((0,600)) # excluding some outliers here\n",
    "line_fit = sm.OLS(y,sm.add_constant(yhat, prepend=True)).fit()\n",
    "fitted_plot = abline_plot(model_results=line_fit, ax=ax)"
   ]
  },
  {
   "cell_type": "markdown",
   "metadata": {},
   "source": [
    "A note of caution, of course: this is certainly overfit! We have hundreds of predictors and only 13k data points, so results to be taken with a large grain of salt."
   ]
  },
  {
   "cell_type": "code",
   "execution_count": null,
   "metadata": {
    "collapsed": true
   },
   "outputs": [],
   "source": []
  }
 ],
 "metadata": {
  "kernelspec": {
   "display_name": "Python 3",
   "language": "python",
   "name": "python3"
  },
  "language_info": {
   "codemirror_mode": {
    "name": "ipython",
    "version": 3
   },
   "file_extension": ".py",
   "mimetype": "text/x-python",
   "name": "python",
   "nbconvert_exporter": "python",
   "pygments_lexer": "ipython3",
   "version": "3.4.4"
  }
 },
 "nbformat": 4,
 "nbformat_minor": 0
}
