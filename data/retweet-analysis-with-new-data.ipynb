{
 "cells": [
  {
   "cell_type": "markdown",
   "metadata": {},
   "source": [
    "## Re-run of re-tweet (predictive) analyses using new data from David"
   ]
  },
  {
   "cell_type": "code",
   "execution_count": 1,
   "metadata": {
    "collapsed": true
   },
   "outputs": [],
   "source": [
    "# hide warnings to keep things tidy.\n",
    "import warnings\n",
    "warnings.filterwarnings('ignore')\n",
    "\n",
    "import json\n",
    "from pprint import pprint\n",
    "\n",
    "import pandas as pd\n",
    "import numpy as np \n",
    "import scipy as sp\n",
    "import nltk\n",
    "import sklearn\n",
    "import statsmodels \n",
    "from statsmodels.graphics.api import abline_plot\n",
    "import statsmodels.api as sm\n",
    "import matplotlib.pyplot as plt\n",
    "%matplotlib inline \n",
    "\n",
    "import snowball\n"
   ]
  },
  {
   "cell_type": "code",
   "execution_count": 2,
   "metadata": {
    "collapsed": false
   },
   "outputs": [],
   "source": [
    "with open(\"updated_tweets.json\") as updated_tweets_f:\n",
    "    # the transpose is to re-shape so that rows are\n",
    "    # tweets (cols are attributes)\n",
    "    tweet_df = pd.read_json(updated_tweets_f).T"
   ]
  },
  {
   "cell_type": "code",
   "execution_count": 3,
   "metadata": {
    "collapsed": false
   },
   "outputs": [
    {
     "data": {
      "text/plain": [
       "13484"
      ]
     },
     "execution_count": 3,
     "metadata": {},
     "output_type": "execute_result"
    }
   ],
   "source": [
    "len(tweet_df)"
   ]
  },
  {
   "cell_type": "code",
   "execution_count": 4,
   "metadata": {
    "collapsed": false
   },
   "outputs": [
    {
     "data": {
      "text/html": [
       "<div>\n",
       "<table border=\"1\" class=\"dataframe\">\n",
       "  <thead>\n",
       "    <tr style=\"text-align: right;\">\n",
       "      <th></th>\n",
       "      <th>contributors</th>\n",
       "      <th>coordinates</th>\n",
       "      <th>created_at</th>\n",
       "      <th>entities</th>\n",
       "      <th>extended_entities</th>\n",
       "      <th>favorite_count</th>\n",
       "      <th>favorited</th>\n",
       "      <th>geo</th>\n",
       "      <th>id</th>\n",
       "      <th>id_str</th>\n",
       "      <th>...</th>\n",
       "      <th>quoted_status</th>\n",
       "      <th>quoted_status_id</th>\n",
       "      <th>quoted_status_id_str</th>\n",
       "      <th>retweet_count</th>\n",
       "      <th>retweeted</th>\n",
       "      <th>retweeted_status</th>\n",
       "      <th>source</th>\n",
       "      <th>text</th>\n",
       "      <th>truncated</th>\n",
       "      <th>user</th>\n",
       "    </tr>\n",
       "  </thead>\n",
       "  <tbody>\n",
       "    <tr>\n",
       "      <th>1975-11-13 00:33:36.092880896</th>\n",
       "      <td>None</td>\n",
       "      <td>None</td>\n",
       "      <td>Wed Mar 28 18:28:15 +0000 2012</td>\n",
       "      <td>{'hashtags': [], 'symbols': [], 'user_mentions...</td>\n",
       "      <td>NaN</td>\n",
       "      <td>0</td>\n",
       "      <td>False</td>\n",
       "      <td>None</td>\n",
       "      <td>185070816092880896</td>\n",
       "      <td>185070816092880896</td>\n",
       "      <td>...</td>\n",
       "      <td>NaN</td>\n",
       "      <td>NaN</td>\n",
       "      <td>NaN</td>\n",
       "      <td>0</td>\n",
       "      <td>False</td>\n",
       "      <td>NaN</td>\n",
       "      <td>&lt;a href=\"http://twitter.com\" rel=\"nofollow\"&gt;Tw...</td>\n",
       "      <td>Just informed by a 26 year old  Human papillom...</td>\n",
       "      <td>False</td>\n",
       "      <td>{'has_extended_profile': False, 'listed_count'...</td>\n",
       "    </tr>\n",
       "    <tr>\n",
       "      <th>1975-11-13 07:38:08.109461507</th>\n",
       "      <td>None</td>\n",
       "      <td>None</td>\n",
       "      <td>Wed Mar 28 20:09:28 +0000 2012</td>\n",
       "      <td>{'hashtags': [], 'symbols': [], 'user_mentions...</td>\n",
       "      <td>NaN</td>\n",
       "      <td>0</td>\n",
       "      <td>False</td>\n",
       "      <td>None</td>\n",
       "      <td>185096288109461507</td>\n",
       "      <td>185096288109461507</td>\n",
       "      <td>...</td>\n",
       "      <td>NaN</td>\n",
       "      <td>NaN</td>\n",
       "      <td>NaN</td>\n",
       "      <td>0</td>\n",
       "      <td>False</td>\n",
       "      <td>NaN</td>\n",
       "      <td>&lt;a href=\"http://www.facebook.com/twitter\" rel=...</td>\n",
       "      <td>MsRhea Mike\\n\\n HEALTHY Wednesday Awareness\\n ...</td>\n",
       "      <td>False</td>\n",
       "      <td>{'has_extended_profile': False, 'listed_count'...</td>\n",
       "    </tr>\n",
       "    <tr>\n",
       "      <th>1975-11-14 05:10:19.793735680</th>\n",
       "      <td>None</td>\n",
       "      <td>None</td>\n",
       "      <td>Thu Mar 29 01:17:33 +0000 2012</td>\n",
       "      <td>{'hashtags': [], 'symbols': [], 'user_mentions...</td>\n",
       "      <td>NaN</td>\n",
       "      <td>0</td>\n",
       "      <td>False</td>\n",
       "      <td>None</td>\n",
       "      <td>185173819793735680</td>\n",
       "      <td>185173819793735680</td>\n",
       "      <td>...</td>\n",
       "      <td>NaN</td>\n",
       "      <td>NaN</td>\n",
       "      <td>NaN</td>\n",
       "      <td>1</td>\n",
       "      <td>False</td>\n",
       "      <td>NaN</td>\n",
       "      <td>&lt;a href=\"http://twitter.com\" rel=\"nofollow\"&gt;Tw...</td>\n",
       "      <td>If someone tells you that \"everybody\" has HPV ...</td>\n",
       "      <td>False</td>\n",
       "      <td>{'has_extended_profile': False, 'listed_count'...</td>\n",
       "    </tr>\n",
       "    <tr>\n",
       "      <th>1975-11-16 15:35:26.382215169</th>\n",
       "      <td>None</td>\n",
       "      <td>None</td>\n",
       "      <td>Thu Mar 29 15:13:14 +0000 2012</td>\n",
       "      <td>{'hashtags': [], 'symbols': [], 'user_mentions...</td>\n",
       "      <td>NaN</td>\n",
       "      <td>0</td>\n",
       "      <td>False</td>\n",
       "      <td>None</td>\n",
       "      <td>185384126382215169</td>\n",
       "      <td>185384126382215169</td>\n",
       "      <td>...</td>\n",
       "      <td>NaN</td>\n",
       "      <td>NaN</td>\n",
       "      <td>NaN</td>\n",
       "      <td>0</td>\n",
       "      <td>False</td>\n",
       "      <td>NaN</td>\n",
       "      <td>&lt;a href=\"http://twitter.com\" rel=\"nofollow\"&gt;Tw...</td>\n",
       "      <td>@vester71 pap smear?</td>\n",
       "      <td>False</td>\n",
       "      <td>{'has_extended_profile': False, 'listed_count'...</td>\n",
       "    </tr>\n",
       "    <tr>\n",
       "      <th>1975-11-16 19:23:57.574582272</th>\n",
       "      <td>None</td>\n",
       "      <td>None</td>\n",
       "      <td>Thu Mar 29 16:07:43 +0000 2012</td>\n",
       "      <td>{'hashtags': [{'indices': [21, 24], 'text': 'x...</td>\n",
       "      <td>NaN</td>\n",
       "      <td>0</td>\n",
       "      <td>False</td>\n",
       "      <td>None</td>\n",
       "      <td>185397837574582272</td>\n",
       "      <td>185397837574582272</td>\n",
       "      <td>...</td>\n",
       "      <td>NaN</td>\n",
       "      <td>NaN</td>\n",
       "      <td>NaN</td>\n",
       "      <td>0</td>\n",
       "      <td>False</td>\n",
       "      <td>NaN</td>\n",
       "      <td>&lt;a href=\"http://twitter.com/download/android\" ...</td>\n",
       "      <td>@maja_berge gardasil?#x1</td>\n",
       "      <td>False</td>\n",
       "      <td>{'has_extended_profile': False, 'listed_count'...</td>\n",
       "    </tr>\n",
       "  </tbody>\n",
       "</table>\n",
       "<p>5 rows × 29 columns</p>\n",
       "</div>"
      ],
      "text/plain": [
       "                              contributors coordinates  \\\n",
       "1975-11-13 00:33:36.092880896         None        None   \n",
       "1975-11-13 07:38:08.109461507         None        None   \n",
       "1975-11-14 05:10:19.793735680         None        None   \n",
       "1975-11-16 15:35:26.382215169         None        None   \n",
       "1975-11-16 19:23:57.574582272         None        None   \n",
       "\n",
       "                                                   created_at  \\\n",
       "1975-11-13 00:33:36.092880896  Wed Mar 28 18:28:15 +0000 2012   \n",
       "1975-11-13 07:38:08.109461507  Wed Mar 28 20:09:28 +0000 2012   \n",
       "1975-11-14 05:10:19.793735680  Thu Mar 29 01:17:33 +0000 2012   \n",
       "1975-11-16 15:35:26.382215169  Thu Mar 29 15:13:14 +0000 2012   \n",
       "1975-11-16 19:23:57.574582272  Thu Mar 29 16:07:43 +0000 2012   \n",
       "\n",
       "                                                                        entities  \\\n",
       "1975-11-13 00:33:36.092880896  {'hashtags': [], 'symbols': [], 'user_mentions...   \n",
       "1975-11-13 07:38:08.109461507  {'hashtags': [], 'symbols': [], 'user_mentions...   \n",
       "1975-11-14 05:10:19.793735680  {'hashtags': [], 'symbols': [], 'user_mentions...   \n",
       "1975-11-16 15:35:26.382215169  {'hashtags': [], 'symbols': [], 'user_mentions...   \n",
       "1975-11-16 19:23:57.574582272  {'hashtags': [{'indices': [21, 24], 'text': 'x...   \n",
       "\n",
       "                              extended_entities favorite_count favorited  \\\n",
       "1975-11-13 00:33:36.092880896               NaN              0     False   \n",
       "1975-11-13 07:38:08.109461507               NaN              0     False   \n",
       "1975-11-14 05:10:19.793735680               NaN              0     False   \n",
       "1975-11-16 15:35:26.382215169               NaN              0     False   \n",
       "1975-11-16 19:23:57.574582272               NaN              0     False   \n",
       "\n",
       "                                geo                  id              id_str  \\\n",
       "1975-11-13 00:33:36.092880896  None  185070816092880896  185070816092880896   \n",
       "1975-11-13 07:38:08.109461507  None  185096288109461507  185096288109461507   \n",
       "1975-11-14 05:10:19.793735680  None  185173819793735680  185173819793735680   \n",
       "1975-11-16 15:35:26.382215169  None  185384126382215169  185384126382215169   \n",
       "1975-11-16 19:23:57.574582272  None  185397837574582272  185397837574582272   \n",
       "\n",
       "                                                     ...                          \\\n",
       "1975-11-13 00:33:36.092880896                        ...                           \n",
       "1975-11-13 07:38:08.109461507                        ...                           \n",
       "1975-11-14 05:10:19.793735680                        ...                           \n",
       "1975-11-16 15:35:26.382215169                        ...                           \n",
       "1975-11-16 19:23:57.574582272                        ...                           \n",
       "\n",
       "                              quoted_status quoted_status_id  \\\n",
       "1975-11-13 00:33:36.092880896           NaN              NaN   \n",
       "1975-11-13 07:38:08.109461507           NaN              NaN   \n",
       "1975-11-14 05:10:19.793735680           NaN              NaN   \n",
       "1975-11-16 15:35:26.382215169           NaN              NaN   \n",
       "1975-11-16 19:23:57.574582272           NaN              NaN   \n",
       "\n",
       "                              quoted_status_id_str retweet_count retweeted  \\\n",
       "1975-11-13 00:33:36.092880896                  NaN             0     False   \n",
       "1975-11-13 07:38:08.109461507                  NaN             0     False   \n",
       "1975-11-14 05:10:19.793735680                  NaN             1     False   \n",
       "1975-11-16 15:35:26.382215169                  NaN             0     False   \n",
       "1975-11-16 19:23:57.574582272                  NaN             0     False   \n",
       "\n",
       "                              retweeted_status  \\\n",
       "1975-11-13 00:33:36.092880896              NaN   \n",
       "1975-11-13 07:38:08.109461507              NaN   \n",
       "1975-11-14 05:10:19.793735680              NaN   \n",
       "1975-11-16 15:35:26.382215169              NaN   \n",
       "1975-11-16 19:23:57.574582272              NaN   \n",
       "\n",
       "                                                                          source  \\\n",
       "1975-11-13 00:33:36.092880896  <a href=\"http://twitter.com\" rel=\"nofollow\">Tw...   \n",
       "1975-11-13 07:38:08.109461507  <a href=\"http://www.facebook.com/twitter\" rel=...   \n",
       "1975-11-14 05:10:19.793735680  <a href=\"http://twitter.com\" rel=\"nofollow\">Tw...   \n",
       "1975-11-16 15:35:26.382215169  <a href=\"http://twitter.com\" rel=\"nofollow\">Tw...   \n",
       "1975-11-16 19:23:57.574582272  <a href=\"http://twitter.com/download/android\" ...   \n",
       "\n",
       "                                                                            text  \\\n",
       "1975-11-13 00:33:36.092880896  Just informed by a 26 year old  Human papillom...   \n",
       "1975-11-13 07:38:08.109461507  MsRhea Mike\\n\\n HEALTHY Wednesday Awareness\\n ...   \n",
       "1975-11-14 05:10:19.793735680  If someone tells you that \"everybody\" has HPV ...   \n",
       "1975-11-16 15:35:26.382215169                               @vester71 pap smear?   \n",
       "1975-11-16 19:23:57.574582272                           @maja_berge gardasil?#x1   \n",
       "\n",
       "                              truncated  \\\n",
       "1975-11-13 00:33:36.092880896     False   \n",
       "1975-11-13 07:38:08.109461507     False   \n",
       "1975-11-14 05:10:19.793735680     False   \n",
       "1975-11-16 15:35:26.382215169     False   \n",
       "1975-11-16 19:23:57.574582272     False   \n",
       "\n",
       "                                                                            user  \n",
       "1975-11-13 00:33:36.092880896  {'has_extended_profile': False, 'listed_count'...  \n",
       "1975-11-13 07:38:08.109461507  {'has_extended_profile': False, 'listed_count'...  \n",
       "1975-11-14 05:10:19.793735680  {'has_extended_profile': False, 'listed_count'...  \n",
       "1975-11-16 15:35:26.382215169  {'has_extended_profile': False, 'listed_count'...  \n",
       "1975-11-16 19:23:57.574582272  {'has_extended_profile': False, 'listed_count'...  \n",
       "\n",
       "[5 rows x 29 columns]"
      ]
     },
     "execution_count": 4,
     "metadata": {},
     "output_type": "execute_result"
    }
   ],
   "source": [
    "tweet_df.head()"
   ]
  },
  {
   "cell_type": "code",
   "execution_count": 5,
   "metadata": {
    "collapsed": false
   },
   "outputs": [
    {
     "data": {
      "text/plain": [
       "Index(['contributors', 'coordinates', 'created_at', 'entities',\n",
       "       'extended_entities', 'favorite_count', 'favorited', 'geo', 'id',\n",
       "       'id_str', 'in_reply_to_screen_name', 'in_reply_to_status_id',\n",
       "       'in_reply_to_status_id_str', 'in_reply_to_user_id',\n",
       "       'in_reply_to_user_id_str', 'is_quote_status', 'lang', 'place',\n",
       "       'possibly_sensitive', 'quoted_status', 'quoted_status_id',\n",
       "       'quoted_status_id_str', 'retweet_count', 'retweeted',\n",
       "       'retweeted_status', 'source', 'text', 'truncated', 'user'],\n",
       "      dtype='object')"
      ]
     },
     "execution_count": 5,
     "metadata": {},
     "output_type": "execute_result"
    }
   ],
   "source": [
    "tweet_df.columns"
   ]
  },
  {
   "cell_type": "markdown",
   "metadata": {},
   "source": [
    "### Note that the \"retweeted\" flag is *uniformly* False in this dataset."
   ]
  },
  {
   "cell_type": "code",
   "execution_count": 6,
   "metadata": {
    "collapsed": false
   },
   "outputs": [
    {
     "name": "stdout",
     "output_type": "stream",
     "text": [
      "# primary tweets: 13484; # retweets: 0\n"
     ]
    }
   ],
   "source": [
    "primary_tweets = tweet_df[tweet_df[\"retweeted\"] == False]\n",
    "retweets = tweet_df[tweet_df[\"retweeted\"] == True]\n",
    "print(\"# primary tweets: %s; # retweets: %s\" % (\n",
    "        len(primary_tweets), len(retweets)))"
   ]
  },
  {
   "cell_type": "markdown",
   "metadata": {},
   "source": [
    "### Here I try and predict the number of retweets as a function of the number of followers one has. \n",
    "\n",
    "Assumptions and caveats: \n",
    "* The number of followers of the user who issued the *original* tweet is in the field 'retweeted_status':'user':''followers_count'. But note that often the retweeted_status is missing! e.g., see immediately below.\n",
    "\n",
    "* Furthermore, \n"
   ]
  },
  {
   "cell_type": "code",
   "execution_count": 7,
   "metadata": {
    "collapsed": false
   },
   "outputs": [
    {
     "data": {
      "text/plain": [
       "True"
      ]
     },
     "execution_count": 7,
     "metadata": {},
     "output_type": "execute_result"
    }
   ],
   "source": [
    "pd.isnull(primary_tweets[\"retweeted_status\"].values[0])"
   ]
  },
  {
   "cell_type": "code",
   "execution_count": 8,
   "metadata": {
    "collapsed": false
   },
   "outputs": [],
   "source": [
    "# grab the tweets for which 'retweeted_status' is NOT NaN.\n",
    "retweeted_status_tweets = primary_tweets[pd.notnull(primary_tweets[\"retweeted_status\"])]"
   ]
  },
  {
   "cell_type": "markdown",
   "metadata": {},
   "source": [
    "Looks like we've got ~4000 of these."
   ]
  },
  {
   "cell_type": "code",
   "execution_count": 9,
   "metadata": {
    "collapsed": false
   },
   "outputs": [
    {
     "data": {
      "text/plain": [
       "(4003, 29)"
      ]
     },
     "execution_count": 9,
     "metadata": {},
     "output_type": "execute_result"
    }
   ],
   "source": [
    "retweeted_status_tweets.shape"
   ]
  },
  {
   "cell_type": "code",
   "execution_count": 10,
   "metadata": {
    "collapsed": false
   },
   "outputs": [],
   "source": [
    "retweet_statuses = retweeted_status_tweets[\"retweeted_status\"]"
   ]
  },
  {
   "cell_type": "code",
   "execution_count": 11,
   "metadata": {
    "collapsed": false
   },
   "outputs": [],
   "source": [
    "X,y = [], []\n",
    "for retweet_status in retweet_statuses:\n",
    "    X.append(retweet_status[\"user\"][\"followers_count\"])\n",
    "    y.append(retweet_status[\"retweet_count\"])"
   ]
  },
  {
   "cell_type": "markdown",
   "metadata": {},
   "source": [
    "I print out stats below; note that (apparently) the mean number of followers here is 580243! This seems (suspiciously) large to me? The range is (12, 2.4 mil)."
   ]
  },
  {
   "cell_type": "code",
   "execution_count": 12,
   "metadata": {
    "collapsed": false
   },
   "outputs": [
    {
     "name": "stdout",
     "output_type": "stream",
     "text": [
      "DescribeResult(nobs=4003, minmax=(12, 24351297), mean=580243.18236322759, variance=4096598958980.5522, skewness=6.492507656557192, kurtosis=56.436307988424254)\n"
     ]
    }
   ],
   "source": [
    "print(sp.stats.describe(X))"
   ]
  },
  {
   "cell_type": "markdown",
   "metadata": {},
   "source": [
    "Re-tweet counts, meanwhile, seem sane."
   ]
  },
  {
   "cell_type": "code",
   "execution_count": 13,
   "metadata": {
    "collapsed": false
   },
   "outputs": [
    {
     "name": "stdout",
     "output_type": "stream",
     "text": [
      "DescribeResult(nobs=4003, minmax=(1, 1588), mean=69.985011241568827, variance=46464.207671332952, skewness=4.976284326773306, kurtosis=26.46980446858595)\n"
     ]
    }
   ],
   "source": [
    "print(sp.stats.describe(y))"
   ]
  },
  {
   "cell_type": "code",
   "execution_count": 14,
   "metadata": {
    "collapsed": false
   },
   "outputs": [
    {
     "name": "stdout",
     "output_type": "stream",
     "text": [
      "X shape: (4003, 1); y shape: (4003,)\n"
     ]
    }
   ],
   "source": [
    "# prepare data for statsmodels\n",
    "X = np.matrix(X).T\n",
    "y = np.array(y)\n",
    "print(\"X shape: %s; y shape: %s\" % (X.shape, y.shape))"
   ]
  },
  {
   "cell_type": "markdown",
   "metadata": {},
   "source": [
    "Now fit the model; again this is just using the raw number of followers as the independent var and the retweet count as the dependent."
   ]
  },
  {
   "cell_type": "code",
   "execution_count": 15,
   "metadata": {
    "collapsed": false
   },
   "outputs": [
    {
     "name": "stdout",
     "output_type": "stream",
     "text": [
      "                            OLS Regression Results                            \n",
      "==============================================================================\n",
      "Dep. Variable:                      y   R-squared:                       0.126\n",
      "Model:                            OLS   Adj. R-squared:                  0.126\n",
      "Method:                 Least Squares   F-statistic:                     577.4\n",
      "Date:                Tue, 01 Mar 2016   Prob (F-statistic):          2.66e-119\n",
      "Time:                        10:28:03   Log-Likelihood:                -26919.\n",
      "No. Observations:                4003   AIC:                         5.384e+04\n",
      "Df Residuals:                    4001   BIC:                         5.385e+04\n",
      "Df Model:                           1                                         \n",
      "Covariance Type:            nonrobust                                         \n",
      "==============================================================================\n",
      "                 coef    std err          t      P>|t|      [95.0% Conf. Int.]\n",
      "------------------------------------------------------------------------------\n",
      "const         48.0393      3.314     14.498      0.000        41.543    54.536\n",
      "x1          3.782e-05   1.57e-06     24.030      0.000      3.47e-05  4.09e-05\n",
      "==============================================================================\n",
      "Omnibus:                     3413.885   Durbin-Watson:                   0.785\n",
      "Prob(Omnibus):                  0.000   Jarque-Bera (JB):            91832.622\n",
      "Skew:                           4.064   Prob(JB):                         0.00\n",
      "Kurtosis:                      25.012   Cond. No.                     2.19e+06\n",
      "==============================================================================\n",
      "\n",
      "Warnings:\n",
      "[1] Standard Errors assume that the covariance matrix of the errors is correctly specified.\n",
      "[2] The condition number is large, 2.19e+06. This might indicate that there are\n",
      "strong multicollinearity or other numerical problems.\n"
     ]
    }
   ],
   "source": [
    "user_model = sm.OLS(y, sm.add_constant(X, prepend=True))\n",
    "user_only_results = user_model.fit()\n",
    "print(user_only_results.summary())"
   ]
  },
  {
   "cell_type": "markdown",
   "metadata": {},
   "source": [
    "So this looks far saner than the previous results; the number of followers has a slight positive correlation with the number of retweets. "
   ]
  },
  {
   "cell_type": "code",
   "execution_count": 16,
   "metadata": {
    "collapsed": false
   },
   "outputs": [
    {
     "data": {
      "image/png": "[encoded data removed]",
      "text/plain": [
       "<matplotlib.figure.Figure at 0x12ee02e80>"
      ]
     },
     "metadata": {},
     "output_type": "display_data"
    }
   ],
   "source": [
    "yhat = user_only_results.fittedvalues\n",
    "fig, ax = plt.subplots()\n",
    "ax.scatter(yhat, y)\n",
    "ax.set_xlabel(\"predicted\")\n",
    "ax.set_ylabel(\"true\")\n",
    "ax.set_ylim((0,2000))\n",
    "ax.set_xlim((0,600)) # excluding some outliers here\n",
    "line_fit = sm.OLS(y,sm.add_constant(yhat, prepend=True)).fit()\n",
    "fitted_plot = abline_plot(model_results=line_fit, ax=ax)"
   ]
  },
  {
   "cell_type": "markdown",
   "metadata": {},
   "source": [
    "Now introduce text features (simple unigrams for now) as well. Because we only have 4k examples here, I severely limit predictor set (to 500 most frequent words)."
   ]
  },
  {
   "cell_type": "code",
   "execution_count": 17,
   "metadata": {
    "collapsed": false
   },
   "outputs": [
    {
     "data": {
      "text/plain": [
       "(4003, 500)"
      ]
     },
     "execution_count": 17,
     "metadata": {},
     "output_type": "execute_result"
    }
   ],
   "source": [
    "## \n",
    "# build text features. \n",
    "vectorizer = sklearn.feature_extraction.text.CountVectorizer(binary=True, \n",
    "                                        stop_words=\"english\", max_features=500, min_df=5)\n",
    "X_text = vectorizer.fit_transform(retweeted_status_tweets[\"text\"])\n",
    "X_text.shape"
   ]
  },
  {
   "cell_type": "code",
   "execution_count": 18,
   "metadata": {
    "collapsed": false
   },
   "outputs": [],
   "source": [
    "# build\n",
    "X_all  = X_text.copy().todense()\n",
    "X_user_normed = X/X.max()\n",
    "X_user_normed = sm.add_constant(X_user_normed, prepend=True)\n",
    "X_all  = np.hstack((X_user_normed, X_all))"
   ]
  },
  {
   "cell_type": "code",
   "execution_count": 19,
   "metadata": {
    "collapsed": false
   },
   "outputs": [],
   "source": [
    "indices_to_tokens = dict(zip(list(vectorizer.vocabulary_.values()), list(vectorizer.vocabulary_)))"
   ]
  },
  {
   "cell_type": "code",
   "execution_count": 20,
   "metadata": {
    "collapsed": true
   },
   "outputs": [],
   "source": [
    "X_all_df = pd.DataFrame(X_all)\n",
    "words = [indices_to_tokens[idx] for idx in range(X_text.shape[1])]\n",
    "col_names = [\"intercept\", \"followers\"]\n",
    "col_names.extend(words)\n",
    "X_all_df.columns = col_names"
   ]
  },
  {
   "cell_type": "code",
   "execution_count": 21,
   "metadata": {
    "collapsed": false
   },
   "outputs": [
    {
     "name": "stdout",
     "output_type": "stream",
     "text": [
      "                            OLS Regression Results                            \n",
      "==============================================================================\n",
      "Dep. Variable:                      y   R-squared:                       0.838\n",
      "Model:                            OLS   Adj. R-squared:                  0.815\n",
      "Method:                 Least Squares   F-statistic:                     36.87\n",
      "Date:                Tue, 01 Mar 2016   Prob (F-statistic):               0.00\n",
      "Time:                        10:28:04   Log-Likelihood:                -23547.\n",
      "No. Observations:                4003   AIC:                         4.808e+04\n",
      "Df Residuals:                    3510   BIC:                         5.118e+04\n",
      "Df Model:                         492                                         \n",
      "Covariance Type:            nonrobust                                         \n",
      "====================================================================================\n",
      "                       coef    std err          t      P>|t|      [95.0% Conf. Int.]\n",
      "------------------------------------------------------------------------------------\n",
      "intercept        -1.143e+15    5.4e+14     -2.116      0.034      -2.2e+15 -8.38e+13\n",
      "followers          422.4662     24.624     17.157      0.000       374.187   470.745\n",
      "000                -15.2251     18.860     -0.807      0.420       -52.204    21.753\n",
      "10                  17.5046     15.284      1.145      0.252       -12.461    47.471\n",
      "100                 16.1186     26.688      0.604      0.546       -36.206    68.444\n",
      "11                  37.0216     21.427      1.728      0.084        -4.988    79.031\n",
      "12                  -7.8037     18.533     -0.421      0.674       -44.141    28.533\n",
      "13                 -17.0052     23.609     -0.720      0.471       -63.293    29.283\n",
      "15                 -19.0396     27.749     -0.686      0.493       -73.445    35.365\n",
      "16                  19.5899     21.840      0.897      0.370       -23.230    62.409\n",
      "18                 -13.9965     25.042     -0.559      0.576       -63.095    35.102\n",
      "19                 105.0561     22.510      4.667      0.000        60.921   149.191\n",
      "20                  43.1134     21.950      1.964      0.050         0.077    86.150\n",
      "2012                95.5540     33.776      2.829      0.005        29.331   161.777\n",
      "2014                33.2109     22.667      1.465      0.143       -11.231    77.653\n",
      "21                  -1.9856     29.896     -0.066      0.947       -60.601    56.629\n",
      "25                  -9.3626     20.721     -0.452      0.651       -49.989    31.264\n",
      "26                  -7.5415     25.817     -0.292      0.770       -58.159    43.076\n",
      "30                 -33.4877     22.008     -1.522      0.128       -76.637     9.662\n",
      "50                  21.1615     23.431      0.903      0.367       -24.779    67.102\n",
      "65                  32.8644     27.409      1.199      0.231       -20.875    86.604\n",
      "70                 -19.6669     27.432     -0.717      0.473       -73.451    34.117\n",
      "80                 -15.1481     23.139     -0.655      0.513       -60.515    30.219\n",
      "90                 -33.3366     24.789     -1.345      0.179       -81.938    15.265\n",
      "93                  51.0542     30.940      1.650      0.099        -9.608   111.716\n",
      "abnormal            82.9810     27.018      3.071      0.002        30.009   135.953\n",
      "aca                  3.7583     41.456      0.091      0.928       -77.523    85.039\n",
      "access             -82.3056     22.751     -3.618      0.000      -126.913   -37.698\n",
      "action             -20.9383     24.708     -0.847      0.397       -69.382    27.505\n",
      "active             -29.5639     48.120     -0.614      0.539      -123.911    64.783\n",
      "adalah             -34.5751     28.568     -1.210      0.226       -90.586    21.436\n",
      "adolescentes       -11.3662     29.255     -0.389      0.698       -68.724    45.992\n",
      "adverse            -10.3327     24.196     -0.427      0.669       -57.772    37.107\n",
      "affordable         -79.4086    101.282     -0.784      0.433      -277.986   119.169\n",
      "africa              35.9218     24.252      1.481      0.139       -11.628    83.472\n",
      "age                -26.7001     15.909     -1.678      0.093       -57.891     4.491\n",
      "aged                -0.3252     26.589     -0.012      0.990       -52.456    51.805\n",
      "ages               -33.2937     36.514     -0.912      0.362      -104.884    38.296\n",
      "amp                 -7.7251      6.382     -1.210      0.226       -20.238     4.788\n",
      "anal                 8.4387     26.859      0.314      0.753       -44.223    61.100\n",
      "annual               6.5454     28.548      0.229      0.819       -49.427    62.518\n",
      "anos                78.1274     29.740      2.627      0.009        19.817   136.437\n",
      "anti                12.4494     25.522      0.488      0.626       -37.590    62.488\n",
      "aren                35.1869     24.565      1.432      0.152       -12.976    83.350\n",
      "article             -5.2490     21.737     -0.241      0.809       -47.867    37.369\n",
      "ask                 12.0499     27.865      0.432      0.665       -42.584    66.684\n",
      "australia           -8.7030     26.249     -0.332      0.740       -60.167    42.761\n",
      "awareness           -2.5575     13.743     -0.186      0.852       -29.503    24.388\n",
      "bad                 29.6453     27.958      1.060      0.289       -25.171    84.461\n",
      "bankrupt          3.232e+12   1.53e+12      2.116      0.034      2.37e+11  6.23e+12\n",
      "belum               69.7286     31.140      2.239      0.025         8.675   130.782\n",
      "benefit            -20.5941     24.089     -0.855      0.393       -67.824    26.636\n",
      "best                 3.5817     27.331      0.131      0.896       -50.005    57.169\n",
      "better               3.9192     23.360      0.168      0.867       -41.882    49.720\n",
      "big                -13.3512     26.961     -0.495      0.620       -66.212    39.510\n",
      "birth              -10.1417     34.227     -0.296      0.767       -77.249    56.965\n",
      "blogdokter         -25.8459     20.172     -1.281      0.200       -65.397    13.705\n",
      "boys                -7.9338     10.013     -0.792      0.428       -27.565    11.697\n",
      "breaking            73.6645     28.780      2.560      0.011        17.237   130.092\n",
      "breast               6.8235     12.181      0.560      0.575       -17.060    30.706\n",
      "called               0.2175     25.013      0.009      0.993       -48.823    49.258\n",
      "campaign            -4.6277     17.806     -0.260      0.795       -39.539    30.283\n",
      "campanha             2.1293     22.394      0.095      0.924       -41.777    46.035\n",
      "cancer              -4.5015      7.819     -0.576      0.565       -19.831    10.828\n",
      "cancers            -13.4396     11.103     -1.211      0.226       -35.208     8.328\n",
      "care                17.4904     20.251      0.864      0.388       -22.215    57.196\n",
      "cases                1.9756     16.365      0.121      0.904       -30.110    34.061\n",
      "cause                7.7401     14.368      0.539      0.590       -20.431    35.911\n",
      "caused              19.2498     19.677      0.978      0.328       -19.329    57.829\n",
      "causes               7.1315     16.204      0.440      0.660       -24.638    38.901\n",
      "causing             27.9365     25.841      1.081      0.280       -22.728    78.601\n",
      "ccpw               -59.6110     28.145     -2.118      0.034      -114.793    -4.429\n",
      "cdc                -11.1703     17.456     -0.640      0.522       -45.396    23.055\n",
      "cdc_cancer         -19.7522     18.984     -1.040      0.298       -56.972    17.468\n",
      "cdcgov              25.7027     21.188      1.213      0.225       -15.840    67.245\n",
      "cdcstd             -12.5689     17.887     -0.703      0.482       -47.638    22.500\n",
      "cdcwhistleblower     2.1667     17.788      0.122      0.903       -32.709    37.042\n",
      "cells               11.2791     29.078      0.388      0.698       -45.732    68.291\n",
      "cervarix            -5.6021     21.661     -0.259      0.796       -48.072    36.868\n",
      "cervical            10.3033      8.693      1.185      0.236        -6.741    27.347\n",
      "cervicalcancer       0.1404     12.193      0.012      0.991       -23.766    24.047\n",
      "cervix              -6.6729     25.236     -0.264      0.791       -56.152    42.806\n",
      "change               0.7596     30.345      0.025      0.980       -58.735    60.254\n",
      "check               -9.9078     18.055     -0.549      0.583       -45.307    25.492\n",
      "child               24.7904     19.395      1.278      0.201       -13.237    62.817\n",
      "children            10.6374     26.186      0.406      0.685       -40.705    61.980\n",
      "clinic              -1.0466     27.967     -0.037      0.970       -55.881    53.787\n",
      "colo                41.8995     48.550      0.863      0.388       -53.290   137.089\n",
      "com                 36.9042     28.862      1.279      0.201       -19.684    93.492\n",
      "come                 3.9840     22.545      0.177      0.860       -40.219    48.187\n",
      "começa             -18.2007     25.345     -0.718      0.473       -67.894    31.493\n",
      "common               1.8076     15.958      0.113      0.910       -29.480    33.095\n",
      "contra              14.2687     12.781      1.116      0.264       -10.790    39.328\n",
      "contraception       15.6993     41.083      0.382      0.702       -64.850    96.248\n",
      "contre               7.7128     33.967      0.227      0.820       -58.885    74.310\n",
      "control             85.4528     32.103      2.662      0.008        22.510   148.396\n",
      "cost                14.6573     21.063      0.696      0.487       -26.639    55.953\n",
      "countries           12.4980     23.724      0.527      0.598       -34.017    59.013\n",
      "couric               9.0717     43.412      0.209      0.834       -76.043    94.186\n",
      "covered            -70.1048     29.083     -2.410      0.016      -127.126   -13.083\n",
      "cut                  8.0659     22.073      0.365      0.715       -35.212    51.344\n",
      "câncer              12.4947     26.794      0.466      0.641       -40.039    65.028\n",
      "da                  -4.8261     16.159     -0.299      0.765       -36.507    26.855\n",
      "dan                -24.0243     20.172     -1.191      0.234       -63.574    15.525\n",
      "dangerous           37.3768     19.323      1.934      0.053        -0.509    75.262\n",
      "daughter             2.2392     17.164      0.130      0.896       -31.413    35.892\n",
      "daughters            4.5367     24.151      0.188      0.851       -42.815    51.888\n",
      "day                 15.7780     20.104      0.785      0.433       -23.638    55.194\n",
      "deadly              28.3113     25.999      1.089      0.276       -22.663    79.286\n",
      "death              -23.9338     21.526     -1.112      0.266       -66.138    18.271\n",
      "deaths               4.8034     16.367      0.293      0.769       -27.286    36.893\n",
      "del                 14.8839     23.278      0.639      0.523       -30.756    60.524\n",
      "detect              -8.4312     23.260     -0.362      0.717       -54.036    37.174\n",
      "detection          -27.7592     23.686     -1.172      0.241       -74.198    18.680\n",
      "develop            -18.6574     29.492     -0.633      0.527       -76.480    39.165\n",
      "developed          -23.2303     30.112     -0.771      0.440       -82.269    35.809\n",
      "developing         -34.1614     24.580     -1.390      0.165       -82.354    14.032\n",
      "di                 -65.9017     22.667     -2.907      0.004      -110.344   -21.460\n",
      "dia                 15.6613     27.284      0.574      0.566       -37.832    69.155\n",
      "diagnosed           61.4269     17.584      3.493      0.000        26.951    95.903\n",
      "did                 63.9189     17.398      3.674      0.000        29.807    98.030\n",
      "didn                32.8502     23.722      1.385      0.166       -13.659    79.360\n",
      "die                -12.5894     18.550     -0.679      0.497       -48.959    23.780\n",
      "died                 2.8787     19.287      0.149      0.881       -34.935    40.693\n",
      "dies                77.7618     20.242      3.842      0.000        38.074   117.449\n",
      "disease            -28.1946     19.121     -1.475      0.140       -65.684     9.295\n",
      "doctor             -11.4872     17.903     -0.642      0.521       -46.588    23.614\n",
      "doctorchristian      9.8064     27.038      0.363      0.717       -43.206    62.819\n",
      "doctors            -25.2290     18.382     -1.372      0.170       -61.270    10.812\n",
      "does                -0.1188     15.996     -0.007      0.994       -31.482    31.244\n",
      "doesn              -11.5673     17.902     -0.646      0.518       -46.666    23.531\n",
      "don                  8.8032     11.610      0.758      0.448       -13.959    31.565\n",
      "dont               125.4428     26.498      4.734      0.000        73.489   177.397\n",
      "dos                -33.2076     29.401     -1.129      0.259       -90.852    24.437\n",
      "dose               -29.0034     20.471     -1.417      0.157       -69.140    11.133\n",
      "douglas             38.6446     60.354      0.640      0.522       -79.687   156.977\n",
      "dr                   2.5417     14.744      0.172      0.863       -26.366    31.449\n",
      "drbloem              7.2824     22.152      0.329      0.742       -36.150    50.715\n",
      "drfriedencdc        32.6181     23.653      1.379      0.168       -13.756    78.992\n",
      "drjengunter          6.3349     19.114      0.331      0.740       -31.141    43.811\n",
      "du                  -8.8411     28.738     -0.308      0.758       -65.187    47.504\n",
      "duniatahu         1.678e+12   7.93e+11      2.116      0.034      1.23e+11  3.23e+12\n",
      "early               26.4831     16.999      1.558      0.119        -6.846    59.812\n",
      "education          241.2877     49.093      4.915      0.000       145.035   337.541\n",
      "effective           64.7542     21.403      3.026      0.002        22.792   106.717\n",
      "effects            -15.1834     18.341     -0.828      0.408       -51.143    20.777\n",
      "el                 -10.3723     20.916     -0.496      0.620       -51.381    30.636\n",
      "em                 -25.4371     14.590     -1.743      0.081       -54.043     3.169\n",
      "en                 -23.5186     21.213     -1.109      0.268       -65.110    18.072\n",
      "encourage          -13.6453     28.729     -0.475      0.635       -69.972    42.681\n",
      "end                -19.6977     27.561     -0.715      0.475       -73.735    34.340\n",
      "enjoy               20.8868     68.749      0.304      0.761      -113.906   155.680\n",
      "es                  26.3513     29.557      0.892      0.373       -31.599    84.302\n",
      "eu                   1.9518     25.413      0.077      0.939       -47.874    51.778\n",
      "evidence            24.2772     23.599      1.029      0.304       -21.992    70.547\n",
      "exams                1.5930     25.145      0.063      0.949       -47.708    50.894\n",
      "fact                 3.4210     23.725      0.144      0.885       -43.095    49.937\n",
      "factors              4.8458     31.276      0.155      0.877       -56.476    66.167\n",
      "fda                -33.9057     20.504     -1.654      0.098       -74.106     6.295\n",
      "fight              -31.0464     20.826     -1.491      0.136       -71.879     9.787\n",
      "finds              -34.5666     22.195     -1.557      0.119       -78.083     8.950\n",
      "follow              21.4364     20.344      1.054      0.292       -18.451    61.324\n",
      "foxnews          -1.046e+13   4.94e+12     -2.116      0.034     -2.01e+13 -7.67e+11\n",
      "free                -7.6613     11.902     -0.644      0.520       -30.998    15.675\n",
      "friday              88.8481     31.739      2.799      0.005        26.620   151.076\n",
      "fun                  3.5838     48.818      0.073      0.941       -92.131    99.299\n",
      "gardasil             0.9915      7.640      0.130      0.897       -13.987    15.970\n",
      "gay                  9.8657     26.237      0.376      0.707       -41.576    61.307\n",
      "genital             18.4228     27.700      0.665      0.506       -35.887    72.732\n",
      "getting            -29.8712     13.856     -2.156      0.031       -57.039    -2.704\n",
      "girl                -9.6348     17.433     -0.553      0.581       -43.815    24.545\n",
      "girls                4.3496      7.857      0.554      0.580       -11.055    19.754\n",
      "given               -2.2243     24.895     -0.089      0.929       -51.035    46.587\n",
      "giving              18.7350     25.005      0.749      0.454       -30.292    67.762\n",
      "glitches          2.441e+12   1.15e+12      2.116      0.034      1.79e+11   4.7e+12\n",
      "going                6.8223     19.696      0.346      0.729       -31.795    45.439\n",
      "good                24.8461     20.653      1.203      0.229       -15.646    65.338\n",
      "gop                 60.0978     30.500      1.970      0.049         0.299   119.897\n",
      "got                 -0.1073     17.235     -0.006      0.995       -33.898    33.683\n",
      "government          -0.2244     26.789     -0.008      0.993       -52.748    52.299\n",
      "great              -16.7828     24.808     -0.677      0.499       -65.423    31.857\n",
      "gt                 -13.3003     15.440     -0.861      0.389       -43.572    16.971\n",
      "guidelines         -39.9278     27.499     -1.452      0.147       -93.843    13.988\n",
      "guy                212.0780     44.564      4.759      0.000       124.705   299.451\n",
      "half                -5.4339     27.945     -0.194      0.846       -60.224    49.356\n",
      "having             -30.1069     23.647     -1.273      0.203       -76.471    16.257\n",
      "head               -27.5059     42.498     -0.647      0.518      -110.830    55.818\n",
      "health               0.3520     10.480      0.034      0.973       -20.196    20.900\n",
      "healthy             68.9141     24.740      2.785      0.005        20.407   117.421\n",
      "hearing           2.392e+12   1.13e+12      2.116      0.034      1.75e+11  4.61e+12\n",
      "help                -5.2633     11.866     -0.444      0.657       -28.529    18.002\n",
      "helps              -47.5393     27.839     -1.708      0.088      -102.122     7.043\n",
      "herpes             -15.9334     29.631     -0.538      0.591       -74.028    42.162\n",
      "high                18.1078     18.778      0.964      0.335       -18.709    54.925\n",
      "higher             -19.9178     30.423     -0.655      0.513       -79.566    39.730\n",
      "hiv                -43.1893     18.084     -2.388      0.017       -78.645    -7.734\n",
      "hiv_insight          1.9861     27.014      0.074      0.941       -50.979    54.951\n",
      "hope                69.0037     31.526      2.189      0.029         7.192   130.816\n",
      "hospital             3.7143     46.121      0.081      0.936       -86.712    94.141\n",
      "hpv                 -1.8712      6.369     -0.294      0.769       -14.358    10.616\n",
      "ht                 -13.3455     18.290     -0.730      0.466       -49.206    22.515\n",
      "htt                  5.7784     15.058      0.384      0.701       -23.744    35.301\n",
      "http                 3.7092      4.112      0.902      0.367        -4.353    11.771\n",
      "https               38.5907     10.881      3.547      0.000        17.257    59.925\n",
      "human              -27.9929     25.288     -1.107      0.268       -77.573    21.588\n",
      "humano             -32.3957     39.956     -0.811      0.418      -110.735    45.943\n",
      "important           25.2569     18.495      1.366      0.172       -11.006    61.520\n",
      "including           13.2133     24.934      0.530      0.596       -35.673    62.099\n",
      "increase             6.3288     20.941      0.302      0.763       -34.729    47.386\n",
      "india              -35.6425     25.248     -1.412      0.158       -85.144    13.859\n",
      "infected           110.6779     23.635      4.683      0.000        64.339   157.017\n",
      "infection           26.2950     13.760      1.911      0.056        -0.683    53.273\n",
      "infections           5.5108     20.075      0.275      0.784       -33.848    44.870\n",
      "infeksi             76.8109     31.444      2.443      0.015        15.160   138.462\n",
      "info                -6.3520     22.034     -0.288      0.773       -49.552    36.848\n",
      "infographic         27.5424     33.346      0.826      0.409       -37.836    92.921\n",
      "information         14.9380     26.786      0.558      0.577       -37.579    67.455\n",
      "injured             13.3985     27.772      0.482      0.630       -41.052    67.849\n",
      "interesting        141.2420     41.928      3.369      0.001        59.035   223.448\n",
      "isn                -24.1438     22.675     -1.065      0.287       -68.602    20.315\n",
      "jab                 -1.9832     23.910     -0.083      0.934       -48.862    44.895\n",
      "january            -16.4420     22.074     -0.745      0.456       -59.720    26.836\n",
      "japan               -4.7737     21.303     -0.224      0.823       -46.541    36.994\n",
      "join               -45.6874     22.121     -2.065      0.039       -89.058    -2.317\n",
      "jotrust             25.5448     14.913      1.713      0.087        -3.695    54.785\n",
      "just                -8.4802     11.332     -0.748      0.454       -30.697    13.737\n",
      "kanker              -9.4282     27.207     -0.347      0.729       -62.772    43.915\n",
      "katie               -3.1210     44.915     -0.069      0.945       -91.183    84.941\n",
      "kids                18.7983     16.699      1.126      0.260       -13.943    51.539\n",
      "kill               -21.9098     32.256     -0.679      0.497       -85.151    41.332\n",
      "killed               1.9081     32.115      0.059      0.953       -61.057    64.873\n",
      "know                -8.9640     11.348     -0.790      0.430       -31.213    13.285\n",
      "kutil              276.4555     40.092      6.895      0.000       197.849   355.062\n",
      "la                  15.5149     17.642      0.879      0.379       -19.075    50.105\n",
      "ladies               1.2464     16.627      0.075      0.940       -31.352    33.845\n",
      "las                 17.3669     28.863      0.602      0.547       -39.223    73.957\n",
      "le                  -0.2123     22.477     -0.009      0.992       -44.281    43.857\n",
      "lead                -8.6772     18.114     -0.479      0.632       -44.193    26.839\n",
      "leading             16.1283     29.380      0.549      0.583       -41.476    73.733\n",
      "learn               63.3757     15.823      4.005      0.000        32.353    94.399\n",
      "lebih              117.9347     40.600      2.905      0.004        38.333   197.537\n",
      "let                 -3.0240     22.366     -0.135      0.892       -46.875    40.827\n",
      "life                -2.9770     16.590     -0.179      0.858       -35.505    29.551\n",
      "like                -0.4290     13.537     -0.032      0.975       -26.971    26.113\n",
      "likely             -34.3030     18.688     -1.836      0.067       -70.944     2.338\n",
      "link               -11.8034     25.475     -0.463      0.643       -61.751    38.144\n",
      "linked               1.1824     18.935      0.062      0.950       -35.942    38.307\n",
      "lives                7.0782     21.329      0.332      0.740       -34.741    48.897\n",
      "living               2.7770     28.593      0.097      0.923       -53.283    58.837\n",
      "ll                 -35.4764     23.912     -1.484      0.138       -82.360    11.407\n",
      "lol                 -0.4736     27.131     -0.017      0.986       -53.669    52.721\n",
      "love                -3.7890     26.023     -0.146      0.884       -54.811    47.232\n",
      "low                -22.4269     19.676     -1.140      0.254       -61.005    16.151\n",
      "lower              -14.4937     25.150     -0.576      0.564       -63.804    34.816\n",
      "lt                  37.1026     30.053      1.235      0.217       -21.820    96.025\n",
      "mais                19.0447     21.324      0.893      0.372       -22.763    60.852\n",
      "make                83.6662     15.288      5.473      0.000        53.692   113.640\n",
      "males                7.6542     28.390      0.270      0.787       -48.008    63.317\n",
      "mammograms         157.5525     23.417      6.728      0.000       111.641   203.464\n",
      "manfaat           4.642e+11   2.19e+11      2.116      0.034       3.4e+10  8.94e+11\n",
      "market             149.9936     42.886      3.497      0.000        65.910   234.078\n",
      "mayoclinic         -32.7486     25.479     -1.285      0.199       -82.703    17.206\n",
      "medical             15.2069     21.400      0.711      0.477       -26.750    57.164\n",
      "men                 -5.4928     13.964     -0.393      0.694       -32.870    21.885\n",
      "menghindari       4.644e+11    2.2e+11      2.116      0.034      3.41e+10  8.95e+11\n",
      "meninas              0.1579     18.452      0.009      0.993       -36.019    36.335\n",
      "merck               -7.7079     15.840     -0.487      0.627       -38.764    23.348\n",
      "mercola             41.2854     28.044      1.472      0.141       -13.699    96.270\n",
      "michael             81.5116     61.883      1.317      0.188       -39.818   202.842\n",
      "mil                -46.2044     31.279     -1.477      0.140      -107.531    15.123\n",
      "million             -5.7491     25.899     -0.222      0.824       -56.528    45.030\n",
      "minsaude           -15.7016     29.523     -0.532      0.595       -73.585    42.181\n",
      "mom                -16.6177     25.932     -0.641      0.522       -67.461    34.226\n",
      "month               -2.7957     20.376     -0.137      0.891       -42.746    37.155\n",
      "mother               0.9229     19.894      0.046      0.963       -38.083    39.929\n",
      "msm                  1.4370     32.966      0.044      0.965       -63.197    66.071\n",
      "mulheres           -78.6569     30.222     -2.603      0.009      -137.912   -19.402\n",
      "multiple           -38.7331     28.861     -1.342      0.180       -95.320    17.854\n",
      "myb                688.1161    140.134      4.910      0.000       413.364   962.868\n",
      "na                 -41.5768     19.208     -2.165      0.030       -79.236    -3.917\n",
      "nairobi             31.9543     67.087      0.476      0.634       -99.579   163.487\n",
      "neck                46.4658     49.780      0.933      0.351       -51.135   144.066\n",
      "need                -1.6610     11.728     -0.142      0.887       -24.656    21.334\n",
      "new                  5.9906      9.494      0.631      0.528       -12.625    24.606\n",
      "news                 4.5496     14.627      0.311      0.756       -24.129    33.228\n",
      "nohb1282            20.0775     61.313      0.327      0.743      -100.135   140.290\n",
      "nytimes           -208.5510     33.351     -6.253      0.000      -273.940  -143.162\n",
      "não                -64.5767     25.680     -2.515      0.012      -114.926   -14.227\n",
      "obamacare          139.2618     28.398      4.904      0.000        83.584   194.939\n",
      "offering            -3.2036     35.766     -0.090      0.929       -73.328    66.921\n",
      "ok                  29.1935     28.477      1.025      0.305       -26.640    85.027\n",
      "old                -34.5418     20.520     -1.683      0.092       -74.773     5.690\n",
      "oral               -25.6450     17.478     -1.467      0.142       -59.914     8.623\n",
      "ovarian            -12.4919     26.748     -0.467      0.641       -64.934    39.951\n",
      "pada                20.5222     32.437      0.633      0.527       -43.076    84.120\n",
      "pap                 -3.0698     10.722     -0.286      0.775       -24.092    17.952\n",
      "papillomavirus       8.3800     29.048      0.288      0.773       -48.573    65.333\n",
      "papiloma            12.3695     41.335      0.299      0.765       -68.673    93.412\n",
      "pappiloma        -2.607e+12   1.23e+12     -2.116      0.034     -5.02e+12 -1.91e+11\n",
      "para               -33.1220     18.873     -1.755      0.079       -70.124     3.880\n",
      "parenthood       -7.352e+11   3.47e+11     -2.116      0.034     -1.42e+12 -5.39e+10\n",
      "parents             -6.6945     16.159     -0.414      0.679       -38.376    24.987\n",
      "partir             -46.5942     32.746     -1.423      0.155      -110.798    17.609\n",
      "partners            40.1567     29.124      1.379      0.168       -16.945    97.259\n",
      "patient            -50.7979     32.022     -1.586      0.113      -113.581    11.986\n",
      "patients            -1.9435     29.206     -0.067      0.947       -59.206    55.319\n",
      "pd                 -67.7417     36.430     -1.860      0.063      -139.167     3.684\n",
      "penyakit           145.8660     40.235      3.625      0.000        66.980   224.752\n",
      "people             -18.2465     16.637     -1.097      0.273       -50.865    14.372\n",
      "person             404.7624     31.600     12.809      0.000       342.807   466.718\n",
      "personal           301.7049     34.926      8.638      0.000       233.228   370.182\n",
      "petition            39.0790     26.452      1.477      0.140       -12.785    90.943\n",
      "planned           7.352e+11   3.47e+11      2.116      0.034      5.39e+10  1.42e+12\n",
      "pls                 16.7881     18.442      0.910      0.363       -19.369    52.945\n",
      "point               -6.5296     35.919     -0.182      0.856       -76.955    63.895\n",
      "por                -21.2597     26.522     -0.802      0.423       -73.259    30.740\n",
      "post                35.3862     19.134      1.849      0.064        -2.129    72.902\n",
      "pp                  25.1589     27.017      0.931      0.352       -27.813    78.130\n",
      "pre                -46.3716     28.403     -1.633      0.103      -102.059     9.316\n",
      "prevent             31.9013     11.012      2.897      0.004        10.311    53.492\n",
      "preventable         24.6091     19.470      1.264      0.206       -13.564    62.782\n",
      "prevented          -20.7968     22.236     -0.935      0.350       -64.393    22.799\n",
      "preventing         -13.4700     24.761     -0.544      0.586       -62.018    35.078\n",
      "prevention         -17.6173     12.271     -1.436      0.151       -41.677     6.442\n",
      "probably            94.1364     29.069      3.238      0.001        37.143   151.130\n",
      "program              0.6285     19.374      0.032      0.974       -37.357    38.614\n",
      "promote            -89.3355     26.997     -3.309      0.001      -142.266   -36.405\n",
      "prostate            12.3111     26.759      0.460      0.645       -40.153    64.776\n",
      "protect             -5.8501     15.841     -0.369      0.712       -36.908    25.208\n",
      "protection          24.5579     26.344      0.932      0.351       -27.094    76.209\n",
      "protects            13.1748     25.226      0.522      0.602       -36.285    62.634\n",
      "provides           -66.0745     36.757     -1.798      0.072      -138.142     5.993\n",
      "public              23.9964     22.289      1.077      0.282       -19.705    67.698\n",
      "push                10.1743     27.541      0.369      0.712       -43.825    64.173\n",
      "que                 -0.1993     13.714     -0.015      0.988       -27.088    26.690\n",
      "questions          -28.4726     26.203     -1.087      0.277       -79.847    22.902\n",
      "rahim              395.4730     23.484     16.840      0.000       349.430   441.516\n",
      "raise               51.3667     18.967      2.708      0.007        14.179    88.554\n",
      "rate                19.7251     23.718      0.832      0.406       -26.777    66.228\n",
      "rates               16.0405     14.592      1.099      0.272       -12.569    44.649\n",
      "ravioli            732.7112     83.137      8.813      0.000       569.709   895.713\n",
      "read                26.3398     16.275      1.618      0.106        -5.570    58.249\n",
      "real                 2.1523     27.078      0.079      0.937       -50.938    55.243\n",
      "really             -10.6459     27.968     -0.381      0.703       -65.481    44.189\n",
      "recommend            2.3357     27.611      0.085      0.933       -51.800    56.471\n",
      "recommended        150.5931     22.592      6.666      0.000       106.297   194.889\n",
      "reduce              10.2836     24.187      0.425      0.671       -37.138    57.705\n",
      "regular             60.6625     18.797      3.227      0.001        23.808    97.517\n",
      "related             29.0977     23.549      1.236      0.217       -17.074    75.269\n",
      "report             -10.6906     25.463     -0.420      0.675       -60.614    39.233\n",
      "reports              1.7999     26.670      0.067      0.946       -50.491    54.091\n",
      "research            26.5525     20.111      1.320      0.187       -12.879    65.984\n",
      "researchers         23.0552     27.684      0.833      0.405       -31.223    77.333\n",
      "results             -8.2745     24.535     -0.337      0.736       -56.380    39.831\n",
      "right              -10.6608     21.987     -0.485      0.628       -53.769    32.447\n",
      "risk               -17.1237     11.887     -1.440      0.150       -40.431     6.183\n",
      "risks              -13.8375     27.854     -0.497      0.619       -68.450    40.775\n",
      "robdelaney         450.5556     41.084     10.967      0.000       370.005   531.106\n",
      "rt                1.143e+15    5.4e+14      2.116      0.034      8.38e+13   2.2e+15\n",
      "safe                -7.9003     19.335     -0.409      0.683       -45.809    30.008\n",
      "safety               7.3559     22.883      0.321      0.748       -37.510    52.222\n",
      "said                 6.3641     20.513      0.310      0.756       -33.854    46.582\n",
      "sarahksilverman    716.1516     55.444     12.917      0.000       607.446   824.857\n",
      "saturday            16.9965     52.232      0.325      0.745       -85.412   119.405\n",
      "save                 4.4503     22.012      0.202      0.840       -38.708    47.609\n",
      "saved              -10.7840     34.841     -0.310      0.757       -79.095    57.527\n",
      "saves               36.8861     44.320      0.832      0.405       -50.009   123.781\n",
      "say                106.0945     22.238      4.771      0.000        62.494   149.695\n",
      "says                 2.2788     13.505      0.169      0.866       -24.200    28.758\n",
      "saúde               -8.9907     23.048     -0.390      0.696       -54.179    36.198\n",
      "sb277               21.3389     25.781      0.828      0.408       -29.208    71.886\n",
      "school              -9.5494     24.200     -0.395      0.693       -56.996    37.898\n",
      "schools             56.0223     26.132      2.144      0.032         4.787   107.257\n",
      "science             17.5231     21.909      0.800      0.424       -25.432    60.478\n",
      "screened             2.7059     21.496      0.126      0.900       -39.440    44.851\n",
      "screening           -6.3694      8.187     -0.778      0.437       -22.421     9.682\n",
      "screenings         153.6027     17.193      8.934      0.000       119.894   187.311\n",
      "se                  13.2374     18.532      0.714      0.475       -23.097    49.571\n",
      "seat               166.0233     80.159      2.071      0.038         8.861   323.186\n",
      "segunda              7.7589     24.368      0.318      0.750       -40.017    55.535\n",
      "ser                 -3.6547     28.276     -0.129      0.897       -59.094    51.785\n",
      "services            63.8237     27.278      2.340      0.019        10.341   117.307\n",
      "serviks            -59.9967     28.385     -2.114      0.035      -115.650    -4.343\n",
      "sex                 26.1822     13.848      1.891      0.059        -0.968    53.333\n",
      "sexual             -17.0237     15.914     -1.070      0.285       -48.225    14.178\n",
      "sexually           -12.8477     37.818     -0.340      0.734       -86.996    61.300\n",
      "share               65.2506     20.529      3.179      0.001        25.001   105.500\n",
      "shot                -1.9735     19.521     -0.101      0.919       -40.248    36.301\n",
      "shots              -19.3802     23.317     -0.831      0.406       -65.096    26.336\n",
      "shows              -11.4485     19.492     -0.587      0.557       -49.666    26.769\n",
      "sign               -13.5580     25.271     -0.536      0.592       -63.106    35.990\n",
      "signs               29.4364     28.268      1.041      0.298       -25.988    84.860\n",
      "smear               15.1924     10.872      1.397      0.162        -6.124    36.508\n",
      "smearforsmear      316.6288     20.186     15.686      0.000       277.052   356.205\n",
      "smears               4.3103     13.588      0.317      0.751       -22.330    30.951\n",
      "soon                 0.1149     28.774      0.004      0.997       -56.300    56.530\n",
      "spread             -17.4231     21.039     -0.828      0.408       -58.673    23.827\n",
      "stage              -13.2971     28.920     -0.460      0.646       -70.000    43.405\n",
      "star                43.8878     36.290      1.209      0.227       -27.265   115.040\n",
      "start              -14.5631     25.718     -0.566      0.571       -64.987    35.861\n",
      "started            -28.5291     29.050     -0.982      0.326       -85.486    28.427\n",
      "states              -9.0083     32.180     -0.280      0.780       -72.103    54.086\n",
      "stay                39.9730     33.586      1.190      0.234       -25.877   105.823\n",
      "std                 -8.3292     22.704     -0.367      0.714       -52.843    36.185\n",
      "stop                40.6006     20.144      2.015      0.044         1.105    80.096\n",
      "story               -0.3365     19.507     -0.017      0.986       -38.583    37.910\n",
      "strains            -43.1262     27.008     -1.597      0.110       -96.079     9.827\n",
      "students             9.1003     28.282      0.322      0.748       -46.351    64.551\n",
      "study               -0.8550     11.635     -0.073      0.941       -23.668    21.958\n",
      "sunat              -18.2878     99.675     -0.183      0.854      -213.714   177.139\n",
      "suntikan            18.4755     22.906      0.807      0.420       -26.435    63.387\n",
      "support             -0.9686     15.372     -0.063      0.950       -31.108    29.171\n",
      "supporting         -57.1702     29.053     -1.968      0.049      -114.134    -0.207\n",
      "sus                -41.7932     28.034     -1.491      0.136       -96.757    13.171\n",
      "symptoms           -56.6329     21.427     -2.643      0.008       -98.643   -14.622\n",
      "tahun               43.9063     28.969      1.516      0.130       -12.891   100.704\n",
      "talk                -3.6471     22.165     -0.165      0.869       -47.105    39.810\n",
      "teen                 0.9261     19.071      0.049      0.961       -36.466    38.318\n",
      "teens               23.7040     22.245      1.066      0.287       -19.911    67.319\n",
      "tell                -1.7218     25.797     -0.067      0.947       -52.300    48.856\n",
      "test               -22.4697     11.047     -2.034      0.042       -44.128    -0.811\n",
      "tested              30.7849     26.044      1.182      0.237       -20.279    81.848\n",
      "testing            -17.4224     17.337     -1.005      0.315       -51.415    16.570\n",
      "tests              -60.8964     13.665     -4.457      0.000       -87.688   -34.105\n",
      "thanks              -6.6872     17.788     -0.376      0.707       -41.563    28.188\n",
      "thenci              15.8096     19.252      0.821      0.412       -21.937    53.556\n",
      "thing              159.3972     22.652      7.037      0.000       114.984   203.810\n",
      "think               64.2251     18.333      3.503      0.000        28.280   100.170\n",
      "thousands           13.2738     26.683      0.497      0.619       -39.042    65.590\n",
      "throat             -24.6346     19.643     -1.254      0.210       -63.148    13.879\n",
      "time                -6.6726     17.243     -0.387      0.699       -40.480    27.135\n",
      "tobacco            -18.6580     34.029     -0.548      0.584       -85.376    48.060\n",
      "today                7.2781     13.377      0.544      0.586       -18.949    33.505\n",
      "toilet             -31.2711     78.541     -0.398      0.691      -185.261   122.719\n",
      "tomar               -4.2222     25.565     -0.165      0.869       -54.346    45.901\n",
      "tomorrow            11.6296     26.150      0.445      0.657       -39.641    62.901\n",
      "toronto            -22.1366     46.981     -0.471      0.638      -114.249    69.976\n",
      "torontostar         31.0654     23.735      1.309      0.191       -15.470    77.600\n",
      "transmitted         16.9367     37.396      0.453      0.651       -56.383    90.256\n",
      "treatment            9.3942     21.501      0.437      0.662       -32.761    51.549\n",
      "truth              -28.5982     26.440     -1.082      0.279       -80.438    23.242\n",
      "trying              42.1634     32.478      1.298      0.194       -21.515   105.842\n",
      "tu                  77.1047     29.349      2.627      0.009        19.562   134.647\n",
      "tx4vaxchoice        -1.3038     60.814     -0.021      0.983      -120.538   117.931\n",
      "txforvaxchoice      12.4283     34.013      0.365      0.715       -54.260    79.116\n",
      "types               13.5460     17.187      0.788      0.431       -20.151    47.243\n",
      "uk                  21.6811     20.761      1.044      0.296       -19.024    62.386\n",
      "um                  56.1726     28.278      1.986      0.047         0.729   111.616\n",
      "uma                -60.3657     28.675     -2.105      0.035      -116.587    -4.145\n",
      "untuk              -75.7372     26.375     -2.872      0.004      -127.449   -24.026\n",
      "use                 11.4949     28.066      0.410      0.682       -43.533    66.523\n",
      "used                 6.0310     29.807      0.202      0.840       -52.410    64.472\n",
      "vaccin             -10.4010     25.570     -0.407      0.684       -60.535    39.733\n",
      "vaccinate           26.7689     23.261      1.151      0.250       -18.837    72.374\n",
      "vaccinated           6.9153     16.177      0.427      0.669       -24.801    38.632\n",
      "vaccinating         -7.5365     26.530     -0.284      0.776       -59.553    44.480\n",
      "vaccination         -0.5595      8.936     -0.063      0.950       -18.080    16.961\n",
      "vaccinations       -10.6180     18.475     -0.575      0.566       -46.840    25.604\n",
      "vaccine             -9.0746      5.424     -1.673      0.094       -19.710     1.561\n",
      "vaccines            -3.6126      9.961     -0.363      0.717       -23.143    15.918\n",
      "vaccinexchange     -13.9056     25.662     -0.542      0.588       -64.220    36.409\n",
      "vacina               8.3554     13.525      0.618      0.537       -18.162    34.873\n",
      "vacinahpv           94.6273     38.602      2.451      0.014        18.943   170.312\n",
      "vacinação           -1.6529     17.328     -0.095      0.924       -35.626    32.320\n",
      "vacuna             -26.8154     24.596     -1.090      0.276       -75.040    21.409\n",
      "vai                 -6.0544     27.971     -0.216      0.829       -60.895    48.787\n",
      "vaksin             -32.6952     22.115     -1.478      0.139       -76.054    10.664\n",
      "vaksinasi          -41.5153     27.796     -1.494      0.135       -96.013    12.983\n",
      "vax                -26.3387     16.146     -1.631      0.103       -57.996     5.319\n",
      "vaxcalc             -7.9690     19.274     -0.413      0.679       -45.758    29.820\n",
      "ve                 -59.0024     27.252     -2.165      0.030      -112.435    -5.570\n",
      "video              -19.2897     21.442     -0.900      0.368       -61.329    22.750\n",
      "virus               16.8221     13.667      1.231      0.218        -9.974    43.618\n",
      "visit              -29.2314     28.645     -1.020      0.308       -85.393    26.930\n",
      "visits             552.1744     41.393     13.340      0.000       471.018   633.331\n",
      "vph                -24.5369     27.417     -0.895      0.371       -78.291    29.217\n",
      "vírus              -17.0072     24.117     -0.705      0.481       -64.291    30.277\n",
      "wanita              44.9288     32.533      1.381      0.167       -18.856   108.714\n",
      "want                61.8389     18.374      3.366      0.001        25.815    97.863\n",
      "wants               25.1736     28.207      0.892      0.372       -30.129    80.477\n",
      "warts               89.2748     32.720      2.728      0.006        25.123   153.426\n",
      "watch              -27.1176     24.165     -1.122      0.262       -74.497    20.262\n",
      "websites          2.392e+12   1.13e+12      2.116      0.034      1.75e+11  4.61e+12\n",
      "week                -9.4358     15.053     -0.627      0.531       -38.950    20.078\n",
      "woman               10.5937     14.012      0.756      0.450       -16.880    38.067\n",
      "women               19.8008      6.717      2.948      0.003         6.631    32.971\n",
      "womenshealth       -38.2984     27.117     -1.412      0.158       -91.465    14.868\n",
      "won                 56.3524     27.105      2.079      0.038         3.209   109.496\n",
      "word               -30.9238     31.437     -0.984      0.325       -92.561    30.713\n",
      "world                6.9069     15.810      0.437      0.662       -24.090    37.904\n",
      "worldcancerday     -23.1371     27.145     -0.852      0.394       -76.359    30.085\n",
      "worse               29.7799     50.422      0.591      0.555       -69.080   128.640\n",
      "wrong              -17.4890     26.122     -0.670      0.503       -68.705    33.727\n",
      "ya                  12.8360     28.476      0.451      0.652       -42.996    68.668\n",
      "yang               -10.9606     21.234     -0.516      0.606       -52.592    30.671\n",
      "year               -15.4157     13.813     -1.116      0.264       -42.499    11.667\n",
      "years               -7.4670     14.463     -0.516      0.606       -35.824    20.890\n",
      "yg                  11.0667     20.669      0.535      0.592       -29.457    51.591\n",
      "young                4.1191     13.089      0.315      0.753       -21.543    29.781\n",
      "yr                   9.3633     28.799      0.325      0.745       -47.102    65.829\n",
      "yrs                -80.8016     29.809     -2.711      0.007      -139.246   -22.357\n",
      "útero              186.8270     43.118      4.333      0.000       102.289   271.365\n",
      "==============================================================================\n",
      "Omnibus:                     1008.346   Durbin-Watson:                   1.594\n",
      "Prob(Omnibus):                  0.000   Jarque-Bera (JB):            46646.050\n",
      "Skew:                          -0.385   Prob(JB):                         0.00\n",
      "Kurtosis:                      19.706   Cond. No.                     1.18e+17\n",
      "==============================================================================\n",
      "\n",
      "Warnings:\n",
      "[1] Standard Errors assume that the covariance matrix of the errors is correctly specified.\n",
      "[2] The smallest eigenvalue is 8.91e-31. This might indicate that there are\n",
      "strong multicollinearity problems or that the design matrix is singular.\n"
     ]
    }
   ],
   "source": [
    "model_all = sm.OLS(y, X_all_df)\n",
    "results_all = model_all.fit()\n",
    "print(results_all.summary())"
   ]
  },
  {
   "cell_type": "code",
   "execution_count": 22,
   "metadata": {
    "collapsed": false
   },
   "outputs": [
    {
     "data": {
      "image/png": "[encoded data removed]",
      "text/plain": [
       "<matplotlib.figure.Figure at 0x12c915400>"
      ]
     },
     "metadata": {},
     "output_type": "display_data"
    }
   ],
   "source": [
    "yhat = results_all.fittedvalues\n",
    "fig, ax = plt.subplots()\n",
    "ax.scatter(yhat, y)\n",
    "ax.set_xlabel(\"predicted\")\n",
    "ax.set_ylabel(\"true\")\n",
    "ax.set_ylim((0,2000))\n",
    "ax.set_xlim((0,600)) # excluding some outliers here\n",
    "line_fit = sm.OLS(y,sm.add_constant(yhat, prepend=True)).fit()\n",
    "fitted_plot = abline_plot(model_results=line_fit, ax=ax)"
   ]
  },
  {
   "cell_type": "markdown",
   "metadata": {},
   "source": [
    "A note of caution, of course: this is certainly overfit! We have 500+ predictors and only 4k data points, so results to be taken with a large grain of salt."
   ]
  },
  {
   "cell_type": "code",
   "execution_count": null,
   "metadata": {
    "collapsed": true
   },
   "outputs": [],
   "source": []
  }
 ],
 "metadata": {
  "kernelspec": {
   "display_name": "Python 3",
   "language": "python",
   "name": "python3"
  },
  "language_info": {
   "codemirror_mode": {
    "name": "ipython",
    "version": 3
   },
   "file_extension": ".py",
   "mimetype": "text/x-python",
   "name": "python",
   "nbconvert_exporter": "python",
   "pygments_lexer": "ipython3",
   "version": "3.4.4"
  }
 },
 "nbformat": 4,
 "nbformat_minor": 0
}
